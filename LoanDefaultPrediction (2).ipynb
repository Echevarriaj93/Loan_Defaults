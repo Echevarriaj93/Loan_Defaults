{
  "nbformat": 4,
  "nbformat_minor": 0,
  "metadata": {
    "colab": {
      "provenance": []
    },
    "kernelspec": {
      "name": "python3",
      "display_name": "Python 3"
    },
    "language_info": {
      "name": "python"
    },
    "widgets": {
      "application/vnd.jupyter.widget-state+json": {
        "dfb1bf8f7c934c10bb9676697fb293ab": {
          "model_module": "@jupyter-widgets/controls",
          "model_name": "HBoxModel",
          "model_module_version": "1.5.0",
          "state": {
            "_dom_classes": [],
            "_model_module": "@jupyter-widgets/controls",
            "_model_module_version": "1.5.0",
            "_model_name": "HBoxModel",
            "_view_count": null,
            "_view_module": "@jupyter-widgets/controls",
            "_view_module_version": "1.5.0",
            "_view_name": "HBoxView",
            "box_style": "",
            "children": [
              "IPY_MODEL_805f796c3c4b4a9dbb1f826f28393cb4",
              "IPY_MODEL_79f9f879f1f94286818c42b224c09dca",
              "IPY_MODEL_cb88e7d369424f2e9ad5bd69d44744df"
            ],
            "layout": "IPY_MODEL_c3fc87e7339d4a1c904060d3165f6419"
          }
        },
        "805f796c3c4b4a9dbb1f826f28393cb4": {
          "model_module": "@jupyter-widgets/controls",
          "model_name": "HTMLModel",
          "model_module_version": "1.5.0",
          "state": {
            "_dom_classes": [],
            "_model_module": "@jupyter-widgets/controls",
            "_model_module_version": "1.5.0",
            "_model_name": "HTMLModel",
            "_view_count": null,
            "_view_module": "@jupyter-widgets/controls",
            "_view_module_version": "1.5.0",
            "_view_name": "HTMLView",
            "description": "",
            "description_tooltip": null,
            "layout": "IPY_MODEL_e8b09e08e8d946a8acf265e0c940d15c",
            "placeholder": "​",
            "style": "IPY_MODEL_815b52fba2c7476eb2ebd73971af0027",
            "value": "Summarize dataset:  17%"
          }
        },
        "79f9f879f1f94286818c42b224c09dca": {
          "model_module": "@jupyter-widgets/controls",
          "model_name": "FloatProgressModel",
          "model_module_version": "1.5.0",
          "state": {
            "_dom_classes": [],
            "_model_module": "@jupyter-widgets/controls",
            "_model_module_version": "1.5.0",
            "_model_name": "FloatProgressModel",
            "_view_count": null,
            "_view_module": "@jupyter-widgets/controls",
            "_view_module_version": "1.5.0",
            "_view_name": "ProgressView",
            "bar_style": "danger",
            "description": "",
            "description_tooltip": null,
            "layout": "IPY_MODEL_cc259a5c5578422b9785113889b59a2a",
            "max": 5,
            "min": 0,
            "orientation": "horizontal",
            "style": "IPY_MODEL_c4f54d83c3724480bbebb93ef56725dc",
            "value": 5
          }
        },
        "cb88e7d369424f2e9ad5bd69d44744df": {
          "model_module": "@jupyter-widgets/controls",
          "model_name": "HTMLModel",
          "model_module_version": "1.5.0",
          "state": {
            "_dom_classes": [],
            "_model_module": "@jupyter-widgets/controls",
            "_model_module_version": "1.5.0",
            "_model_name": "HTMLModel",
            "_view_count": null,
            "_view_module": "@jupyter-widgets/controls",
            "_view_module_version": "1.5.0",
            "_view_name": "HTMLView",
            "description": "",
            "description_tooltip": null,
            "layout": "IPY_MODEL_b45989e08f2c4737b4e6a0fb8282bb85",
            "placeholder": "​",
            "style": "IPY_MODEL_af561c6b204a48c6a76c0828fc1fa277",
            "value": " 76/442 [00:25&lt;02:01,  3.00it/s, scatter Total Current Balance, Loan Amount]"
          }
        },
        "c3fc87e7339d4a1c904060d3165f6419": {
          "model_module": "@jupyter-widgets/base",
          "model_name": "LayoutModel",
          "model_module_version": "1.2.0",
          "state": {
            "_model_module": "@jupyter-widgets/base",
            "_model_module_version": "1.2.0",
            "_model_name": "LayoutModel",
            "_view_count": null,
            "_view_module": "@jupyter-widgets/base",
            "_view_module_version": "1.2.0",
            "_view_name": "LayoutView",
            "align_content": null,
            "align_items": null,
            "align_self": null,
            "border": null,
            "bottom": null,
            "display": null,
            "flex": null,
            "flex_flow": null,
            "grid_area": null,
            "grid_auto_columns": null,
            "grid_auto_flow": null,
            "grid_auto_rows": null,
            "grid_column": null,
            "grid_gap": null,
            "grid_row": null,
            "grid_template_areas": null,
            "grid_template_columns": null,
            "grid_template_rows": null,
            "height": null,
            "justify_content": null,
            "justify_items": null,
            "left": null,
            "margin": null,
            "max_height": null,
            "max_width": null,
            "min_height": null,
            "min_width": null,
            "object_fit": null,
            "object_position": null,
            "order": null,
            "overflow": null,
            "overflow_x": null,
            "overflow_y": null,
            "padding": null,
            "right": null,
            "top": null,
            "visibility": null,
            "width": null
          }
        },
        "e8b09e08e8d946a8acf265e0c940d15c": {
          "model_module": "@jupyter-widgets/base",
          "model_name": "LayoutModel",
          "model_module_version": "1.2.0",
          "state": {
            "_model_module": "@jupyter-widgets/base",
            "_model_module_version": "1.2.0",
            "_model_name": "LayoutModel",
            "_view_count": null,
            "_view_module": "@jupyter-widgets/base",
            "_view_module_version": "1.2.0",
            "_view_name": "LayoutView",
            "align_content": null,
            "align_items": null,
            "align_self": null,
            "border": null,
            "bottom": null,
            "display": null,
            "flex": null,
            "flex_flow": null,
            "grid_area": null,
            "grid_auto_columns": null,
            "grid_auto_flow": null,
            "grid_auto_rows": null,
            "grid_column": null,
            "grid_gap": null,
            "grid_row": null,
            "grid_template_areas": null,
            "grid_template_columns": null,
            "grid_template_rows": null,
            "height": null,
            "justify_content": null,
            "justify_items": null,
            "left": null,
            "margin": null,
            "max_height": null,
            "max_width": null,
            "min_height": null,
            "min_width": null,
            "object_fit": null,
            "object_position": null,
            "order": null,
            "overflow": null,
            "overflow_x": null,
            "overflow_y": null,
            "padding": null,
            "right": null,
            "top": null,
            "visibility": null,
            "width": null
          }
        },
        "815b52fba2c7476eb2ebd73971af0027": {
          "model_module": "@jupyter-widgets/controls",
          "model_name": "DescriptionStyleModel",
          "model_module_version": "1.5.0",
          "state": {
            "_model_module": "@jupyter-widgets/controls",
            "_model_module_version": "1.5.0",
            "_model_name": "DescriptionStyleModel",
            "_view_count": null,
            "_view_module": "@jupyter-widgets/base",
            "_view_module_version": "1.2.0",
            "_view_name": "StyleView",
            "description_width": ""
          }
        },
        "cc259a5c5578422b9785113889b59a2a": {
          "model_module": "@jupyter-widgets/base",
          "model_name": "LayoutModel",
          "model_module_version": "1.2.0",
          "state": {
            "_model_module": "@jupyter-widgets/base",
            "_model_module_version": "1.2.0",
            "_model_name": "LayoutModel",
            "_view_count": null,
            "_view_module": "@jupyter-widgets/base",
            "_view_module_version": "1.2.0",
            "_view_name": "LayoutView",
            "align_content": null,
            "align_items": null,
            "align_self": null,
            "border": null,
            "bottom": null,
            "display": null,
            "flex": null,
            "flex_flow": null,
            "grid_area": null,
            "grid_auto_columns": null,
            "grid_auto_flow": null,
            "grid_auto_rows": null,
            "grid_column": null,
            "grid_gap": null,
            "grid_row": null,
            "grid_template_areas": null,
            "grid_template_columns": null,
            "grid_template_rows": null,
            "height": null,
            "justify_content": null,
            "justify_items": null,
            "left": null,
            "margin": null,
            "max_height": null,
            "max_width": null,
            "min_height": null,
            "min_width": null,
            "object_fit": null,
            "object_position": null,
            "order": null,
            "overflow": null,
            "overflow_x": null,
            "overflow_y": null,
            "padding": null,
            "right": null,
            "top": null,
            "visibility": null,
            "width": null
          }
        },
        "c4f54d83c3724480bbebb93ef56725dc": {
          "model_module": "@jupyter-widgets/controls",
          "model_name": "ProgressStyleModel",
          "model_module_version": "1.5.0",
          "state": {
            "_model_module": "@jupyter-widgets/controls",
            "_model_module_version": "1.5.0",
            "_model_name": "ProgressStyleModel",
            "_view_count": null,
            "_view_module": "@jupyter-widgets/base",
            "_view_module_version": "1.2.0",
            "_view_name": "StyleView",
            "bar_color": null,
            "description_width": ""
          }
        },
        "b45989e08f2c4737b4e6a0fb8282bb85": {
          "model_module": "@jupyter-widgets/base",
          "model_name": "LayoutModel",
          "model_module_version": "1.2.0",
          "state": {
            "_model_module": "@jupyter-widgets/base",
            "_model_module_version": "1.2.0",
            "_model_name": "LayoutModel",
            "_view_count": null,
            "_view_module": "@jupyter-widgets/base",
            "_view_module_version": "1.2.0",
            "_view_name": "LayoutView",
            "align_content": null,
            "align_items": null,
            "align_self": null,
            "border": null,
            "bottom": null,
            "display": null,
            "flex": null,
            "flex_flow": null,
            "grid_area": null,
            "grid_auto_columns": null,
            "grid_auto_flow": null,
            "grid_auto_rows": null,
            "grid_column": null,
            "grid_gap": null,
            "grid_row": null,
            "grid_template_areas": null,
            "grid_template_columns": null,
            "grid_template_rows": null,
            "height": null,
            "justify_content": null,
            "justify_items": null,
            "left": null,
            "margin": null,
            "max_height": null,
            "max_width": null,
            "min_height": null,
            "min_width": null,
            "object_fit": null,
            "object_position": null,
            "order": null,
            "overflow": null,
            "overflow_x": null,
            "overflow_y": null,
            "padding": null,
            "right": null,
            "top": null,
            "visibility": null,
            "width": null
          }
        },
        "af561c6b204a48c6a76c0828fc1fa277": {
          "model_module": "@jupyter-widgets/controls",
          "model_name": "DescriptionStyleModel",
          "model_module_version": "1.5.0",
          "state": {
            "_model_module": "@jupyter-widgets/controls",
            "_model_module_version": "1.5.0",
            "_model_name": "DescriptionStyleModel",
            "_view_count": null,
            "_view_module": "@jupyter-widgets/base",
            "_view_module_version": "1.2.0",
            "_view_name": "StyleView",
            "description_width": ""
          }
        }
      }
    }
  },
  "cells": [
    {
      "cell_type": "markdown",
      "source": [
        "#Investigating Loan Default Data\n",
        "\n",
        "Checklist:\n",
        "\n",
        "- Basic data cleaning and feature exploration\n",
        "\n",
        "- Exploratory data analysis (Answering questions we have of the data)\n",
        "\n",
        "- Basic Data Engineering (Creating a pipeline for tain and test sets)\n",
        "\n",
        "- Model Experimentation and parameter tuning (Linear Regression, Random Forest, XGBoost, MLP)\n",
        "\n",
        "- Feature Engineering\n",
        "\n",
        "- Ensembling\n",
        "\n"
      ],
      "metadata": {
        "id": "bF-EvZqq6v9h"
      }
    },
    {
      "cell_type": "markdown",
      "source": [
        "##Data Dictionary\n",
        "\n",
        "* ID: unique ID of representative\n",
        "* Loan Amount: loan amount applied\n",
        "* Funded Amount:loan amount funded\n",
        "* Funded Amount Investor: loan amount approved by the investors\n",
        "* Term: term of loan (in months)\n",
        "* Batch Enrolled: batch numbers to representatives\n",
        "* Interest Rate: interest rate (%) on loan\n",
        "* Grade: grade by the bank\n",
        "* Sub Grade: sub-grade by the bank\n",
        "* Debit to Income: ratio of representative's total monthly debt repayment divided by self reported monthly income excluding mortgage\n",
        "* Delinquency - two years: number of 30+ days delinquency in past 2 - years\n",
        "* Inquires - six months: total number of inquiries in last 6 months\n",
        "* Open Account: number of open credit line in representative's - credit line\n",
        "* Public Record: number of derogatory public records\n",
        "* Revolving Balance: total credit revolving balance\n",
        "* Revolving Utilities: amount of credit a representative is using - relative to revolving_balance\n",
        "* Total Accounts: total number of credit lines available in - representatives credit line\n",
        "* Initial List Status: unique listing status of the loan - - W(Waiting), F(Forwarded)\n",
        "* Total Received Interest: total interest received till date\n",
        "* Total Received Late Fee: total late fee received till date\n",
        "* Recoveries: post charge off gross recovery\n",
        "* Collection Recovery Fee: post charge off collection fee\n",
        "* Collection 12 months Medical: total collections in last 12 months - excluding medical collections\n",
        "* Application Type: indicates when the representative is an individual or joint\n",
        "* Last week Pay: indicates how long (in weeks) a representative has paid EMI after batch enrolled\n",
        "* Accounts Delinquent: number of accounts on which the representative is delinquent\n",
        "* Total Collection Amount: total collection amount ever owed\n",
        "* Total Current Balance: total current balance from all accounts\n",
        "* Total Revolving Credit Limit: total revolving credit limit\n",
        "* Loan Status: 1 = Defaulter, 0 = Non Defaulters\n",
        "\n",
        "\n",
        "\n",
        "#Features of how importance based on my own logic:\n",
        "\n",
        "ID: This feature is a unique identifier and typically does not provide any predictive power or insights about loan defaults. It can be safely ignored for the analysis.\n",
        "\n",
        "Loan Amount: The loan amount applied by borrowers may be relevant as larger loans could potentially be riskier. It is worth investigating this feature further to determine its predictive power.\n",
        "\n",
        "Funded Amount and Funded Amount Investor: These features represent the actual loan amounts funded and approved by investors, respectively. They can provide insights into the bank's decision-making process but may not directly contribute to predicting loan defaults. However, the difference between the applied and funded amounts could be an interesting metric to consider.\n",
        "\n",
        "Term: The term of the loan in months might be informative, as longer-term loans may carry higher default risks. Analyzing the relationship between loan term and default rates could be valuable.\n",
        "\n",
        "Batch Enrolled: This feature represents batch numbers assigned to representatives. It might not directly relate to loan defaults but could offer insights into loan origination processes or potential clustering effects. Further exploration is recommended.\n",
        "\n",
        "Interest Rate: The interest rate assigned to the loan could be an important predictor of loan defaults. Higher interest rates might indicate riskier borrowers. Analyzing the relationship between interest rates and default rates is crucial.\n",
        "\n",
        "Grade and Sub Grade: These categorical features assigned by the bank might be useful in predicting loan defaults. Grades and sub-grades often reflect the borrower's creditworthiness, and they are typically based on factors like credit history, income, and employment stability.\n",
        "\n",
        "Debt to Income: This ratio provides information about the borrower's financial health. A higher debt-to-income ratio might indicate a higher default risk. Analyzing the relationship between debt-to-income ratio and loan defaults is recommended.\n",
        "\n",
        "Delinquency - two years: The number of 30+ days delinquencies in the past two years can be a strong indicator of default risk. Borrowers with a history of delinquencies are more likely to default in the future.\n",
        "\n",
        "Inquiries - six months: The number of credit inquiries made in the last six months might indicate the borrower's recent credit-seeking behavior. A higher number of inquiries could imply increased financial stress and potentially higher default risk.\n",
        "\n",
        "Open Account: The number of open credit lines reflects the borrower's credit utilization and creditworthiness. A higher number of open accounts might indicate a lower default risk.\n",
        "\n",
        "Public Record: The presence of derogatory public records, such as bankruptcies or tax liens, can be a significant predictor of loan defaults. Borrowers with public records are generally considered higher risk.\n",
        "\n",
        "Revolving Balance and Revolving Utilities: These features provide information about the borrower's credit utilization ratio. Higher credit utilization might suggest a higher default risk. Investigate the relationship between credit utilization and default rates.\n",
        "\n",
        "Total Accounts: The total number of credit lines available to the borrower could indicate their creditworthiness and financial stability. A higher number of accounts might suggest a lower default risk.\n",
        "\n",
        "Initial List Status: This feature represents the unique listing status of the loan. While it might not directly indicate loan defaults, it could offer insights into the loan origination process or potential data biases. Further investigation is recommended.\n",
        "\n",
        "Total Received Interest, Total Received Late Fee, Recoveries, Collection Recovery Fee, Collection 12 months Medical: These features represent financial transactions related to loan repayments, recoveries, and collections. While they may not be directly predictive of loan defaults, they can provide insights into the effectiveness of debt recovery strategies.\n",
        "\n",
        "Application Type: This feature indicates whether the representative is an individual or joint applicant. It might offer\n",
        "\n",
        "\n",
        "\n",
        "\n"
      ],
      "metadata": {
        "id": "_CFlDDfSFNsX"
      }
    },
    {
      "cell_type": "code",
      "source": [
        "import pandas as pd\n",
        "import numpy as np\n",
        "\n",
        "#for visualization\n",
        "import matplotlib.pyplot as plt\n",
        "import seaborn as sns\n",
        "\n",
        "#Preprocessing\n",
        "from sklearn.compose import ColumnTransformer\n",
        "from sklearn.pipeline import Pipeline, make_pipeline\n",
        "from sklearn.impute import SimpleImputer\n",
        "from sklearn.preprocessing import StandardScaler, RobustScaler, MinMaxScaler, OneHotEncoder\n",
        "from sklearn.preprocessing import Normalizer\n",
        "from sklearn.preprocessing import KBinsDiscretizer, FunctionTransformer, PowerTransformer\n",
        "from sklearn.utils import shuffle\n",
        "\n",
        "\n",
        "\n",
        "# import required packages for splitting data\n",
        "from sklearn import model_selection\n",
        "from sklearn.model_selection import cross_val_score\n",
        "from sklearn.model_selection import train_test_split\n",
        "\n",
        "#Feature Selection \n",
        "\n",
        "# Import the necessary libraries first\n",
        "#### Correlation method - for classification chi2 only\n",
        "from sklearn.feature_selection import SelectKBest\n",
        "from sklearn.feature_selection import chi2, f_classif\n",
        "#### RFE method - replace the model with the model you plan to use\n",
        "from sklearn.feature_selection import RFE\n",
        "# from sklearn.linear_model import LogisticRegression\n",
        "#### feature importance method\n",
        "#### this method can be used for both topK and cut-off\n",
        "from sklearn.linear_model import Ridge\n",
        "#### specifically tree-based feature importance method\n",
        "from sklearn.ensemble import RandomForestClassifier, ExtraTreesClassifier\n",
        "#### for voting\n",
        "from collections import Counter\n",
        "#### for ANOVA\n",
        "import statsmodels.formula.api as smf\n",
        "import statsmodels.stats.api as sms\n",
        "\n",
        "# balance the data\n",
        "from imblearn.over_sampling import SMOTE\n",
        "\n",
        "\n",
        "# import required packages for evaluating models\n",
        "from sklearn import metrics\n",
        "from sklearn.metrics import confusion_matrix\n",
        "from sklearn.metrics import classification_report\n",
        "from sklearn.metrics import roc_auc_score\n",
        "from sklearn.metrics import accuracy_score\n",
        "from sklearn.metrics import precision_recall_fscore_support\n",
        "\n",
        "\n",
        "from sklearn.tree import DecisionTreeClassifier\n",
        "from sklearn.linear_model import LogisticRegression, SGDClassifier\n",
        "from sklearn.svm import LinearSVC\n",
        "from sklearn.naive_bayes import GaussianNB\n",
        "from sklearn.ensemble import RandomForestClassifier, GradientBoostingClassifier, BaggingClassifier, VotingClassifier\n",
        "from xgboost import XGBClassifier\n",
        "\n",
        "#hyperparameter tuning\n",
        "import time\n",
        "from sklearn.model_selection import RandomizedSearchCV\n",
        "from scipy.stats import randint\n",
        "\n",
        "# balance the data\n",
        "from imblearn.over_sampling import SMOTE\n",
        "\n",
        "from scipy.stats import ttest_ind\n",
        "\n",
        "import datetime\n",
        "from tqdm import tqdm\n",
        "from itertools import combinations\n",
        "\n",
        "RANDOM_STATE = int(datetime.date.today().year)\n",
        "\n",
        "#recall\n",
        "\n",
        "from sklearn.metrics import recall_score"
      ],
      "metadata": {
        "id": "LRxsPfmH-eOH"
      },
      "execution_count": 1,
      "outputs": []
    },
    {
      "cell_type": "code",
      "source": [
        "df = pd.read_csv('/content/drive/MyDrive/DATA6999:Capstone/Loan Default/train.csv')\n",
        "\n",
        "df.head()"
      ],
      "metadata": {
        "id": "aJouhpn29a-a",
        "colab": {
          "base_uri": "https://localhost:8080/",
          "height": 351
        },
        "outputId": "72d519fd-ed52-4d76-cb90-49d719e75f3c"
      },
      "execution_count": 2,
      "outputs": [
        {
          "output_type": "execute_result",
          "data": {
            "text/plain": [
              "         ID  Loan Amount  Funded Amount  Funded Amount Investor  Term  \\\n",
              "0  65087372        10000          32236             12329.36286    59   \n",
              "1   1450153         3609          11940             12191.99692    59   \n",
              "2   1969101        28276           9311             21603.22455    59   \n",
              "3   6651430        11170           6954             17877.15585    59   \n",
              "4  14354669        16890          13226             13539.92667    59   \n",
              "\n",
              "  Batch Enrolled  Interest Rate Grade Sub Grade Employment Duration  ...  \\\n",
              "0     BAT2522922      11.135007     B        C4            MORTGAGE  ...   \n",
              "1     BAT1586599      12.237563     C        D3                RENT  ...   \n",
              "2     BAT2136391      12.545884     F        D4            MORTGAGE  ...   \n",
              "3     BAT2428731      16.731201     C        C3            MORTGAGE  ...   \n",
              "4     BAT5341619      15.008300     C        D4            MORTGAGE  ...   \n",
              "\n",
              "    Recoveries Collection Recovery Fee Collection 12 months Medical  \\\n",
              "0     2.498291                0.793724                            0   \n",
              "1     2.377215                0.974821                            0   \n",
              "2     4.316277                1.020075                            0   \n",
              "3     0.107020                0.749971                            0   \n",
              "4  1294.818751                0.368953                            0   \n",
              "\n",
              "  Application Type  Last week Pay  Accounts Delinquent  \\\n",
              "0       INDIVIDUAL             49                    0   \n",
              "1       INDIVIDUAL            109                    0   \n",
              "2       INDIVIDUAL             66                    0   \n",
              "3       INDIVIDUAL             39                    0   \n",
              "4       INDIVIDUAL             18                    0   \n",
              "\n",
              "   Total Collection Amount  Total Current Balance  \\\n",
              "0                       31                 311301   \n",
              "1                       53                 182610   \n",
              "2                       34                  89801   \n",
              "3                       40                   9189   \n",
              "4                      430                 126029   \n",
              "\n",
              "   Total Revolving Credit Limit  Loan Status  \n",
              "0                          6619            0  \n",
              "1                         20885            0  \n",
              "2                         26155            0  \n",
              "3                         60214            0  \n",
              "4                         22579            0  \n",
              "\n",
              "[5 rows x 35 columns]"
            ],
            "text/html": [
              "\n",
              "  <div id=\"df-c6c3c714-1d44-489e-8bc4-997e01105471\">\n",
              "    <div class=\"colab-df-container\">\n",
              "      <div>\n",
              "<style scoped>\n",
              "    .dataframe tbody tr th:only-of-type {\n",
              "        vertical-align: middle;\n",
              "    }\n",
              "\n",
              "    .dataframe tbody tr th {\n",
              "        vertical-align: top;\n",
              "    }\n",
              "\n",
              "    .dataframe thead th {\n",
              "        text-align: right;\n",
              "    }\n",
              "</style>\n",
              "<table border=\"1\" class=\"dataframe\">\n",
              "  <thead>\n",
              "    <tr style=\"text-align: right;\">\n",
              "      <th></th>\n",
              "      <th>ID</th>\n",
              "      <th>Loan Amount</th>\n",
              "      <th>Funded Amount</th>\n",
              "      <th>Funded Amount Investor</th>\n",
              "      <th>Term</th>\n",
              "      <th>Batch Enrolled</th>\n",
              "      <th>Interest Rate</th>\n",
              "      <th>Grade</th>\n",
              "      <th>Sub Grade</th>\n",
              "      <th>Employment Duration</th>\n",
              "      <th>...</th>\n",
              "      <th>Recoveries</th>\n",
              "      <th>Collection Recovery Fee</th>\n",
              "      <th>Collection 12 months Medical</th>\n",
              "      <th>Application Type</th>\n",
              "      <th>Last week Pay</th>\n",
              "      <th>Accounts Delinquent</th>\n",
              "      <th>Total Collection Amount</th>\n",
              "      <th>Total Current Balance</th>\n",
              "      <th>Total Revolving Credit Limit</th>\n",
              "      <th>Loan Status</th>\n",
              "    </tr>\n",
              "  </thead>\n",
              "  <tbody>\n",
              "    <tr>\n",
              "      <th>0</th>\n",
              "      <td>65087372</td>\n",
              "      <td>10000</td>\n",
              "      <td>32236</td>\n",
              "      <td>12329.36286</td>\n",
              "      <td>59</td>\n",
              "      <td>BAT2522922</td>\n",
              "      <td>11.135007</td>\n",
              "      <td>B</td>\n",
              "      <td>C4</td>\n",
              "      <td>MORTGAGE</td>\n",
              "      <td>...</td>\n",
              "      <td>2.498291</td>\n",
              "      <td>0.793724</td>\n",
              "      <td>0</td>\n",
              "      <td>INDIVIDUAL</td>\n",
              "      <td>49</td>\n",
              "      <td>0</td>\n",
              "      <td>31</td>\n",
              "      <td>311301</td>\n",
              "      <td>6619</td>\n",
              "      <td>0</td>\n",
              "    </tr>\n",
              "    <tr>\n",
              "      <th>1</th>\n",
              "      <td>1450153</td>\n",
              "      <td>3609</td>\n",
              "      <td>11940</td>\n",
              "      <td>12191.99692</td>\n",
              "      <td>59</td>\n",
              "      <td>BAT1586599</td>\n",
              "      <td>12.237563</td>\n",
              "      <td>C</td>\n",
              "      <td>D3</td>\n",
              "      <td>RENT</td>\n",
              "      <td>...</td>\n",
              "      <td>2.377215</td>\n",
              "      <td>0.974821</td>\n",
              "      <td>0</td>\n",
              "      <td>INDIVIDUAL</td>\n",
              "      <td>109</td>\n",
              "      <td>0</td>\n",
              "      <td>53</td>\n",
              "      <td>182610</td>\n",
              "      <td>20885</td>\n",
              "      <td>0</td>\n",
              "    </tr>\n",
              "    <tr>\n",
              "      <th>2</th>\n",
              "      <td>1969101</td>\n",
              "      <td>28276</td>\n",
              "      <td>9311</td>\n",
              "      <td>21603.22455</td>\n",
              "      <td>59</td>\n",
              "      <td>BAT2136391</td>\n",
              "      <td>12.545884</td>\n",
              "      <td>F</td>\n",
              "      <td>D4</td>\n",
              "      <td>MORTGAGE</td>\n",
              "      <td>...</td>\n",
              "      <td>4.316277</td>\n",
              "      <td>1.020075</td>\n",
              "      <td>0</td>\n",
              "      <td>INDIVIDUAL</td>\n",
              "      <td>66</td>\n",
              "      <td>0</td>\n",
              "      <td>34</td>\n",
              "      <td>89801</td>\n",
              "      <td>26155</td>\n",
              "      <td>0</td>\n",
              "    </tr>\n",
              "    <tr>\n",
              "      <th>3</th>\n",
              "      <td>6651430</td>\n",
              "      <td>11170</td>\n",
              "      <td>6954</td>\n",
              "      <td>17877.15585</td>\n",
              "      <td>59</td>\n",
              "      <td>BAT2428731</td>\n",
              "      <td>16.731201</td>\n",
              "      <td>C</td>\n",
              "      <td>C3</td>\n",
              "      <td>MORTGAGE</td>\n",
              "      <td>...</td>\n",
              "      <td>0.107020</td>\n",
              "      <td>0.749971</td>\n",
              "      <td>0</td>\n",
              "      <td>INDIVIDUAL</td>\n",
              "      <td>39</td>\n",
              "      <td>0</td>\n",
              "      <td>40</td>\n",
              "      <td>9189</td>\n",
              "      <td>60214</td>\n",
              "      <td>0</td>\n",
              "    </tr>\n",
              "    <tr>\n",
              "      <th>4</th>\n",
              "      <td>14354669</td>\n",
              "      <td>16890</td>\n",
              "      <td>13226</td>\n",
              "      <td>13539.92667</td>\n",
              "      <td>59</td>\n",
              "      <td>BAT5341619</td>\n",
              "      <td>15.008300</td>\n",
              "      <td>C</td>\n",
              "      <td>D4</td>\n",
              "      <td>MORTGAGE</td>\n",
              "      <td>...</td>\n",
              "      <td>1294.818751</td>\n",
              "      <td>0.368953</td>\n",
              "      <td>0</td>\n",
              "      <td>INDIVIDUAL</td>\n",
              "      <td>18</td>\n",
              "      <td>0</td>\n",
              "      <td>430</td>\n",
              "      <td>126029</td>\n",
              "      <td>22579</td>\n",
              "      <td>0</td>\n",
              "    </tr>\n",
              "  </tbody>\n",
              "</table>\n",
              "<p>5 rows × 35 columns</p>\n",
              "</div>\n",
              "      <button class=\"colab-df-convert\" onclick=\"convertToInteractive('df-c6c3c714-1d44-489e-8bc4-997e01105471')\"\n",
              "              title=\"Convert this dataframe to an interactive table.\"\n",
              "              style=\"display:none;\">\n",
              "        \n",
              "  <svg xmlns=\"http://www.w3.org/2000/svg\" height=\"24px\"viewBox=\"0 0 24 24\"\n",
              "       width=\"24px\">\n",
              "    <path d=\"M0 0h24v24H0V0z\" fill=\"none\"/>\n",
              "    <path d=\"M18.56 5.44l.94 2.06.94-2.06 2.06-.94-2.06-.94-.94-2.06-.94 2.06-2.06.94zm-11 1L8.5 8.5l.94-2.06 2.06-.94-2.06-.94L8.5 2.5l-.94 2.06-2.06.94zm10 10l.94 2.06.94-2.06 2.06-.94-2.06-.94-.94-2.06-.94 2.06-2.06.94z\"/><path d=\"M17.41 7.96l-1.37-1.37c-.4-.4-.92-.59-1.43-.59-.52 0-1.04.2-1.43.59L10.3 9.45l-7.72 7.72c-.78.78-.78 2.05 0 2.83L4 21.41c.39.39.9.59 1.41.59.51 0 1.02-.2 1.41-.59l7.78-7.78 2.81-2.81c.8-.78.8-2.07 0-2.86zM5.41 20L4 18.59l7.72-7.72 1.47 1.35L5.41 20z\"/>\n",
              "  </svg>\n",
              "      </button>\n",
              "      \n",
              "  <style>\n",
              "    .colab-df-container {\n",
              "      display:flex;\n",
              "      flex-wrap:wrap;\n",
              "      gap: 12px;\n",
              "    }\n",
              "\n",
              "    .colab-df-convert {\n",
              "      background-color: #E8F0FE;\n",
              "      border: none;\n",
              "      border-radius: 50%;\n",
              "      cursor: pointer;\n",
              "      display: none;\n",
              "      fill: #1967D2;\n",
              "      height: 32px;\n",
              "      padding: 0 0 0 0;\n",
              "      width: 32px;\n",
              "    }\n",
              "\n",
              "    .colab-df-convert:hover {\n",
              "      background-color: #E2EBFA;\n",
              "      box-shadow: 0px 1px 2px rgba(60, 64, 67, 0.3), 0px 1px 3px 1px rgba(60, 64, 67, 0.15);\n",
              "      fill: #174EA6;\n",
              "    }\n",
              "\n",
              "    [theme=dark] .colab-df-convert {\n",
              "      background-color: #3B4455;\n",
              "      fill: #D2E3FC;\n",
              "    }\n",
              "\n",
              "    [theme=dark] .colab-df-convert:hover {\n",
              "      background-color: #434B5C;\n",
              "      box-shadow: 0px 1px 3px 1px rgba(0, 0, 0, 0.15);\n",
              "      filter: drop-shadow(0px 1px 2px rgba(0, 0, 0, 0.3));\n",
              "      fill: #FFFFFF;\n",
              "    }\n",
              "  </style>\n",
              "\n",
              "      <script>\n",
              "        const buttonEl =\n",
              "          document.querySelector('#df-c6c3c714-1d44-489e-8bc4-997e01105471 button.colab-df-convert');\n",
              "        buttonEl.style.display =\n",
              "          google.colab.kernel.accessAllowed ? 'block' : 'none';\n",
              "\n",
              "        async function convertToInteractive(key) {\n",
              "          const element = document.querySelector('#df-c6c3c714-1d44-489e-8bc4-997e01105471');\n",
              "          const dataTable =\n",
              "            await google.colab.kernel.invokeFunction('convertToInteractive',\n",
              "                                                     [key], {});\n",
              "          if (!dataTable) return;\n",
              "\n",
              "          const docLinkHtml = 'Like what you see? Visit the ' +\n",
              "            '<a target=\"_blank\" href=https://colab.research.google.com/notebooks/data_table.ipynb>data table notebook</a>'\n",
              "            + ' to learn more about interactive tables.';\n",
              "          element.innerHTML = '';\n",
              "          dataTable['output_type'] = 'display_data';\n",
              "          await google.colab.output.renderOutput(dataTable, element);\n",
              "          const docLink = document.createElement('div');\n",
              "          docLink.innerHTML = docLinkHtml;\n",
              "          element.appendChild(docLink);\n",
              "        }\n",
              "      </script>\n",
              "    </div>\n",
              "  </div>\n",
              "  "
            ]
          },
          "metadata": {},
          "execution_count": 2
        }
      ]
    },
    {
      "cell_type": "markdown",
      "source": [
        "##EDA"
      ],
      "metadata": {
        "id": "6SCsITvP_u8p"
      }
    },
    {
      "cell_type": "code",
      "source": [
        "#I see no use in any of the features being of object data type\n",
        "df.info()"
      ],
      "metadata": {
        "colab": {
          "base_uri": "https://localhost:8080/"
        },
        "id": "jDYZp5To-c2j",
        "outputId": "71157ff8-7167-477f-8ee8-8f6962bae97a"
      },
      "execution_count": 3,
      "outputs": [
        {
          "output_type": "stream",
          "name": "stdout",
          "text": [
            "<class 'pandas.core.frame.DataFrame'>\n",
            "RangeIndex: 67463 entries, 0 to 67462\n",
            "Data columns (total 35 columns):\n",
            " #   Column                        Non-Null Count  Dtype  \n",
            "---  ------                        --------------  -----  \n",
            " 0   ID                            67463 non-null  int64  \n",
            " 1   Loan Amount                   67463 non-null  int64  \n",
            " 2   Funded Amount                 67463 non-null  int64  \n",
            " 3   Funded Amount Investor        67463 non-null  float64\n",
            " 4   Term                          67463 non-null  int64  \n",
            " 5   Batch Enrolled                67463 non-null  object \n",
            " 6   Interest Rate                 67463 non-null  float64\n",
            " 7   Grade                         67463 non-null  object \n",
            " 8   Sub Grade                     67463 non-null  object \n",
            " 9   Employment Duration           67463 non-null  object \n",
            " 10  Home Ownership                67463 non-null  float64\n",
            " 11  Verification Status           67463 non-null  object \n",
            " 12  Payment Plan                  67463 non-null  object \n",
            " 13  Loan Title                    67463 non-null  object \n",
            " 14  Debit to Income               67463 non-null  float64\n",
            " 15  Delinquency - two years       67463 non-null  int64  \n",
            " 16  Inquires - six months         67463 non-null  int64  \n",
            " 17  Open Account                  67463 non-null  int64  \n",
            " 18  Public Record                 67463 non-null  int64  \n",
            " 19  Revolving Balance             67463 non-null  int64  \n",
            " 20  Revolving Utilities           67463 non-null  float64\n",
            " 21  Total Accounts                67463 non-null  int64  \n",
            " 22  Initial List Status           67463 non-null  object \n",
            " 23  Total Received Interest       67463 non-null  float64\n",
            " 24  Total Received Late Fee       67463 non-null  float64\n",
            " 25  Recoveries                    67463 non-null  float64\n",
            " 26  Collection Recovery Fee       67463 non-null  float64\n",
            " 27  Collection 12 months Medical  67463 non-null  int64  \n",
            " 28  Application Type              67463 non-null  object \n",
            " 29  Last week Pay                 67463 non-null  int64  \n",
            " 30  Accounts Delinquent           67463 non-null  int64  \n",
            " 31  Total Collection Amount       67463 non-null  int64  \n",
            " 32  Total Current Balance         67463 non-null  int64  \n",
            " 33  Total Revolving Credit Limit  67463 non-null  int64  \n",
            " 34  Loan Status                   67463 non-null  int64  \n",
            "dtypes: float64(9), int64(17), object(9)\n",
            "memory usage: 18.0+ MB\n"
          ]
        }
      ]
    },
    {
      "cell_type": "markdown",
      "source": [
        "##Feature Engineering"
      ],
      "metadata": {
        "id": "JPn-O-0cZSad"
      }
    },
    {
      "cell_type": "code",
      "source": [
        "df.select_dtypes(include=['int64', 'float64']).nunique()\n"
      ],
      "metadata": {
        "colab": {
          "base_uri": "https://localhost:8080/"
        },
        "id": "NEWtNEoXk48T",
        "outputId": "b8b1234e-e025-44be-a9b7-42e783165a12"
      },
      "execution_count": 4,
      "outputs": [
        {
          "output_type": "execute_result",
          "data": {
            "text/plain": [
              "ID                              67463\n",
              "Loan Amount                     27525\n",
              "Funded Amount                   24548\n",
              "Funded Amount Investor          67441\n",
              "Term                                3\n",
              "Interest Rate                   67448\n",
              "Home Ownership                  67454\n",
              "Debit to Income                 67454\n",
              "Delinquency - two years             9\n",
              "Inquires - six months               6\n",
              "Open Account                       36\n",
              "Public Record                       5\n",
              "Revolving Balance               20582\n",
              "Revolving Utilities             67458\n",
              "Total Accounts                     69\n",
              "Total Received Interest         67451\n",
              "Total Received Late Fee         67380\n",
              "Recoveries                      67387\n",
              "Collection Recovery Fee         67313\n",
              "Collection 12 months Medical        2\n",
              "Last week Pay                     162\n",
              "Accounts Delinquent                 1\n",
              "Total Collection Amount          2193\n",
              "Total Current Balance           60901\n",
              "Total Revolving Credit Limit    37708\n",
              "Loan Status                         2\n",
              "dtype: int64"
            ]
          },
          "metadata": {},
          "execution_count": 4
        }
      ]
    },
    {
      "cell_type": "markdown",
      "source": [
        "###These numerical features are better used as cateogrical later since the numeric assignments are non-continuous, rather they represent a level of intensity on a scale."
      ],
      "metadata": {
        "id": "L5MAFJzfmxJW"
      }
    },
    {
      "cell_type": "code",
      "source": [
        "df['Accounts Delinquent'].unique()"
      ],
      "metadata": {
        "colab": {
          "base_uri": "https://localhost:8080/"
        },
        "id": "SE381mdVmqy4",
        "outputId": "1919ba35-7291-4c09-8ab3-45d7a6b0ea52"
      },
      "execution_count": 5,
      "outputs": [
        {
          "output_type": "execute_result",
          "data": {
            "text/plain": [
              "array([0])"
            ]
          },
          "metadata": {},
          "execution_count": 5
        }
      ]
    },
    {
      "cell_type": "code",
      "source": [
        "df['Term'].unique()"
      ],
      "metadata": {
        "colab": {
          "base_uri": "https://localhost:8080/"
        },
        "id": "I1tUdNlZlB-c",
        "outputId": "e48b277c-df41-469d-9501-0f5d6a30d661"
      },
      "execution_count": 6,
      "outputs": [
        {
          "output_type": "execute_result",
          "data": {
            "text/plain": [
              "array([59, 36, 58])"
            ]
          },
          "metadata": {},
          "execution_count": 6
        }
      ]
    },
    {
      "cell_type": "code",
      "source": [
        "df['Delinquency - two years'].unique()"
      ],
      "metadata": {
        "colab": {
          "base_uri": "https://localhost:8080/"
        },
        "id": "UR2-67m6lTsl",
        "outputId": "7ada2b97-180e-46bb-894e-eebb32c539ac"
      },
      "execution_count": 7,
      "outputs": [
        {
          "output_type": "execute_result",
          "data": {
            "text/plain": [
              "array([1, 0, 3, 6, 2, 7, 5, 4, 8])"
            ]
          },
          "metadata": {},
          "execution_count": 7
        }
      ]
    },
    {
      "cell_type": "code",
      "source": [
        "df['Inquires - six months'].unique()"
      ],
      "metadata": {
        "colab": {
          "base_uri": "https://localhost:8080/"
        },
        "id": "zlXXoJBwlXCR",
        "outputId": "b1872727-b97b-4673-e390-a46885a99dff"
      },
      "execution_count": 8,
      "outputs": [
        {
          "output_type": "execute_result",
          "data": {
            "text/plain": [
              "array([0, 3, 2, 1, 4, 5])"
            ]
          },
          "metadata": {},
          "execution_count": 8
        }
      ]
    },
    {
      "cell_type": "code",
      "source": [
        "df['Public Record'].unique()"
      ],
      "metadata": {
        "colab": {
          "base_uri": "https://localhost:8080/"
        },
        "id": "HpnPHz8HlsCV",
        "outputId": "29f9eb0a-2428-494a-ed09-b8c841459af0"
      },
      "execution_count": 9,
      "outputs": [
        {
          "output_type": "execute_result",
          "data": {
            "text/plain": [
              "array([0, 1, 2, 4, 3])"
            ]
          },
          "metadata": {},
          "execution_count": 9
        }
      ]
    },
    {
      "cell_type": "code",
      "source": [
        "df['Collection 12 months Medical'].unique()"
      ],
      "metadata": {
        "colab": {
          "base_uri": "https://localhost:8080/"
        },
        "id": "sDYFYrUflLxJ",
        "outputId": "4ffdc983-f979-46d6-8da1-6979da6595f8"
      },
      "execution_count": 10,
      "outputs": [
        {
          "output_type": "execute_result",
          "data": {
            "text/plain": [
              "array([0, 1])"
            ]
          },
          "metadata": {},
          "execution_count": 10
        }
      ]
    },
    {
      "cell_type": "code",
      "source": [
        "df[['Term','Inquires - six months','Public Record','Collection 12 months Medical']]=df[['Term','Inquires - six months','Public Record','Collection 12 months Medical']].astype('object')"
      ],
      "metadata": {
        "id": "EnuF_TjemZUp"
      },
      "execution_count": 11,
      "outputs": []
    },
    {
      "cell_type": "code",
      "source": [
        "#Number of Unique values of each objecy and categorical feature\n",
        "\n",
        "df.select_dtypes(include=['object', 'category']).nunique()"
      ],
      "metadata": {
        "colab": {
          "base_uri": "https://localhost:8080/"
        },
        "id": "XGHeJ1dRJ0DV",
        "outputId": "8bf437a2-5f9b-45d3-d463-20e9b5abebd1"
      },
      "execution_count": 12,
      "outputs": [
        {
          "output_type": "execute_result",
          "data": {
            "text/plain": [
              "Term                              3\n",
              "Batch Enrolled                   41\n",
              "Grade                             7\n",
              "Sub Grade                        35\n",
              "Employment Duration               3\n",
              "Verification Status               3\n",
              "Payment Plan                      1\n",
              "Loan Title                      109\n",
              "Inquires - six months             6\n",
              "Public Record                     5\n",
              "Initial List Status               2\n",
              "Collection 12 months Medical      2\n",
              "Application Type                  2\n",
              "dtype: int64"
            ]
          },
          "metadata": {},
          "execution_count": 12
        }
      ]
    },
    {
      "cell_type": "code",
      "source": [
        "#Batch Enrolled: This feature represents batch numbers assigned to representatives. \n",
        "#It might not directly relate to loan defaults but could offer insights into loan \n",
        "#origination processes or potential clustering effects.\n",
        "\n",
        "df['Batch Enrolled']"
      ],
      "metadata": {
        "colab": {
          "base_uri": "https://localhost:8080/"
        },
        "id": "5Uw6tm_fJ-fc",
        "outputId": "2597e6a1-51d9-4e2e-916f-fdf124c079a6"
      },
      "execution_count": 13,
      "outputs": [
        {
          "output_type": "execute_result",
          "data": {
            "text/plain": [
              "0        BAT2522922\n",
              "1        BAT1586599\n",
              "2        BAT2136391\n",
              "3        BAT2428731\n",
              "4        BAT5341619\n",
              "            ...    \n",
              "67458    BAT3193689\n",
              "67459    BAT1780517\n",
              "67460    BAT1761981\n",
              "67461    BAT2333412\n",
              "67462    BAT1930365\n",
              "Name: Batch Enrolled, Length: 67463, dtype: object"
            ]
          },
          "metadata": {},
          "execution_count": 13
        }
      ]
    },
    {
      "cell_type": "code",
      "source": [
        "#Loan grading is the process of assigning a quality score to a loan application to identify a risk of default.\n",
        "\n",
        "df['Grade'].value_counts()"
      ],
      "metadata": {
        "colab": {
          "base_uri": "https://localhost:8080/"
        },
        "id": "n2O4x30xZuEM",
        "outputId": "b0ee0929-1840-4eff-adfb-632ec9362a14"
      },
      "execution_count": 14,
      "outputs": [
        {
          "output_type": "execute_result",
          "data": {
            "text/plain": [
              "C    19085\n",
              "B    18742\n",
              "A    12055\n",
              "D     8259\n",
              "E     6446\n",
              "F     2246\n",
              "G      630\n",
              "Name: Grade, dtype: int64"
            ]
          },
          "metadata": {},
          "execution_count": 14
        }
      ]
    },
    {
      "cell_type": "code",
      "source": [
        "#Sub grades seem to be correlated with grades but not perfectly. We can see more\n",
        "#loans under the G subgrades than in the actual G grade for example\n",
        "\n",
        "df['Sub Grade'].value_counts()"
      ],
      "metadata": {
        "colab": {
          "base_uri": "https://localhost:8080/"
        },
        "id": "3TRX72WHZmvz",
        "outputId": "e30c5b14-051d-452c-dabc-d284caea31e2"
      },
      "execution_count": 15,
      "outputs": [
        {
          "output_type": "execute_result",
          "data": {
            "text/plain": [
              "B4    4462\n",
              "C1    4188\n",
              "B3    3999\n",
              "A5    3540\n",
              "B2    3520\n",
              "B5    3408\n",
              "D1    3304\n",
              "C4    3250\n",
              "C2    3219\n",
              "C3    3121\n",
              "B1    2924\n",
              "C5    2472\n",
              "A4    2264\n",
              "D4    2050\n",
              "D2    1963\n",
              "D5    1952\n",
              "A2    1837\n",
              "D3    1824\n",
              "E2    1746\n",
              "A3    1685\n",
              "A1    1364\n",
              "E3    1321\n",
              "E1    1298\n",
              "E4    1117\n",
              "F2     947\n",
              "F1     824\n",
              "E5     769\n",
              "F5     582\n",
              "F3     578\n",
              "G2     447\n",
              "F4     441\n",
              "G1     366\n",
              "G5     284\n",
              "G3     246\n",
              "G4     151\n",
              "Name: Sub Grade, dtype: int64"
            ]
          },
          "metadata": {},
          "execution_count": 15
        }
      ]
    },
    {
      "cell_type": "code",
      "source": [
        "#some of these loan titles are the same but recorded with different spelling/verbiage\n",
        "#May be useful to make a top 20\n",
        "\n",
        "df['Loan Title'].unique()"
      ],
      "metadata": {
        "colab": {
          "base_uri": "https://localhost:8080/"
        },
        "id": "5JxYUvsZKDsv",
        "outputId": "3a6b139d-41ff-44ac-c831-bcb693846bd9"
      },
      "execution_count": 16,
      "outputs": [
        {
          "output_type": "execute_result",
          "data": {
            "text/plain": [
              "array(['Debt Consolidation', 'Debt consolidation',\n",
              "       'Credit card refinancing', 'Home improvement',\n",
              "       'Credit Consolidation', 'Green loan', 'Other',\n",
              "       'Moving and relocation', 'Credit Cards', 'Medical expenses',\n",
              "       'DEBT CONSOLIDATION', 'Home Improvement', 'Refinance',\n",
              "       'credit card consolidation', 'Lending Club',\n",
              "       'Debt Consolidation Loan', 'Major purchase', 'Vacation',\n",
              "       'Business', 'Credit card payoff', 'Credit Card Consolidation',\n",
              "       'credit card', 'Credit Card Refi', 'Personal Loan', 'CC Refi',\n",
              "       'consolidate', 'Medical', 'Loan 1', 'Consolidation',\n",
              "       'Card Consolidation', 'Car financing', 'debt', 'home improvement',\n",
              "       'debt consolidation', 'Home buying', 'Freedom', 'Consolidate',\n",
              "       'Consolidated', 'get out of debt', 'consolidation loan',\n",
              "       'Dept consolidation', 'Personal loan', 'Personal', 'Debt', 'cards',\n",
              "       'Cards', 'Bathroom', 'refi', 'Credit Card Loan',\n",
              "       'Credit Card Debt', 'House', 'Debt Consolidation 2013',\n",
              "       'debt loan', 'CC Refinance', 'Consolidation Loan', 'Home',\n",
              "       'CC consolidation', 'Credit Card', 'Credit Card Refinance',\n",
              "       'Credit Loan', 'payoff', 'Bill Consolidation',\n",
              "       'credit card refinance', 'Credit Card consolidation',\n",
              "       'Credit Card Paydown', 'Credit card pay off', 'vacation',\n",
              "       'Credit card refinance', 'Get Debt Free', 'MYLOAN',\n",
              "       'credit pay off', 'Payoff', 'consolidation', 'My Loan', 'Loan',\n",
              "       'Bill Payoff', 'CC-Refinance', 'Debt Reduction', 'Medical loan',\n",
              "       'Wedding Loan', 'Credit', 'CONSOLIDATE', 'personal',\n",
              "       'pay off bills', 'CC Consolidation', 'Refinance Loan',\n",
              "       'Credit Card Payoff', 'Debt Payoff', 'Car Loan', 'Pay Off',\n",
              "       'Debt Loan', 'CONSOLIDATION', 'Pool', 'Credit payoff',\n",
              "       'Credit Card Refinance Loan', 'CC Loan', 'Debt Free',\n",
              "       'debt consolidation loan', 'conso', 'Home Improvement Loan',\n",
              "       'Loan Consolidation', 'Debt payoff', 'Lending loan', 'relief',\n",
              "       'CC', 'loan1', 'Getting Ahead', 'Home loan', 'bills'], dtype=object)"
            ]
          },
          "metadata": {},
          "execution_count": 16
        }
      ]
    },
    {
      "cell_type": "code",
      "source": [
        "#Since it looks like the top3 make up 90% we will replace the rest with Other \n",
        "\n",
        "df['Loan Title'].value_counts().iloc[:20]"
      ],
      "metadata": {
        "colab": {
          "base_uri": "https://localhost:8080/"
        },
        "id": "vV9Cq1jOMHQo",
        "outputId": "f2368c73-3a18-489a-869c-148799182392"
      },
      "execution_count": 17,
      "outputs": [
        {
          "output_type": "execute_result",
          "data": {
            "text/plain": [
              "Credit card refinancing      30728\n",
              "Debt consolidation           24841\n",
              "Debt Consolidation            3544\n",
              "Other                         2455\n",
              "Home improvement              2211\n",
              "Major purchase                 487\n",
              "Medical expenses               237\n",
              "Business                       183\n",
              "Moving and relocation          157\n",
              "Car financing                  135\n",
              "Vacation                       114\n",
              "debt consolidation             105\n",
              "Consolidation                   97\n",
              "Home buying                     94\n",
              "Personal Loan                   78\n",
              "Debt Consolidation Loan         71\n",
              "Credit Card Consolidation       68\n",
              "Home Improvement                68\n",
              "Consolidate                     55\n",
              "Consolidation Loan              55\n",
              "Name: Loan Title, dtype: int64"
            ]
          },
          "metadata": {},
          "execution_count": 17
        }
      ]
    },
    {
      "cell_type": "code",
      "source": [
        "#Since it looks like the top3 make up over 90% of the values and some others are just repeats\n",
        "#We can reduce these values to just 3 unique ones. \n",
        "\n",
        "#Refinance, Consolidation and Other\n",
        "\n",
        "print('Ratio consisted of the top 4 values:' ,  round((df['Loan Title'].value_counts().iloc[:4].sum()/df['Loan Title'].shape[0]) ,2))"
      ],
      "metadata": {
        "colab": {
          "base_uri": "https://localhost:8080/"
        },
        "id": "eZZa1DsPMlXd",
        "outputId": "32d73ccd-61b1-49a6-fa01-aef10d8ddb7d"
      },
      "execution_count": 18,
      "outputs": [
        {
          "output_type": "stream",
          "name": "stdout",
          "text": [
            "Ratio consisted of the top 4 values: 0.91\n"
          ]
        }
      ]
    },
    {
      "cell_type": "code",
      "source": [
        "df['Loan Title'] = df['Loan Title'].replace(['Debt consolidation'], 'Debt Consolidation')"
      ],
      "metadata": {
        "id": "E1Gt_CCUOpkf"
      },
      "execution_count": 19,
      "outputs": []
    },
    {
      "cell_type": "code",
      "source": [
        "top3 = df['Loan Title'].value_counts()[:3].index\n",
        "\n",
        "in_top3 = df['Loan Title'].isin(top3)\n",
        "\n",
        "in_top3\n",
        "\n",
        "df['Loan Title'] = np.where(~in_top3 == True, 'Other',df['Loan Title'] )"
      ],
      "metadata": {
        "id": "zLuj9Vw5SpCZ"
      },
      "execution_count": 20,
      "outputs": []
    },
    {
      "cell_type": "code",
      "source": [
        "df['Loan Title'].value_counts('normalize')"
      ],
      "metadata": {
        "colab": {
          "base_uri": "https://localhost:8080/"
        },
        "id": "abWp5ImLRbXN",
        "outputId": "4cb7cd86-5597-4640-e2de-11deaf58dfce"
      },
      "execution_count": 21,
      "outputs": [
        {
          "output_type": "execute_result",
          "data": {
            "text/plain": [
              "Credit card refinancing    0.455479\n",
              "Debt Consolidation         0.420749\n",
              "Other                      0.123772\n",
              "Name: Loan Title, dtype: float64"
            ]
          },
          "metadata": {},
          "execution_count": 21
        }
      ]
    },
    {
      "cell_type": "code",
      "source": [
        "#converting object into cateogry\n",
        "\n",
        "def convert_obj_to_cat(df):\n",
        "    obj_cols = df.select_dtypes(include=['object']).columns\n",
        "    df[obj_cols] = df[obj_cols].astype('category')\n",
        "    return df\n",
        "\n",
        "df = convert_obj_to_cat(df)\n",
        "\n",
        "df.info()\n"
      ],
      "metadata": {
        "colab": {
          "base_uri": "https://localhost:8080/"
        },
        "id": "rid7Jh7sCioo",
        "outputId": "52a0260e-903e-4eb0-f636-86aa2dfec440"
      },
      "execution_count": 22,
      "outputs": [
        {
          "output_type": "stream",
          "name": "stdout",
          "text": [
            "<class 'pandas.core.frame.DataFrame'>\n",
            "RangeIndex: 67463 entries, 0 to 67462\n",
            "Data columns (total 35 columns):\n",
            " #   Column                        Non-Null Count  Dtype   \n",
            "---  ------                        --------------  -----   \n",
            " 0   ID                            67463 non-null  int64   \n",
            " 1   Loan Amount                   67463 non-null  int64   \n",
            " 2   Funded Amount                 67463 non-null  int64   \n",
            " 3   Funded Amount Investor        67463 non-null  float64 \n",
            " 4   Term                          67463 non-null  category\n",
            " 5   Batch Enrolled                67463 non-null  category\n",
            " 6   Interest Rate                 67463 non-null  float64 \n",
            " 7   Grade                         67463 non-null  category\n",
            " 8   Sub Grade                     67463 non-null  category\n",
            " 9   Employment Duration           67463 non-null  category\n",
            " 10  Home Ownership                67463 non-null  float64 \n",
            " 11  Verification Status           67463 non-null  category\n",
            " 12  Payment Plan                  67463 non-null  category\n",
            " 13  Loan Title                    67463 non-null  category\n",
            " 14  Debit to Income               67463 non-null  float64 \n",
            " 15  Delinquency - two years       67463 non-null  int64   \n",
            " 16  Inquires - six months         67463 non-null  category\n",
            " 17  Open Account                  67463 non-null  int64   \n",
            " 18  Public Record                 67463 non-null  category\n",
            " 19  Revolving Balance             67463 non-null  int64   \n",
            " 20  Revolving Utilities           67463 non-null  float64 \n",
            " 21  Total Accounts                67463 non-null  int64   \n",
            " 22  Initial List Status           67463 non-null  category\n",
            " 23  Total Received Interest       67463 non-null  float64 \n",
            " 24  Total Received Late Fee       67463 non-null  float64 \n",
            " 25  Recoveries                    67463 non-null  float64 \n",
            " 26  Collection Recovery Fee       67463 non-null  float64 \n",
            " 27  Collection 12 months Medical  67463 non-null  category\n",
            " 28  Application Type              67463 non-null  category\n",
            " 29  Last week Pay                 67463 non-null  int64   \n",
            " 30  Accounts Delinquent           67463 non-null  int64   \n",
            " 31  Total Collection Amount       67463 non-null  int64   \n",
            " 32  Total Current Balance         67463 non-null  int64   \n",
            " 33  Total Revolving Credit Limit  67463 non-null  int64   \n",
            " 34  Loan Status                   67463 non-null  int64   \n",
            "dtypes: category(13), float64(9), int64(13)\n",
            "memory usage: 12.2 MB\n"
          ]
        }
      ]
    },
    {
      "cell_type": "markdown",
      "source": [
        "## Data Profile"
      ],
      "metadata": {
        "id": "iH5rw6-yb0zP"
      }
    },
    {
      "cell_type": "code",
      "source": [
        "!pip install ydata-profiling\n",
        "from ydata_profiling import ProfileReport\n",
        "\n",
        "profile_eda = ProfileReport(df)\n",
        "\n",
        "profile_eda"
      ],
      "metadata": {
        "id": "yfWRfkj-XZJB",
        "colab": {
          "base_uri": "https://localhost:8080/",
          "height": 1000,
          "referenced_widgets": [
            "dfb1bf8f7c934c10bb9676697fb293ab",
            "805f796c3c4b4a9dbb1f826f28393cb4",
            "79f9f879f1f94286818c42b224c09dca",
            "cb88e7d369424f2e9ad5bd69d44744df",
            "c3fc87e7339d4a1c904060d3165f6419",
            "e8b09e08e8d946a8acf265e0c940d15c",
            "815b52fba2c7476eb2ebd73971af0027",
            "cc259a5c5578422b9785113889b59a2a",
            "c4f54d83c3724480bbebb93ef56725dc",
            "b45989e08f2c4737b4e6a0fb8282bb85",
            "af561c6b204a48c6a76c0828fc1fa277"
          ]
        },
        "outputId": "b7a4c19b-ecee-45a7-dbcf-1eb78ab11797"
      },
      "execution_count": 23,
      "outputs": [
        {
          "output_type": "stream",
          "name": "stdout",
          "text": [
            "Looking in indexes: https://pypi.org/simple, https://us-python.pkg.dev/colab-wheels/public/simple/\n",
            "Collecting ydata-profiling\n",
            "  Downloading ydata_profiling-4.2.0-py2.py3-none-any.whl (352 kB)\n",
            "\u001b[2K     \u001b[90m━━━━━━━━━━━━━━━━━━━━━━━━━━━━━━━━━━━━━━━\u001b[0m \u001b[32m352.3/352.3 kB\u001b[0m \u001b[31m5.5 MB/s\u001b[0m eta \u001b[36m0:00:00\u001b[0m\n",
            "\u001b[?25hRequirement already satisfied: scipy<1.11,>=1.4.1 in /usr/local/lib/python3.10/dist-packages (from ydata-profiling) (1.10.1)\n",
            "Requirement already satisfied: pandas!=1.4.0,<2,>1.1 in /usr/local/lib/python3.10/dist-packages (from ydata-profiling) (1.5.3)\n",
            "Requirement already satisfied: matplotlib<4,>=3.2 in /usr/local/lib/python3.10/dist-packages (from ydata-profiling) (3.7.1)\n",
            "Requirement already satisfied: pydantic<2,>=1.8.1 in /usr/local/lib/python3.10/dist-packages (from ydata-profiling) (1.10.7)\n",
            "Requirement already satisfied: PyYAML<6.1,>=5.0.0 in /usr/local/lib/python3.10/dist-packages (from ydata-profiling) (6.0)\n",
            "Requirement already satisfied: jinja2<3.2,>=2.11.1 in /usr/local/lib/python3.10/dist-packages (from ydata-profiling) (3.1.2)\n",
            "Collecting visions[type_image_path]==0.7.5 (from ydata-profiling)\n",
            "  Downloading visions-0.7.5-py3-none-any.whl (102 kB)\n",
            "\u001b[2K     \u001b[90m━━━━━━━━━━━━━━━━━━━━━━━━━━━━━━━━━━━━━━\u001b[0m \u001b[32m102.7/102.7 kB\u001b[0m \u001b[31m10.3 MB/s\u001b[0m eta \u001b[36m0:00:00\u001b[0m\n",
            "\u001b[?25hRequirement already satisfied: numpy<1.24,>=1.16.0 in /usr/local/lib/python3.10/dist-packages (from ydata-profiling) (1.22.4)\n",
            "Collecting htmlmin==0.1.12 (from ydata-profiling)\n",
            "  Downloading htmlmin-0.1.12.tar.gz (19 kB)\n",
            "  Preparing metadata (setup.py) ... \u001b[?25l\u001b[?25hdone\n",
            "Collecting phik<0.13,>=0.11.1 (from ydata-profiling)\n",
            "  Downloading phik-0.12.3-cp310-cp310-manylinux_2_17_x86_64.manylinux2014_x86_64.whl (679 kB)\n",
            "\u001b[2K     \u001b[90m━━━━━━━━━━━━━━━━━━━━━━━━━━━━━━━━━━━━━━\u001b[0m \u001b[32m679.5/679.5 kB\u001b[0m \u001b[31m31.0 MB/s\u001b[0m eta \u001b[36m0:00:00\u001b[0m\n",
            "\u001b[?25hRequirement already satisfied: requests<3,>=2.24.0 in /usr/local/lib/python3.10/dist-packages (from ydata-profiling) (2.27.1)\n",
            "Requirement already satisfied: tqdm<5,>=4.48.2 in /usr/local/lib/python3.10/dist-packages (from ydata-profiling) (4.65.0)\n",
            "Requirement already satisfied: seaborn<0.13,>=0.10.1 in /usr/local/lib/python3.10/dist-packages (from ydata-profiling) (0.12.2)\n",
            "Collecting multimethod<2,>=1.4 (from ydata-profiling)\n",
            "  Downloading multimethod-1.9.1-py3-none-any.whl (10 kB)\n",
            "Requirement already satisfied: statsmodels<1,>=0.13.2 in /usr/local/lib/python3.10/dist-packages (from ydata-profiling) (0.13.5)\n",
            "Collecting typeguard<3,>=2.13.2 (from ydata-profiling)\n",
            "  Downloading typeguard-2.13.3-py3-none-any.whl (17 kB)\n",
            "Collecting imagehash==4.3.1 (from ydata-profiling)\n",
            "  Downloading ImageHash-4.3.1-py2.py3-none-any.whl (296 kB)\n",
            "\u001b[2K     \u001b[90m━━━━━━━━━━━━━━━━━━━━━━━━━━━━━━━━━━━━━━\u001b[0m \u001b[32m296.5/296.5 kB\u001b[0m \u001b[31m16.5 MB/s\u001b[0m eta \u001b[36m0:00:00\u001b[0m\n",
            "\u001b[?25hCollecting wordcloud>=1.9.1 (from ydata-profiling)\n",
            "  Downloading wordcloud-1.9.2-cp310-cp310-manylinux_2_17_x86_64.manylinux2014_x86_64.whl (455 kB)\n",
            "\u001b[2K     \u001b[90m━━━━━━━━━━━━━━━━━━━━━━━━━━━━━━━━━━━━━━\u001b[0m \u001b[32m455.4/455.4 kB\u001b[0m \u001b[31m16.2 MB/s\u001b[0m eta \u001b[36m0:00:00\u001b[0m\n",
            "\u001b[?25hCollecting dacite>=1.8 (from ydata-profiling)\n",
            "  Downloading dacite-1.8.1-py3-none-any.whl (14 kB)\n",
            "Requirement already satisfied: PyWavelets in /usr/local/lib/python3.10/dist-packages (from imagehash==4.3.1->ydata-profiling) (1.4.1)\n",
            "Requirement already satisfied: pillow in /usr/local/lib/python3.10/dist-packages (from imagehash==4.3.1->ydata-profiling) (8.4.0)\n",
            "Requirement already satisfied: attrs>=19.3.0 in /usr/local/lib/python3.10/dist-packages (from visions[type_image_path]==0.7.5->ydata-profiling) (23.1.0)\n",
            "Requirement already satisfied: networkx>=2.4 in /usr/local/lib/python3.10/dist-packages (from visions[type_image_path]==0.7.5->ydata-profiling) (3.1)\n",
            "Collecting tangled-up-in-unicode>=0.0.4 (from visions[type_image_path]==0.7.5->ydata-profiling)\n",
            "  Downloading tangled_up_in_unicode-0.2.0-py3-none-any.whl (4.7 MB)\n",
            "\u001b[2K     \u001b[90m━━━━━━━━━━━━━━━━━━━━━━━━━━━━━━━━━━━━━━━━\u001b[0m \u001b[32m4.7/4.7 MB\u001b[0m \u001b[31m35.5 MB/s\u001b[0m eta \u001b[36m0:00:00\u001b[0m\n",
            "\u001b[?25hRequirement already satisfied: MarkupSafe>=2.0 in /usr/local/lib/python3.10/dist-packages (from jinja2<3.2,>=2.11.1->ydata-profiling) (2.1.2)\n",
            "Requirement already satisfied: contourpy>=1.0.1 in /usr/local/lib/python3.10/dist-packages (from matplotlib<4,>=3.2->ydata-profiling) (1.0.7)\n",
            "Requirement already satisfied: cycler>=0.10 in /usr/local/lib/python3.10/dist-packages (from matplotlib<4,>=3.2->ydata-profiling) (0.11.0)\n",
            "Requirement already satisfied: fonttools>=4.22.0 in /usr/local/lib/python3.10/dist-packages (from matplotlib<4,>=3.2->ydata-profiling) (4.39.3)\n",
            "Requirement already satisfied: kiwisolver>=1.0.1 in /usr/local/lib/python3.10/dist-packages (from matplotlib<4,>=3.2->ydata-profiling) (1.4.4)\n",
            "Requirement already satisfied: packaging>=20.0 in /usr/local/lib/python3.10/dist-packages (from matplotlib<4,>=3.2->ydata-profiling) (23.1)\n",
            "Requirement already satisfied: pyparsing>=2.3.1 in /usr/local/lib/python3.10/dist-packages (from matplotlib<4,>=3.2->ydata-profiling) (3.0.9)\n",
            "Requirement already satisfied: python-dateutil>=2.7 in /usr/local/lib/python3.10/dist-packages (from matplotlib<4,>=3.2->ydata-profiling) (2.8.2)\n",
            "Requirement already satisfied: pytz>=2020.1 in /usr/local/lib/python3.10/dist-packages (from pandas!=1.4.0,<2,>1.1->ydata-profiling) (2022.7.1)\n",
            "Requirement already satisfied: joblib>=0.14.1 in /usr/local/lib/python3.10/dist-packages (from phik<0.13,>=0.11.1->ydata-profiling) (1.2.0)\n",
            "Requirement already satisfied: typing-extensions>=4.2.0 in /usr/local/lib/python3.10/dist-packages (from pydantic<2,>=1.8.1->ydata-profiling) (4.5.0)\n",
            "Requirement already satisfied: urllib3<1.27,>=1.21.1 in /usr/local/lib/python3.10/dist-packages (from requests<3,>=2.24.0->ydata-profiling) (1.26.15)\n",
            "Requirement already satisfied: certifi>=2017.4.17 in /usr/local/lib/python3.10/dist-packages (from requests<3,>=2.24.0->ydata-profiling) (2022.12.7)\n",
            "Requirement already satisfied: charset-normalizer~=2.0.0 in /usr/local/lib/python3.10/dist-packages (from requests<3,>=2.24.0->ydata-profiling) (2.0.12)\n",
            "Requirement already satisfied: idna<4,>=2.5 in /usr/local/lib/python3.10/dist-packages (from requests<3,>=2.24.0->ydata-profiling) (3.4)\n",
            "Requirement already satisfied: patsy>=0.5.2 in /usr/local/lib/python3.10/dist-packages (from statsmodels<1,>=0.13.2->ydata-profiling) (0.5.3)\n",
            "Requirement already satisfied: six in /usr/local/lib/python3.10/dist-packages (from patsy>=0.5.2->statsmodels<1,>=0.13.2->ydata-profiling) (1.16.0)\n",
            "Building wheels for collected packages: htmlmin\n",
            "  Building wheel for htmlmin (setup.py) ... \u001b[?25l\u001b[?25hdone\n",
            "  Created wheel for htmlmin: filename=htmlmin-0.1.12-py3-none-any.whl size=27081 sha256=87029a5478497808347c0f67911bdb531dca8d945aebeb6116c33d2b63271b9c\n",
            "  Stored in directory: /root/.cache/pip/wheels/dd/91/29/a79cecb328d01739e64017b6fb9a1ab9d8cb1853098ec5966d\n",
            "Successfully built htmlmin\n",
            "Installing collected packages: htmlmin, typeguard, tangled-up-in-unicode, multimethod, dacite, imagehash, wordcloud, visions, phik, ydata-profiling\n",
            "  Attempting uninstall: wordcloud\n",
            "    Found existing installation: wordcloud 1.8.2.2\n",
            "    Uninstalling wordcloud-1.8.2.2:\n",
            "      Successfully uninstalled wordcloud-1.8.2.2\n",
            "Successfully installed dacite-1.8.1 htmlmin-0.1.12 imagehash-4.3.1 multimethod-1.9.1 phik-0.12.3 tangled-up-in-unicode-0.2.0 typeguard-2.13.3 visions-0.7.5 wordcloud-1.9.2 ydata-profiling-4.2.0\n"
          ]
        },
        {
          "output_type": "display_data",
          "data": {
            "text/plain": [
              "Summarize dataset:   0%|          | 0/5 [00:00<?, ?it/s]"
            ],
            "application/vnd.jupyter.widget-view+json": {
              "version_major": 2,
              "version_minor": 0,
              "model_id": "dfb1bf8f7c934c10bb9676697fb293ab"
            }
          },
          "metadata": {}
        },
        {
          "output_type": "error",
          "ename": "KeyboardInterrupt",
          "evalue": "ignored",
          "traceback": [
            "\u001b[0;31m---------------------------------------------------------------------------\u001b[0m",
            "\u001b[0;31mKeyboardInterrupt\u001b[0m                         Traceback (most recent call last)",
            "\u001b[0;32m<ipython-input-23-e074ec4fb94f>\u001b[0m in \u001b[0;36m<cell line: 6>\u001b[0;34m()\u001b[0m\n\u001b[1;32m      4\u001b[0m \u001b[0mprofile_eda\u001b[0m \u001b[0;34m=\u001b[0m \u001b[0mProfileReport\u001b[0m\u001b[0;34m(\u001b[0m\u001b[0mdf\u001b[0m\u001b[0;34m)\u001b[0m\u001b[0;34m\u001b[0m\u001b[0;34m\u001b[0m\u001b[0m\n\u001b[1;32m      5\u001b[0m \u001b[0;34m\u001b[0m\u001b[0m\n\u001b[0;32m----> 6\u001b[0;31m \u001b[0mprofile_eda\u001b[0m\u001b[0;34m\u001b[0m\u001b[0;34m\u001b[0m\u001b[0m\n\u001b[0m",
            "\u001b[0;32m/usr/local/lib/python3.10/dist-packages/IPython/core/displayhook.py\u001b[0m in \u001b[0;36m__call__\u001b[0;34m(self, result)\u001b[0m\n\u001b[1;32m    260\u001b[0m             \u001b[0mself\u001b[0m\u001b[0;34m.\u001b[0m\u001b[0mstart_displayhook\u001b[0m\u001b[0;34m(\u001b[0m\u001b[0;34m)\u001b[0m\u001b[0;34m\u001b[0m\u001b[0;34m\u001b[0m\u001b[0m\n\u001b[1;32m    261\u001b[0m             \u001b[0mself\u001b[0m\u001b[0;34m.\u001b[0m\u001b[0mwrite_output_prompt\u001b[0m\u001b[0;34m(\u001b[0m\u001b[0;34m)\u001b[0m\u001b[0;34m\u001b[0m\u001b[0;34m\u001b[0m\u001b[0m\n\u001b[0;32m--> 262\u001b[0;31m             \u001b[0mformat_dict\u001b[0m\u001b[0;34m,\u001b[0m \u001b[0mmd_dict\u001b[0m \u001b[0;34m=\u001b[0m \u001b[0mself\u001b[0m\u001b[0;34m.\u001b[0m\u001b[0mcompute_format_data\u001b[0m\u001b[0;34m(\u001b[0m\u001b[0mresult\u001b[0m\u001b[0;34m)\u001b[0m\u001b[0;34m\u001b[0m\u001b[0;34m\u001b[0m\u001b[0m\n\u001b[0m\u001b[1;32m    263\u001b[0m             \u001b[0mself\u001b[0m\u001b[0;34m.\u001b[0m\u001b[0mupdate_user_ns\u001b[0m\u001b[0;34m(\u001b[0m\u001b[0mresult\u001b[0m\u001b[0;34m)\u001b[0m\u001b[0;34m\u001b[0m\u001b[0;34m\u001b[0m\u001b[0m\n\u001b[1;32m    264\u001b[0m             \u001b[0mself\u001b[0m\u001b[0;34m.\u001b[0m\u001b[0mfill_exec_result\u001b[0m\u001b[0;34m(\u001b[0m\u001b[0mresult\u001b[0m\u001b[0;34m)\u001b[0m\u001b[0;34m\u001b[0m\u001b[0;34m\u001b[0m\u001b[0m\n",
            "\u001b[0;32m/usr/local/lib/python3.10/dist-packages/IPython/core/displayhook.py\u001b[0m in \u001b[0;36mcompute_format_data\u001b[0;34m(self, result)\u001b[0m\n\u001b[1;32m    149\u001b[0m \u001b[0;34m\u001b[0m\u001b[0m\n\u001b[1;32m    150\u001b[0m         \"\"\"\n\u001b[0;32m--> 151\u001b[0;31m         \u001b[0;32mreturn\u001b[0m \u001b[0mself\u001b[0m\u001b[0;34m.\u001b[0m\u001b[0mshell\u001b[0m\u001b[0;34m.\u001b[0m\u001b[0mdisplay_formatter\u001b[0m\u001b[0;34m.\u001b[0m\u001b[0mformat\u001b[0m\u001b[0;34m(\u001b[0m\u001b[0mresult\u001b[0m\u001b[0;34m)\u001b[0m\u001b[0;34m\u001b[0m\u001b[0;34m\u001b[0m\u001b[0m\n\u001b[0m\u001b[1;32m    152\u001b[0m \u001b[0;34m\u001b[0m\u001b[0m\n\u001b[1;32m    153\u001b[0m     \u001b[0;31m# This can be set to True by the write_output_prompt method in a subclass\u001b[0m\u001b[0;34m\u001b[0m\u001b[0;34m\u001b[0m\u001b[0m\n",
            "\u001b[0;32m/usr/local/lib/python3.10/dist-packages/IPython/core/formatters.py\u001b[0m in \u001b[0;36mformat\u001b[0;34m(self, obj, include, exclude)\u001b[0m\n\u001b[1;32m    178\u001b[0m             \u001b[0mmd\u001b[0m \u001b[0;34m=\u001b[0m \u001b[0;32mNone\u001b[0m\u001b[0;34m\u001b[0m\u001b[0;34m\u001b[0m\u001b[0m\n\u001b[1;32m    179\u001b[0m             \u001b[0;32mtry\u001b[0m\u001b[0;34m:\u001b[0m\u001b[0;34m\u001b[0m\u001b[0;34m\u001b[0m\u001b[0m\n\u001b[0;32m--> 180\u001b[0;31m                 \u001b[0mdata\u001b[0m \u001b[0;34m=\u001b[0m \u001b[0mformatter\u001b[0m\u001b[0;34m(\u001b[0m\u001b[0mobj\u001b[0m\u001b[0;34m)\u001b[0m\u001b[0;34m\u001b[0m\u001b[0;34m\u001b[0m\u001b[0m\n\u001b[0m\u001b[1;32m    181\u001b[0m             \u001b[0;32mexcept\u001b[0m\u001b[0;34m:\u001b[0m\u001b[0;34m\u001b[0m\u001b[0;34m\u001b[0m\u001b[0m\n\u001b[1;32m    182\u001b[0m                 \u001b[0;31m# FIXME: log the exception\u001b[0m\u001b[0;34m\u001b[0m\u001b[0;34m\u001b[0m\u001b[0m\n",
            "\u001b[0;32m<decorator-gen-2>\u001b[0m in \u001b[0;36m__call__\u001b[0;34m(self, obj)\u001b[0m\n",
            "\u001b[0;32m/usr/local/lib/python3.10/dist-packages/IPython/core/formatters.py\u001b[0m in \u001b[0;36mcatch_format_error\u001b[0;34m(method, self, *args, **kwargs)\u001b[0m\n\u001b[1;32m    222\u001b[0m     \u001b[0;34m\"\"\"show traceback on failed format call\"\"\"\u001b[0m\u001b[0;34m\u001b[0m\u001b[0;34m\u001b[0m\u001b[0m\n\u001b[1;32m    223\u001b[0m     \u001b[0;32mtry\u001b[0m\u001b[0;34m:\u001b[0m\u001b[0;34m\u001b[0m\u001b[0;34m\u001b[0m\u001b[0m\n\u001b[0;32m--> 224\u001b[0;31m         \u001b[0mr\u001b[0m \u001b[0;34m=\u001b[0m \u001b[0mmethod\u001b[0m\u001b[0;34m(\u001b[0m\u001b[0mself\u001b[0m\u001b[0;34m,\u001b[0m \u001b[0;34m*\u001b[0m\u001b[0margs\u001b[0m\u001b[0;34m,\u001b[0m \u001b[0;34m**\u001b[0m\u001b[0mkwargs\u001b[0m\u001b[0;34m)\u001b[0m\u001b[0;34m\u001b[0m\u001b[0;34m\u001b[0m\u001b[0m\n\u001b[0m\u001b[1;32m    225\u001b[0m     \u001b[0;32mexcept\u001b[0m \u001b[0mNotImplementedError\u001b[0m\u001b[0;34m:\u001b[0m\u001b[0;34m\u001b[0m\u001b[0;34m\u001b[0m\u001b[0m\n\u001b[1;32m    226\u001b[0m         \u001b[0;31m# don't warn on NotImplementedErrors\u001b[0m\u001b[0;34m\u001b[0m\u001b[0;34m\u001b[0m\u001b[0m\n",
            "\u001b[0;32m/usr/local/lib/python3.10/dist-packages/IPython/core/formatters.py\u001b[0m in \u001b[0;36m__call__\u001b[0;34m(self, obj)\u001b[0m\n\u001b[1;32m    343\u001b[0m             \u001b[0mmethod\u001b[0m \u001b[0;34m=\u001b[0m \u001b[0mget_real_method\u001b[0m\u001b[0;34m(\u001b[0m\u001b[0mobj\u001b[0m\u001b[0;34m,\u001b[0m \u001b[0mself\u001b[0m\u001b[0;34m.\u001b[0m\u001b[0mprint_method\u001b[0m\u001b[0;34m)\u001b[0m\u001b[0;34m\u001b[0m\u001b[0;34m\u001b[0m\u001b[0m\n\u001b[1;32m    344\u001b[0m             \u001b[0;32mif\u001b[0m \u001b[0mmethod\u001b[0m \u001b[0;32mis\u001b[0m \u001b[0;32mnot\u001b[0m \u001b[0;32mNone\u001b[0m\u001b[0;34m:\u001b[0m\u001b[0;34m\u001b[0m\u001b[0;34m\u001b[0m\u001b[0m\n\u001b[0;32m--> 345\u001b[0;31m                 \u001b[0;32mreturn\u001b[0m \u001b[0mmethod\u001b[0m\u001b[0;34m(\u001b[0m\u001b[0;34m)\u001b[0m\u001b[0;34m\u001b[0m\u001b[0;34m\u001b[0m\u001b[0m\n\u001b[0m\u001b[1;32m    346\u001b[0m             \u001b[0;32mreturn\u001b[0m \u001b[0;32mNone\u001b[0m\u001b[0;34m\u001b[0m\u001b[0;34m\u001b[0m\u001b[0m\n\u001b[1;32m    347\u001b[0m         \u001b[0;32melse\u001b[0m\u001b[0;34m:\u001b[0m\u001b[0;34m\u001b[0m\u001b[0;34m\u001b[0m\u001b[0m\n",
            "\u001b[0;32m/usr/local/lib/python3.10/dist-packages/typeguard/__init__.py\u001b[0m in \u001b[0;36mwrapper\u001b[0;34m(*args, **kwargs)\u001b[0m\n\u001b[1;32m   1031\u001b[0m         \u001b[0mmemo\u001b[0m \u001b[0;34m=\u001b[0m \u001b[0m_CallMemo\u001b[0m\u001b[0;34m(\u001b[0m\u001b[0mpython_func\u001b[0m\u001b[0;34m,\u001b[0m \u001b[0m_localns\u001b[0m\u001b[0;34m,\u001b[0m \u001b[0margs\u001b[0m\u001b[0;34m=\u001b[0m\u001b[0margs\u001b[0m\u001b[0;34m,\u001b[0m \u001b[0mkwargs\u001b[0m\u001b[0;34m=\u001b[0m\u001b[0mkwargs\u001b[0m\u001b[0;34m)\u001b[0m\u001b[0;34m\u001b[0m\u001b[0;34m\u001b[0m\u001b[0m\n\u001b[1;32m   1032\u001b[0m         \u001b[0mcheck_argument_types\u001b[0m\u001b[0;34m(\u001b[0m\u001b[0mmemo\u001b[0m\u001b[0;34m)\u001b[0m\u001b[0;34m\u001b[0m\u001b[0;34m\u001b[0m\u001b[0m\n\u001b[0;32m-> 1033\u001b[0;31m         \u001b[0mretval\u001b[0m \u001b[0;34m=\u001b[0m \u001b[0mfunc\u001b[0m\u001b[0;34m(\u001b[0m\u001b[0;34m*\u001b[0m\u001b[0margs\u001b[0m\u001b[0;34m,\u001b[0m \u001b[0;34m**\u001b[0m\u001b[0mkwargs\u001b[0m\u001b[0;34m)\u001b[0m\u001b[0;34m\u001b[0m\u001b[0;34m\u001b[0m\u001b[0m\n\u001b[0m\u001b[1;32m   1034\u001b[0m         \u001b[0;32mtry\u001b[0m\u001b[0;34m:\u001b[0m\u001b[0;34m\u001b[0m\u001b[0;34m\u001b[0m\u001b[0m\n\u001b[1;32m   1035\u001b[0m             \u001b[0mcheck_return_type\u001b[0m\u001b[0;34m(\u001b[0m\u001b[0mretval\u001b[0m\u001b[0;34m,\u001b[0m \u001b[0mmemo\u001b[0m\u001b[0;34m)\u001b[0m\u001b[0;34m\u001b[0m\u001b[0;34m\u001b[0m\u001b[0m\n",
            "\u001b[0;32m/usr/local/lib/python3.10/dist-packages/ydata_profiling/profile_report.py\u001b[0m in \u001b[0;36m_repr_html_\u001b[0;34m(self)\u001b[0m\n\u001b[1;32m    516\u001b[0m     \u001b[0;32mdef\u001b[0m \u001b[0m_repr_html_\u001b[0m\u001b[0;34m(\u001b[0m\u001b[0mself\u001b[0m\u001b[0;34m)\u001b[0m \u001b[0;34m->\u001b[0m \u001b[0;32mNone\u001b[0m\u001b[0;34m:\u001b[0m\u001b[0;34m\u001b[0m\u001b[0;34m\u001b[0m\u001b[0m\n\u001b[1;32m    517\u001b[0m         \u001b[0;34m\"\"\"The ipython notebook widgets user interface gets called by the jupyter notebook.\"\"\"\u001b[0m\u001b[0;34m\u001b[0m\u001b[0;34m\u001b[0m\u001b[0m\n\u001b[0;32m--> 518\u001b[0;31m         \u001b[0mself\u001b[0m\u001b[0;34m.\u001b[0m\u001b[0mto_notebook_iframe\u001b[0m\u001b[0;34m(\u001b[0m\u001b[0;34m)\u001b[0m\u001b[0;34m\u001b[0m\u001b[0;34m\u001b[0m\u001b[0m\n\u001b[0m\u001b[1;32m    519\u001b[0m \u001b[0;34m\u001b[0m\u001b[0m\n\u001b[1;32m    520\u001b[0m     \u001b[0;32mdef\u001b[0m \u001b[0m__repr__\u001b[0m\u001b[0;34m(\u001b[0m\u001b[0mself\u001b[0m\u001b[0;34m)\u001b[0m \u001b[0;34m->\u001b[0m \u001b[0mstr\u001b[0m\u001b[0;34m:\u001b[0m\u001b[0;34m\u001b[0m\u001b[0;34m\u001b[0m\u001b[0m\n",
            "\u001b[0;32m/usr/local/lib/python3.10/dist-packages/typeguard/__init__.py\u001b[0m in \u001b[0;36mwrapper\u001b[0;34m(*args, **kwargs)\u001b[0m\n\u001b[1;32m   1031\u001b[0m         \u001b[0mmemo\u001b[0m \u001b[0;34m=\u001b[0m \u001b[0m_CallMemo\u001b[0m\u001b[0;34m(\u001b[0m\u001b[0mpython_func\u001b[0m\u001b[0;34m,\u001b[0m \u001b[0m_localns\u001b[0m\u001b[0;34m,\u001b[0m \u001b[0margs\u001b[0m\u001b[0;34m=\u001b[0m\u001b[0margs\u001b[0m\u001b[0;34m,\u001b[0m \u001b[0mkwargs\u001b[0m\u001b[0;34m=\u001b[0m\u001b[0mkwargs\u001b[0m\u001b[0;34m)\u001b[0m\u001b[0;34m\u001b[0m\u001b[0;34m\u001b[0m\u001b[0m\n\u001b[1;32m   1032\u001b[0m         \u001b[0mcheck_argument_types\u001b[0m\u001b[0;34m(\u001b[0m\u001b[0mmemo\u001b[0m\u001b[0;34m)\u001b[0m\u001b[0;34m\u001b[0m\u001b[0;34m\u001b[0m\u001b[0m\n\u001b[0;32m-> 1033\u001b[0;31m         \u001b[0mretval\u001b[0m \u001b[0;34m=\u001b[0m \u001b[0mfunc\u001b[0m\u001b[0;34m(\u001b[0m\u001b[0;34m*\u001b[0m\u001b[0margs\u001b[0m\u001b[0;34m,\u001b[0m \u001b[0;34m**\u001b[0m\u001b[0mkwargs\u001b[0m\u001b[0;34m)\u001b[0m\u001b[0;34m\u001b[0m\u001b[0;34m\u001b[0m\u001b[0m\n\u001b[0m\u001b[1;32m   1034\u001b[0m         \u001b[0;32mtry\u001b[0m\u001b[0;34m:\u001b[0m\u001b[0;34m\u001b[0m\u001b[0;34m\u001b[0m\u001b[0m\n\u001b[1;32m   1035\u001b[0m             \u001b[0mcheck_return_type\u001b[0m\u001b[0;34m(\u001b[0m\u001b[0mretval\u001b[0m\u001b[0;34m,\u001b[0m \u001b[0mmemo\u001b[0m\u001b[0;34m)\u001b[0m\u001b[0;34m\u001b[0m\u001b[0;34m\u001b[0m\u001b[0m\n",
            "\u001b[0;32m/usr/local/lib/python3.10/dist-packages/ydata_profiling/profile_report.py\u001b[0m in \u001b[0;36mto_notebook_iframe\u001b[0;34m(self)\u001b[0m\n\u001b[1;32m    496\u001b[0m         \u001b[0;32mwith\u001b[0m \u001b[0mwarnings\u001b[0m\u001b[0;34m.\u001b[0m\u001b[0mcatch_warnings\u001b[0m\u001b[0;34m(\u001b[0m\u001b[0;34m)\u001b[0m\u001b[0;34m:\u001b[0m\u001b[0;34m\u001b[0m\u001b[0;34m\u001b[0m\u001b[0m\n\u001b[1;32m    497\u001b[0m             \u001b[0mwarnings\u001b[0m\u001b[0;34m.\u001b[0m\u001b[0msimplefilter\u001b[0m\u001b[0;34m(\u001b[0m\u001b[0;34m\"ignore\"\u001b[0m\u001b[0;34m)\u001b[0m\u001b[0;34m\u001b[0m\u001b[0;34m\u001b[0m\u001b[0m\n\u001b[0;32m--> 498\u001b[0;31m             \u001b[0mdisplay\u001b[0m\u001b[0;34m(\u001b[0m\u001b[0mget_notebook_iframe\u001b[0m\u001b[0;34m(\u001b[0m\u001b[0mself\u001b[0m\u001b[0;34m.\u001b[0m\u001b[0mconfig\u001b[0m\u001b[0;34m,\u001b[0m \u001b[0mself\u001b[0m\u001b[0;34m)\u001b[0m\u001b[0;34m)\u001b[0m\u001b[0;34m\u001b[0m\u001b[0;34m\u001b[0m\u001b[0m\n\u001b[0m\u001b[1;32m    499\u001b[0m \u001b[0;34m\u001b[0m\u001b[0m\n\u001b[1;32m    500\u001b[0m     \u001b[0;32mdef\u001b[0m \u001b[0mto_widgets\u001b[0m\u001b[0;34m(\u001b[0m\u001b[0mself\u001b[0m\u001b[0;34m)\u001b[0m \u001b[0;34m->\u001b[0m \u001b[0;32mNone\u001b[0m\u001b[0;34m:\u001b[0m\u001b[0;34m\u001b[0m\u001b[0;34m\u001b[0m\u001b[0m\n",
            "\u001b[0;32m/usr/local/lib/python3.10/dist-packages/ydata_profiling/report/presentation/flavours/widget/notebook.py\u001b[0m in \u001b[0;36mget_notebook_iframe\u001b[0;34m(config, profile)\u001b[0m\n\u001b[1;32m     73\u001b[0m         \u001b[0moutput\u001b[0m \u001b[0;34m=\u001b[0m \u001b[0mget_notebook_iframe_src\u001b[0m\u001b[0;34m(\u001b[0m\u001b[0mconfig\u001b[0m\u001b[0;34m,\u001b[0m \u001b[0mprofile\u001b[0m\u001b[0;34m)\u001b[0m\u001b[0;34m\u001b[0m\u001b[0;34m\u001b[0m\u001b[0m\n\u001b[1;32m     74\u001b[0m     \u001b[0;32melif\u001b[0m \u001b[0mattribute\u001b[0m \u001b[0;34m==\u001b[0m \u001b[0mIframeAttribute\u001b[0m\u001b[0;34m.\u001b[0m\u001b[0msrcdoc\u001b[0m\u001b[0;34m:\u001b[0m\u001b[0;34m\u001b[0m\u001b[0;34m\u001b[0m\u001b[0m\n\u001b[0;32m---> 75\u001b[0;31m         \u001b[0moutput\u001b[0m \u001b[0;34m=\u001b[0m \u001b[0mget_notebook_iframe_srcdoc\u001b[0m\u001b[0;34m(\u001b[0m\u001b[0mconfig\u001b[0m\u001b[0;34m,\u001b[0m \u001b[0mprofile\u001b[0m\u001b[0;34m)\u001b[0m\u001b[0;34m\u001b[0m\u001b[0;34m\u001b[0m\u001b[0m\n\u001b[0m\u001b[1;32m     76\u001b[0m     \u001b[0;32melse\u001b[0m\u001b[0;34m:\u001b[0m\u001b[0;34m\u001b[0m\u001b[0;34m\u001b[0m\u001b[0m\n\u001b[1;32m     77\u001b[0m         raise ValueError(\n",
            "\u001b[0;32m/usr/local/lib/python3.10/dist-packages/ydata_profiling/report/presentation/flavours/widget/notebook.py\u001b[0m in \u001b[0;36mget_notebook_iframe_srcdoc\u001b[0;34m(config, profile)\u001b[0m\n\u001b[1;32m     27\u001b[0m     \u001b[0mwidth\u001b[0m \u001b[0;34m=\u001b[0m \u001b[0mconfig\u001b[0m\u001b[0;34m.\u001b[0m\u001b[0mnotebook\u001b[0m\u001b[0;34m.\u001b[0m\u001b[0miframe\u001b[0m\u001b[0;34m.\u001b[0m\u001b[0mwidth\u001b[0m\u001b[0;34m\u001b[0m\u001b[0;34m\u001b[0m\u001b[0m\n\u001b[1;32m     28\u001b[0m     \u001b[0mheight\u001b[0m \u001b[0;34m=\u001b[0m \u001b[0mconfig\u001b[0m\u001b[0;34m.\u001b[0m\u001b[0mnotebook\u001b[0m\u001b[0;34m.\u001b[0m\u001b[0miframe\u001b[0m\u001b[0;34m.\u001b[0m\u001b[0mheight\u001b[0m\u001b[0;34m\u001b[0m\u001b[0;34m\u001b[0m\u001b[0m\n\u001b[0;32m---> 29\u001b[0;31m     \u001b[0msrc\u001b[0m \u001b[0;34m=\u001b[0m \u001b[0mhtml\u001b[0m\u001b[0;34m.\u001b[0m\u001b[0mescape\u001b[0m\u001b[0;34m(\u001b[0m\u001b[0mprofile\u001b[0m\u001b[0;34m.\u001b[0m\u001b[0mto_html\u001b[0m\u001b[0;34m(\u001b[0m\u001b[0;34m)\u001b[0m\u001b[0;34m)\u001b[0m\u001b[0;34m\u001b[0m\u001b[0;34m\u001b[0m\u001b[0m\n\u001b[0m\u001b[1;32m     30\u001b[0m \u001b[0;34m\u001b[0m\u001b[0m\n\u001b[1;32m     31\u001b[0m     \u001b[0miframe\u001b[0m \u001b[0;34m=\u001b[0m \u001b[0;34mf'<iframe width=\"{width}\" height=\"{height}\" srcdoc=\"{src}\" frameborder=\"0\" allowfullscreen></iframe>'\u001b[0m\u001b[0;34m\u001b[0m\u001b[0;34m\u001b[0m\u001b[0m\n",
            "\u001b[0;32m/usr/local/lib/python3.10/dist-packages/typeguard/__init__.py\u001b[0m in \u001b[0;36mwrapper\u001b[0;34m(*args, **kwargs)\u001b[0m\n\u001b[1;32m   1031\u001b[0m         \u001b[0mmemo\u001b[0m \u001b[0;34m=\u001b[0m \u001b[0m_CallMemo\u001b[0m\u001b[0;34m(\u001b[0m\u001b[0mpython_func\u001b[0m\u001b[0;34m,\u001b[0m \u001b[0m_localns\u001b[0m\u001b[0;34m,\u001b[0m \u001b[0margs\u001b[0m\u001b[0;34m=\u001b[0m\u001b[0margs\u001b[0m\u001b[0;34m,\u001b[0m \u001b[0mkwargs\u001b[0m\u001b[0;34m=\u001b[0m\u001b[0mkwargs\u001b[0m\u001b[0;34m)\u001b[0m\u001b[0;34m\u001b[0m\u001b[0;34m\u001b[0m\u001b[0m\n\u001b[1;32m   1032\u001b[0m         \u001b[0mcheck_argument_types\u001b[0m\u001b[0;34m(\u001b[0m\u001b[0mmemo\u001b[0m\u001b[0;34m)\u001b[0m\u001b[0;34m\u001b[0m\u001b[0;34m\u001b[0m\u001b[0m\n\u001b[0;32m-> 1033\u001b[0;31m         \u001b[0mretval\u001b[0m \u001b[0;34m=\u001b[0m \u001b[0mfunc\u001b[0m\u001b[0;34m(\u001b[0m\u001b[0;34m*\u001b[0m\u001b[0margs\u001b[0m\u001b[0;34m,\u001b[0m \u001b[0;34m**\u001b[0m\u001b[0mkwargs\u001b[0m\u001b[0;34m)\u001b[0m\u001b[0;34m\u001b[0m\u001b[0;34m\u001b[0m\u001b[0m\n\u001b[0m\u001b[1;32m   1034\u001b[0m         \u001b[0;32mtry\u001b[0m\u001b[0;34m:\u001b[0m\u001b[0;34m\u001b[0m\u001b[0;34m\u001b[0m\u001b[0m\n\u001b[1;32m   1035\u001b[0m             \u001b[0mcheck_return_type\u001b[0m\u001b[0;34m(\u001b[0m\u001b[0mretval\u001b[0m\u001b[0;34m,\u001b[0m \u001b[0mmemo\u001b[0m\u001b[0;34m)\u001b[0m\u001b[0;34m\u001b[0m\u001b[0;34m\u001b[0m\u001b[0m\n",
            "\u001b[0;32m/usr/local/lib/python3.10/dist-packages/ydata_profiling/profile_report.py\u001b[0m in \u001b[0;36mto_html\u001b[0;34m(self)\u001b[0m\n\u001b[1;32m    466\u001b[0m \u001b[0;34m\u001b[0m\u001b[0m\n\u001b[1;32m    467\u001b[0m         \"\"\"\n\u001b[0;32m--> 468\u001b[0;31m         \u001b[0;32mreturn\u001b[0m \u001b[0mself\u001b[0m\u001b[0;34m.\u001b[0m\u001b[0mhtml\u001b[0m\u001b[0;34m\u001b[0m\u001b[0;34m\u001b[0m\u001b[0m\n\u001b[0m\u001b[1;32m    469\u001b[0m \u001b[0;34m\u001b[0m\u001b[0m\n\u001b[1;32m    470\u001b[0m     \u001b[0;32mdef\u001b[0m \u001b[0mto_json\u001b[0m\u001b[0;34m(\u001b[0m\u001b[0mself\u001b[0m\u001b[0;34m)\u001b[0m \u001b[0;34m->\u001b[0m \u001b[0mstr\u001b[0m\u001b[0;34m:\u001b[0m\u001b[0;34m\u001b[0m\u001b[0;34m\u001b[0m\u001b[0m\n",
            "\u001b[0;32m/usr/local/lib/python3.10/dist-packages/typeguard/__init__.py\u001b[0m in \u001b[0;36mwrapper\u001b[0;34m(*args, **kwargs)\u001b[0m\n\u001b[1;32m   1031\u001b[0m         \u001b[0mmemo\u001b[0m \u001b[0;34m=\u001b[0m \u001b[0m_CallMemo\u001b[0m\u001b[0;34m(\u001b[0m\u001b[0mpython_func\u001b[0m\u001b[0;34m,\u001b[0m \u001b[0m_localns\u001b[0m\u001b[0;34m,\u001b[0m \u001b[0margs\u001b[0m\u001b[0;34m=\u001b[0m\u001b[0margs\u001b[0m\u001b[0;34m,\u001b[0m \u001b[0mkwargs\u001b[0m\u001b[0;34m=\u001b[0m\u001b[0mkwargs\u001b[0m\u001b[0;34m)\u001b[0m\u001b[0;34m\u001b[0m\u001b[0;34m\u001b[0m\u001b[0m\n\u001b[1;32m   1032\u001b[0m         \u001b[0mcheck_argument_types\u001b[0m\u001b[0;34m(\u001b[0m\u001b[0mmemo\u001b[0m\u001b[0;34m)\u001b[0m\u001b[0;34m\u001b[0m\u001b[0;34m\u001b[0m\u001b[0m\n\u001b[0;32m-> 1033\u001b[0;31m         \u001b[0mretval\u001b[0m \u001b[0;34m=\u001b[0m \u001b[0mfunc\u001b[0m\u001b[0;34m(\u001b[0m\u001b[0;34m*\u001b[0m\u001b[0margs\u001b[0m\u001b[0;34m,\u001b[0m \u001b[0;34m**\u001b[0m\u001b[0mkwargs\u001b[0m\u001b[0;34m)\u001b[0m\u001b[0;34m\u001b[0m\u001b[0;34m\u001b[0m\u001b[0m\n\u001b[0m\u001b[1;32m   1034\u001b[0m         \u001b[0;32mtry\u001b[0m\u001b[0;34m:\u001b[0m\u001b[0;34m\u001b[0m\u001b[0;34m\u001b[0m\u001b[0m\n\u001b[1;32m   1035\u001b[0m             \u001b[0mcheck_return_type\u001b[0m\u001b[0;34m(\u001b[0m\u001b[0mretval\u001b[0m\u001b[0;34m,\u001b[0m \u001b[0mmemo\u001b[0m\u001b[0;34m)\u001b[0m\u001b[0;34m\u001b[0m\u001b[0;34m\u001b[0m\u001b[0m\n",
            "\u001b[0;32m/usr/local/lib/python3.10/dist-packages/ydata_profiling/profile_report.py\u001b[0m in \u001b[0;36mhtml\u001b[0;34m(self)\u001b[0m\n\u001b[1;32m    273\u001b[0m     \u001b[0;32mdef\u001b[0m \u001b[0mhtml\u001b[0m\u001b[0;34m(\u001b[0m\u001b[0mself\u001b[0m\u001b[0;34m)\u001b[0m \u001b[0;34m->\u001b[0m \u001b[0mstr\u001b[0m\u001b[0;34m:\u001b[0m\u001b[0;34m\u001b[0m\u001b[0;34m\u001b[0m\u001b[0m\n\u001b[1;32m    274\u001b[0m         \u001b[0;32mif\u001b[0m \u001b[0mself\u001b[0m\u001b[0;34m.\u001b[0m\u001b[0m_html\u001b[0m \u001b[0;32mis\u001b[0m \u001b[0;32mNone\u001b[0m\u001b[0;34m:\u001b[0m\u001b[0;34m\u001b[0m\u001b[0;34m\u001b[0m\u001b[0m\n\u001b[0;32m--> 275\u001b[0;31m             \u001b[0mself\u001b[0m\u001b[0;34m.\u001b[0m\u001b[0m_html\u001b[0m \u001b[0;34m=\u001b[0m \u001b[0mself\u001b[0m\u001b[0;34m.\u001b[0m\u001b[0m_render_html\u001b[0m\u001b[0;34m(\u001b[0m\u001b[0;34m)\u001b[0m\u001b[0;34m\u001b[0m\u001b[0;34m\u001b[0m\u001b[0m\n\u001b[0m\u001b[1;32m    276\u001b[0m         \u001b[0;32mreturn\u001b[0m \u001b[0mself\u001b[0m\u001b[0;34m.\u001b[0m\u001b[0m_html\u001b[0m\u001b[0;34m\u001b[0m\u001b[0;34m\u001b[0m\u001b[0m\n\u001b[1;32m    277\u001b[0m \u001b[0;34m\u001b[0m\u001b[0m\n",
            "\u001b[0;32m/usr/local/lib/python3.10/dist-packages/typeguard/__init__.py\u001b[0m in \u001b[0;36mwrapper\u001b[0;34m(*args, **kwargs)\u001b[0m\n\u001b[1;32m   1031\u001b[0m         \u001b[0mmemo\u001b[0m \u001b[0;34m=\u001b[0m \u001b[0m_CallMemo\u001b[0m\u001b[0;34m(\u001b[0m\u001b[0mpython_func\u001b[0m\u001b[0;34m,\u001b[0m \u001b[0m_localns\u001b[0m\u001b[0;34m,\u001b[0m \u001b[0margs\u001b[0m\u001b[0;34m=\u001b[0m\u001b[0margs\u001b[0m\u001b[0;34m,\u001b[0m \u001b[0mkwargs\u001b[0m\u001b[0;34m=\u001b[0m\u001b[0mkwargs\u001b[0m\u001b[0;34m)\u001b[0m\u001b[0;34m\u001b[0m\u001b[0;34m\u001b[0m\u001b[0m\n\u001b[1;32m   1032\u001b[0m         \u001b[0mcheck_argument_types\u001b[0m\u001b[0;34m(\u001b[0m\u001b[0mmemo\u001b[0m\u001b[0;34m)\u001b[0m\u001b[0;34m\u001b[0m\u001b[0;34m\u001b[0m\u001b[0m\n\u001b[0;32m-> 1033\u001b[0;31m         \u001b[0mretval\u001b[0m \u001b[0;34m=\u001b[0m \u001b[0mfunc\u001b[0m\u001b[0;34m(\u001b[0m\u001b[0;34m*\u001b[0m\u001b[0margs\u001b[0m\u001b[0;34m,\u001b[0m \u001b[0;34m**\u001b[0m\u001b[0mkwargs\u001b[0m\u001b[0;34m)\u001b[0m\u001b[0;34m\u001b[0m\u001b[0;34m\u001b[0m\u001b[0m\n\u001b[0m\u001b[1;32m   1034\u001b[0m         \u001b[0;32mtry\u001b[0m\u001b[0;34m:\u001b[0m\u001b[0;34m\u001b[0m\u001b[0;34m\u001b[0m\u001b[0m\n\u001b[1;32m   1035\u001b[0m             \u001b[0mcheck_return_type\u001b[0m\u001b[0;34m(\u001b[0m\u001b[0mretval\u001b[0m\u001b[0;34m,\u001b[0m \u001b[0mmemo\u001b[0m\u001b[0;34m)\u001b[0m\u001b[0;34m\u001b[0m\u001b[0;34m\u001b[0m\u001b[0m\n",
            "\u001b[0;32m/usr/local/lib/python3.10/dist-packages/ydata_profiling/profile_report.py\u001b[0m in \u001b[0;36m_render_html\u001b[0;34m(self)\u001b[0m\n\u001b[1;32m    381\u001b[0m         \u001b[0;32mfrom\u001b[0m \u001b[0mydata_profiling\u001b[0m\u001b[0;34m.\u001b[0m\u001b[0mreport\u001b[0m\u001b[0;34m.\u001b[0m\u001b[0mpresentation\u001b[0m\u001b[0;34m.\u001b[0m\u001b[0mflavours\u001b[0m \u001b[0;32mimport\u001b[0m \u001b[0mHTMLReport\u001b[0m\u001b[0;34m\u001b[0m\u001b[0;34m\u001b[0m\u001b[0m\n\u001b[1;32m    382\u001b[0m \u001b[0;34m\u001b[0m\u001b[0m\n\u001b[0;32m--> 383\u001b[0;31m         \u001b[0mreport\u001b[0m \u001b[0;34m=\u001b[0m \u001b[0mself\u001b[0m\u001b[0;34m.\u001b[0m\u001b[0mreport\u001b[0m\u001b[0;34m\u001b[0m\u001b[0;34m\u001b[0m\u001b[0m\n\u001b[0m\u001b[1;32m    384\u001b[0m \u001b[0;34m\u001b[0m\u001b[0m\n\u001b[1;32m    385\u001b[0m         with tqdm(\n",
            "\u001b[0;32m/usr/local/lib/python3.10/dist-packages/typeguard/__init__.py\u001b[0m in \u001b[0;36mwrapper\u001b[0;34m(*args, **kwargs)\u001b[0m\n\u001b[1;32m   1031\u001b[0m         \u001b[0mmemo\u001b[0m \u001b[0;34m=\u001b[0m \u001b[0m_CallMemo\u001b[0m\u001b[0;34m(\u001b[0m\u001b[0mpython_func\u001b[0m\u001b[0;34m,\u001b[0m \u001b[0m_localns\u001b[0m\u001b[0;34m,\u001b[0m \u001b[0margs\u001b[0m\u001b[0;34m=\u001b[0m\u001b[0margs\u001b[0m\u001b[0;34m,\u001b[0m \u001b[0mkwargs\u001b[0m\u001b[0;34m=\u001b[0m\u001b[0mkwargs\u001b[0m\u001b[0;34m)\u001b[0m\u001b[0;34m\u001b[0m\u001b[0;34m\u001b[0m\u001b[0m\n\u001b[1;32m   1032\u001b[0m         \u001b[0mcheck_argument_types\u001b[0m\u001b[0;34m(\u001b[0m\u001b[0mmemo\u001b[0m\u001b[0;34m)\u001b[0m\u001b[0;34m\u001b[0m\u001b[0;34m\u001b[0m\u001b[0m\n\u001b[0;32m-> 1033\u001b[0;31m         \u001b[0mretval\u001b[0m \u001b[0;34m=\u001b[0m \u001b[0mfunc\u001b[0m\u001b[0;34m(\u001b[0m\u001b[0;34m*\u001b[0m\u001b[0margs\u001b[0m\u001b[0;34m,\u001b[0m \u001b[0;34m**\u001b[0m\u001b[0mkwargs\u001b[0m\u001b[0;34m)\u001b[0m\u001b[0;34m\u001b[0m\u001b[0;34m\u001b[0m\u001b[0m\n\u001b[0m\u001b[1;32m   1034\u001b[0m         \u001b[0;32mtry\u001b[0m\u001b[0;34m:\u001b[0m\u001b[0;34m\u001b[0m\u001b[0;34m\u001b[0m\u001b[0m\n\u001b[1;32m   1035\u001b[0m             \u001b[0mcheck_return_type\u001b[0m\u001b[0;34m(\u001b[0m\u001b[0mretval\u001b[0m\u001b[0;34m,\u001b[0m \u001b[0mmemo\u001b[0m\u001b[0;34m)\u001b[0m\u001b[0;34m\u001b[0m\u001b[0;34m\u001b[0m\u001b[0m\n",
            "\u001b[0;32m/usr/local/lib/python3.10/dist-packages/ydata_profiling/profile_report.py\u001b[0m in \u001b[0;36mreport\u001b[0;34m(self)\u001b[0m\n\u001b[1;32m    267\u001b[0m     \u001b[0;32mdef\u001b[0m \u001b[0mreport\u001b[0m\u001b[0;34m(\u001b[0m\u001b[0mself\u001b[0m\u001b[0;34m)\u001b[0m \u001b[0;34m->\u001b[0m \u001b[0mRoot\u001b[0m\u001b[0;34m:\u001b[0m\u001b[0;34m\u001b[0m\u001b[0;34m\u001b[0m\u001b[0m\n\u001b[1;32m    268\u001b[0m         \u001b[0;32mif\u001b[0m \u001b[0mself\u001b[0m\u001b[0;34m.\u001b[0m\u001b[0m_report\u001b[0m \u001b[0;32mis\u001b[0m \u001b[0;32mNone\u001b[0m\u001b[0;34m:\u001b[0m\u001b[0;34m\u001b[0m\u001b[0;34m\u001b[0m\u001b[0m\n\u001b[0;32m--> 269\u001b[0;31m             \u001b[0mself\u001b[0m\u001b[0;34m.\u001b[0m\u001b[0m_report\u001b[0m \u001b[0;34m=\u001b[0m \u001b[0mget_report_structure\u001b[0m\u001b[0;34m(\u001b[0m\u001b[0mself\u001b[0m\u001b[0;34m.\u001b[0m\u001b[0mconfig\u001b[0m\u001b[0;34m,\u001b[0m \u001b[0mself\u001b[0m\u001b[0;34m.\u001b[0m\u001b[0mdescription_set\u001b[0m\u001b[0;34m)\u001b[0m\u001b[0;34m\u001b[0m\u001b[0;34m\u001b[0m\u001b[0m\n\u001b[0m\u001b[1;32m    270\u001b[0m         \u001b[0;32mreturn\u001b[0m \u001b[0mself\u001b[0m\u001b[0;34m.\u001b[0m\u001b[0m_report\u001b[0m\u001b[0;34m\u001b[0m\u001b[0;34m\u001b[0m\u001b[0m\n\u001b[1;32m    271\u001b[0m \u001b[0;34m\u001b[0m\u001b[0m\n",
            "\u001b[0;32m/usr/local/lib/python3.10/dist-packages/typeguard/__init__.py\u001b[0m in \u001b[0;36mwrapper\u001b[0;34m(*args, **kwargs)\u001b[0m\n\u001b[1;32m   1031\u001b[0m         \u001b[0mmemo\u001b[0m \u001b[0;34m=\u001b[0m \u001b[0m_CallMemo\u001b[0m\u001b[0;34m(\u001b[0m\u001b[0mpython_func\u001b[0m\u001b[0;34m,\u001b[0m \u001b[0m_localns\u001b[0m\u001b[0;34m,\u001b[0m \u001b[0margs\u001b[0m\u001b[0;34m=\u001b[0m\u001b[0margs\u001b[0m\u001b[0;34m,\u001b[0m \u001b[0mkwargs\u001b[0m\u001b[0;34m=\u001b[0m\u001b[0mkwargs\u001b[0m\u001b[0;34m)\u001b[0m\u001b[0;34m\u001b[0m\u001b[0;34m\u001b[0m\u001b[0m\n\u001b[1;32m   1032\u001b[0m         \u001b[0mcheck_argument_types\u001b[0m\u001b[0;34m(\u001b[0m\u001b[0mmemo\u001b[0m\u001b[0;34m)\u001b[0m\u001b[0;34m\u001b[0m\u001b[0;34m\u001b[0m\u001b[0m\n\u001b[0;32m-> 1033\u001b[0;31m         \u001b[0mretval\u001b[0m \u001b[0;34m=\u001b[0m \u001b[0mfunc\u001b[0m\u001b[0;34m(\u001b[0m\u001b[0;34m*\u001b[0m\u001b[0margs\u001b[0m\u001b[0;34m,\u001b[0m \u001b[0;34m**\u001b[0m\u001b[0mkwargs\u001b[0m\u001b[0;34m)\u001b[0m\u001b[0;34m\u001b[0m\u001b[0;34m\u001b[0m\u001b[0m\n\u001b[0m\u001b[1;32m   1034\u001b[0m         \u001b[0;32mtry\u001b[0m\u001b[0;34m:\u001b[0m\u001b[0;34m\u001b[0m\u001b[0;34m\u001b[0m\u001b[0m\n\u001b[1;32m   1035\u001b[0m             \u001b[0mcheck_return_type\u001b[0m\u001b[0;34m(\u001b[0m\u001b[0mretval\u001b[0m\u001b[0;34m,\u001b[0m \u001b[0mmemo\u001b[0m\u001b[0;34m)\u001b[0m\u001b[0;34m\u001b[0m\u001b[0;34m\u001b[0m\u001b[0m\n",
            "\u001b[0;32m/usr/local/lib/python3.10/dist-packages/ydata_profiling/profile_report.py\u001b[0m in \u001b[0;36mdescription_set\u001b[0;34m(self)\u001b[0m\n\u001b[1;32m    249\u001b[0m     \u001b[0;32mdef\u001b[0m \u001b[0mdescription_set\u001b[0m\u001b[0;34m(\u001b[0m\u001b[0mself\u001b[0m\u001b[0;34m)\u001b[0m \u001b[0;34m->\u001b[0m \u001b[0mBaseDescription\u001b[0m\u001b[0;34m:\u001b[0m\u001b[0;34m\u001b[0m\u001b[0;34m\u001b[0m\u001b[0m\n\u001b[1;32m    250\u001b[0m         \u001b[0;32mif\u001b[0m \u001b[0mself\u001b[0m\u001b[0;34m.\u001b[0m\u001b[0m_description_set\u001b[0m \u001b[0;32mis\u001b[0m \u001b[0;32mNone\u001b[0m\u001b[0;34m:\u001b[0m\u001b[0;34m\u001b[0m\u001b[0;34m\u001b[0m\u001b[0m\n\u001b[0;32m--> 251\u001b[0;31m             self._description_set = describe_df(\n\u001b[0m\u001b[1;32m    252\u001b[0m                 \u001b[0mself\u001b[0m\u001b[0;34m.\u001b[0m\u001b[0mconfig\u001b[0m\u001b[0;34m,\u001b[0m\u001b[0;34m\u001b[0m\u001b[0;34m\u001b[0m\u001b[0m\n\u001b[1;32m    253\u001b[0m                 \u001b[0mself\u001b[0m\u001b[0;34m.\u001b[0m\u001b[0mdf\u001b[0m\u001b[0;34m,\u001b[0m\u001b[0;34m\u001b[0m\u001b[0;34m\u001b[0m\u001b[0m\n",
            "\u001b[0;32m/usr/local/lib/python3.10/dist-packages/ydata_profiling/model/describe.py\u001b[0m in \u001b[0;36mdescribe\u001b[0;34m(config, df, summarizer, typeset, sample)\u001b[0m\n\u001b[1;32m    126\u001b[0m         }\n\u001b[1;32m    127\u001b[0m         \u001b[0;32mfor\u001b[0m \u001b[0mx\u001b[0m\u001b[0;34m,\u001b[0m \u001b[0my\u001b[0m \u001b[0;32min\u001b[0m \u001b[0mscatter_tasks\u001b[0m\u001b[0;34m:\u001b[0m\u001b[0;34m\u001b[0m\u001b[0;34m\u001b[0m\u001b[0m\n\u001b[0;32m--> 128\u001b[0;31m             scatter_matrix[x][y] = progress(\n\u001b[0m\u001b[1;32m    129\u001b[0m                 \u001b[0mget_scatter_plot\u001b[0m\u001b[0;34m,\u001b[0m \u001b[0mpbar\u001b[0m\u001b[0;34m,\u001b[0m \u001b[0;34mf\"scatter {x}, {y}\"\u001b[0m\u001b[0;34m\u001b[0m\u001b[0;34m\u001b[0m\u001b[0m\n\u001b[1;32m    130\u001b[0m             )(config, df, x, y, interval_columns)\n",
            "\u001b[0;32m/usr/local/lib/python3.10/dist-packages/ydata_profiling/utils/progress_bar.py\u001b[0m in \u001b[0;36minner\u001b[0;34m(*args, **kwargs)\u001b[0m\n\u001b[1;32m      9\u001b[0m     \u001b[0;32mdef\u001b[0m \u001b[0minner\u001b[0m\u001b[0;34m(\u001b[0m\u001b[0;34m*\u001b[0m\u001b[0margs\u001b[0m\u001b[0;34m,\u001b[0m \u001b[0;34m**\u001b[0m\u001b[0mkwargs\u001b[0m\u001b[0;34m)\u001b[0m \u001b[0;34m->\u001b[0m \u001b[0mAny\u001b[0m\u001b[0;34m:\u001b[0m\u001b[0;34m\u001b[0m\u001b[0;34m\u001b[0m\u001b[0m\n\u001b[1;32m     10\u001b[0m         \u001b[0mbar\u001b[0m\u001b[0;34m.\u001b[0m\u001b[0mset_postfix_str\u001b[0m\u001b[0;34m(\u001b[0m\u001b[0mmessage\u001b[0m\u001b[0;34m)\u001b[0m\u001b[0;34m\u001b[0m\u001b[0;34m\u001b[0m\u001b[0m\n\u001b[0;32m---> 11\u001b[0;31m         \u001b[0mret\u001b[0m \u001b[0;34m=\u001b[0m \u001b[0mfn\u001b[0m\u001b[0;34m(\u001b[0m\u001b[0;34m*\u001b[0m\u001b[0margs\u001b[0m\u001b[0;34m,\u001b[0m \u001b[0;34m**\u001b[0m\u001b[0mkwargs\u001b[0m\u001b[0;34m)\u001b[0m\u001b[0;34m\u001b[0m\u001b[0;34m\u001b[0m\u001b[0m\n\u001b[0m\u001b[1;32m     12\u001b[0m         \u001b[0mbar\u001b[0m\u001b[0;34m.\u001b[0m\u001b[0mupdate\u001b[0m\u001b[0;34m(\u001b[0m\u001b[0;34m)\u001b[0m\u001b[0;34m\u001b[0m\u001b[0;34m\u001b[0m\u001b[0m\n\u001b[1;32m     13\u001b[0m         \u001b[0;32mreturn\u001b[0m \u001b[0mret\u001b[0m\u001b[0;34m\u001b[0m\u001b[0;34m\u001b[0m\u001b[0m\n",
            "\u001b[0;32m/usr/local/lib/python3.10/dist-packages/ydata_profiling/model/pairwise.py\u001b[0m in \u001b[0;36mget_scatter_plot\u001b[0;34m(config, df, x, y, continuous_variables)\u001b[0m\n\u001b[1;32m     29\u001b[0m         \u001b[0;32melse\u001b[0m\u001b[0;34m:\u001b[0m\u001b[0;34m\u001b[0m\u001b[0;34m\u001b[0m\u001b[0m\n\u001b[1;32m     30\u001b[0m             \u001b[0mdf_temp\u001b[0m \u001b[0;34m=\u001b[0m \u001b[0mdf\u001b[0m\u001b[0;34m[\u001b[0m\u001b[0;34m[\u001b[0m\u001b[0mx\u001b[0m\u001b[0;34m,\u001b[0m \u001b[0my\u001b[0m\u001b[0;34m]\u001b[0m\u001b[0;34m]\u001b[0m\u001b[0;34m.\u001b[0m\u001b[0mdropna\u001b[0m\u001b[0;34m(\u001b[0m\u001b[0;34m)\u001b[0m\u001b[0;34m\u001b[0m\u001b[0;34m\u001b[0m\u001b[0m\n\u001b[0;32m---> 31\u001b[0;31m         \u001b[0;32mreturn\u001b[0m \u001b[0mscatter_pairwise\u001b[0m\u001b[0;34m(\u001b[0m\u001b[0mconfig\u001b[0m\u001b[0;34m,\u001b[0m \u001b[0mdf_temp\u001b[0m\u001b[0;34m[\u001b[0m\u001b[0mx\u001b[0m\u001b[0;34m]\u001b[0m\u001b[0;34m,\u001b[0m \u001b[0mdf_temp\u001b[0m\u001b[0;34m[\u001b[0m\u001b[0my\u001b[0m\u001b[0;34m]\u001b[0m\u001b[0;34m,\u001b[0m \u001b[0mx\u001b[0m\u001b[0;34m,\u001b[0m \u001b[0my\u001b[0m\u001b[0;34m)\u001b[0m\u001b[0;34m\u001b[0m\u001b[0;34m\u001b[0m\u001b[0m\n\u001b[0m\u001b[1;32m     32\u001b[0m     \u001b[0;32melse\u001b[0m\u001b[0;34m:\u001b[0m\u001b[0;34m\u001b[0m\u001b[0;34m\u001b[0m\u001b[0m\n\u001b[1;32m     33\u001b[0m         \u001b[0;32mreturn\u001b[0m \u001b[0;34m\"\"\u001b[0m\u001b[0;34m\u001b[0m\u001b[0;34m\u001b[0m\u001b[0m\n",
            "\u001b[0;32m/usr/lib/python3.10/contextlib.py\u001b[0m in \u001b[0;36minner\u001b[0;34m(*args, **kwds)\u001b[0m\n\u001b[1;32m     77\u001b[0m         \u001b[0;32mdef\u001b[0m \u001b[0minner\u001b[0m\u001b[0;34m(\u001b[0m\u001b[0;34m*\u001b[0m\u001b[0margs\u001b[0m\u001b[0;34m,\u001b[0m \u001b[0;34m**\u001b[0m\u001b[0mkwds\u001b[0m\u001b[0;34m)\u001b[0m\u001b[0;34m:\u001b[0m\u001b[0;34m\u001b[0m\u001b[0;34m\u001b[0m\u001b[0m\n\u001b[1;32m     78\u001b[0m             \u001b[0;32mwith\u001b[0m \u001b[0mself\u001b[0m\u001b[0;34m.\u001b[0m\u001b[0m_recreate_cm\u001b[0m\u001b[0;34m(\u001b[0m\u001b[0;34m)\u001b[0m\u001b[0;34m:\u001b[0m\u001b[0;34m\u001b[0m\u001b[0;34m\u001b[0m\u001b[0m\n\u001b[0;32m---> 79\u001b[0;31m                 \u001b[0;32mreturn\u001b[0m \u001b[0mfunc\u001b[0m\u001b[0;34m(\u001b[0m\u001b[0;34m*\u001b[0m\u001b[0margs\u001b[0m\u001b[0;34m,\u001b[0m \u001b[0;34m**\u001b[0m\u001b[0mkwds\u001b[0m\u001b[0;34m)\u001b[0m\u001b[0;34m\u001b[0m\u001b[0;34m\u001b[0m\u001b[0m\n\u001b[0m\u001b[1;32m     80\u001b[0m         \u001b[0;32mreturn\u001b[0m \u001b[0minner\u001b[0m\u001b[0;34m\u001b[0m\u001b[0;34m\u001b[0m\u001b[0m\n\u001b[1;32m     81\u001b[0m \u001b[0;34m\u001b[0m\u001b[0m\n",
            "\u001b[0;32m/usr/local/lib/python3.10/dist-packages/ydata_profiling/visualisation/plot.py\u001b[0m in \u001b[0;36mscatter_pairwise\u001b[0;34m(config, series1, series2, x_label, y_label)\u001b[0m\n\u001b[1;32m    358\u001b[0m     \u001b[0;32melse\u001b[0m\u001b[0;34m:\u001b[0m\u001b[0;34m\u001b[0m\u001b[0;34m\u001b[0m\u001b[0m\n\u001b[1;32m    359\u001b[0m         \u001b[0mplt\u001b[0m\u001b[0;34m.\u001b[0m\u001b[0mscatter\u001b[0m\u001b[0;34m(\u001b[0m\u001b[0mseries1\u001b[0m\u001b[0;34m[\u001b[0m\u001b[0mindices\u001b[0m\u001b[0;34m]\u001b[0m\u001b[0;34m,\u001b[0m \u001b[0mseries2\u001b[0m\u001b[0;34m[\u001b[0m\u001b[0mindices\u001b[0m\u001b[0;34m]\u001b[0m\u001b[0;34m,\u001b[0m \u001b[0mcolor\u001b[0m\u001b[0;34m=\u001b[0m\u001b[0mcolor\u001b[0m\u001b[0;34m)\u001b[0m\u001b[0;34m\u001b[0m\u001b[0;34m\u001b[0m\u001b[0m\n\u001b[0;32m--> 360\u001b[0;31m     \u001b[0;32mreturn\u001b[0m \u001b[0mplot_360_n0sc0pe\u001b[0m\u001b[0;34m(\u001b[0m\u001b[0mconfig\u001b[0m\u001b[0;34m)\u001b[0m\u001b[0;34m\u001b[0m\u001b[0;34m\u001b[0m\u001b[0m\n\u001b[0m\u001b[1;32m    361\u001b[0m \u001b[0;34m\u001b[0m\u001b[0m\n\u001b[1;32m    362\u001b[0m \u001b[0;34m\u001b[0m\u001b[0m\n",
            "\u001b[0;32m/usr/local/lib/python3.10/dist-packages/ydata_profiling/visualisation/utils.py\u001b[0m in \u001b[0;36mplot_360_n0sc0pe\u001b[0;34m(config, image_format, bbox_extra_artists, bbox_inches)\u001b[0m\n\u001b[1;32m     71\u001b[0m             \u001b[0mimage_str\u001b[0m \u001b[0;34m=\u001b[0m \u001b[0mStringIO\u001b[0m\u001b[0;34m(\u001b[0m\u001b[0;34m)\u001b[0m\u001b[0;34m\u001b[0m\u001b[0;34m\u001b[0m\u001b[0m\n\u001b[1;32m     72\u001b[0m \u001b[0;34m\u001b[0m\u001b[0m\n\u001b[0;32m---> 73\u001b[0;31m             plt.savefig(\n\u001b[0m\u001b[1;32m     74\u001b[0m                 \u001b[0mimage_str\u001b[0m\u001b[0;34m,\u001b[0m\u001b[0;34m\u001b[0m\u001b[0;34m\u001b[0m\u001b[0m\n\u001b[1;32m     75\u001b[0m                 \u001b[0mformat\u001b[0m\u001b[0;34m=\u001b[0m\u001b[0mimage_format\u001b[0m\u001b[0;34m,\u001b[0m\u001b[0;34m\u001b[0m\u001b[0;34m\u001b[0m\u001b[0m\n",
            "\u001b[0;32m/usr/local/lib/python3.10/dist-packages/matplotlib/pyplot.py\u001b[0m in \u001b[0;36msavefig\u001b[0;34m(*args, **kwargs)\u001b[0m\n\u001b[1;32m   1022\u001b[0m     \u001b[0mfig\u001b[0m \u001b[0;34m=\u001b[0m \u001b[0mgcf\u001b[0m\u001b[0;34m(\u001b[0m\u001b[0;34m)\u001b[0m\u001b[0;34m\u001b[0m\u001b[0;34m\u001b[0m\u001b[0m\n\u001b[1;32m   1023\u001b[0m     \u001b[0mres\u001b[0m \u001b[0;34m=\u001b[0m \u001b[0mfig\u001b[0m\u001b[0;34m.\u001b[0m\u001b[0msavefig\u001b[0m\u001b[0;34m(\u001b[0m\u001b[0;34m*\u001b[0m\u001b[0margs\u001b[0m\u001b[0;34m,\u001b[0m \u001b[0;34m**\u001b[0m\u001b[0mkwargs\u001b[0m\u001b[0;34m)\u001b[0m\u001b[0;34m\u001b[0m\u001b[0;34m\u001b[0m\u001b[0m\n\u001b[0;32m-> 1024\u001b[0;31m     \u001b[0mfig\u001b[0m\u001b[0;34m.\u001b[0m\u001b[0mcanvas\u001b[0m\u001b[0;34m.\u001b[0m\u001b[0mdraw_idle\u001b[0m\u001b[0;34m(\u001b[0m\u001b[0;34m)\u001b[0m  \u001b[0;31m# Need this if 'transparent=True', to reset colors.\u001b[0m\u001b[0;34m\u001b[0m\u001b[0;34m\u001b[0m\u001b[0m\n\u001b[0m\u001b[1;32m   1025\u001b[0m     \u001b[0;32mreturn\u001b[0m \u001b[0mres\u001b[0m\u001b[0;34m\u001b[0m\u001b[0;34m\u001b[0m\u001b[0m\n\u001b[1;32m   1026\u001b[0m \u001b[0;34m\u001b[0m\u001b[0m\n",
            "\u001b[0;32m/usr/local/lib/python3.10/dist-packages/matplotlib/backend_bases.py\u001b[0m in \u001b[0;36mdraw_idle\u001b[0;34m(self, *args, **kwargs)\u001b[0m\n\u001b[1;32m   2080\u001b[0m         \u001b[0;32mif\u001b[0m \u001b[0;32mnot\u001b[0m \u001b[0mself\u001b[0m\u001b[0;34m.\u001b[0m\u001b[0m_is_idle_drawing\u001b[0m\u001b[0;34m:\u001b[0m\u001b[0;34m\u001b[0m\u001b[0;34m\u001b[0m\u001b[0m\n\u001b[1;32m   2081\u001b[0m             \u001b[0;32mwith\u001b[0m \u001b[0mself\u001b[0m\u001b[0;34m.\u001b[0m\u001b[0m_idle_draw_cntx\u001b[0m\u001b[0;34m(\u001b[0m\u001b[0;34m)\u001b[0m\u001b[0;34m:\u001b[0m\u001b[0;34m\u001b[0m\u001b[0;34m\u001b[0m\u001b[0m\n\u001b[0;32m-> 2082\u001b[0;31m                 \u001b[0mself\u001b[0m\u001b[0;34m.\u001b[0m\u001b[0mdraw\u001b[0m\u001b[0;34m(\u001b[0m\u001b[0;34m*\u001b[0m\u001b[0margs\u001b[0m\u001b[0;34m,\u001b[0m \u001b[0;34m**\u001b[0m\u001b[0mkwargs\u001b[0m\u001b[0;34m)\u001b[0m\u001b[0;34m\u001b[0m\u001b[0;34m\u001b[0m\u001b[0m\n\u001b[0m\u001b[1;32m   2083\u001b[0m \u001b[0;34m\u001b[0m\u001b[0m\n\u001b[1;32m   2084\u001b[0m     \u001b[0;34m@\u001b[0m\u001b[0mproperty\u001b[0m\u001b[0;34m\u001b[0m\u001b[0;34m\u001b[0m\u001b[0m\n",
            "\u001b[0;32m/usr/local/lib/python3.10/dist-packages/matplotlib/backends/backend_agg.py\u001b[0m in \u001b[0;36mdraw\u001b[0;34m(self)\u001b[0m\n\u001b[1;32m    398\u001b[0m              (self.toolbar._wait_cursor_for_draw_cm() if self.toolbar\n\u001b[1;32m    399\u001b[0m               else nullcontext()):\n\u001b[0;32m--> 400\u001b[0;31m             \u001b[0mself\u001b[0m\u001b[0;34m.\u001b[0m\u001b[0mfigure\u001b[0m\u001b[0;34m.\u001b[0m\u001b[0mdraw\u001b[0m\u001b[0;34m(\u001b[0m\u001b[0mself\u001b[0m\u001b[0;34m.\u001b[0m\u001b[0mrenderer\u001b[0m\u001b[0;34m)\u001b[0m\u001b[0;34m\u001b[0m\u001b[0;34m\u001b[0m\u001b[0m\n\u001b[0m\u001b[1;32m    401\u001b[0m             \u001b[0;31m# A GUI class may be need to update a window using this draw, so\u001b[0m\u001b[0;34m\u001b[0m\u001b[0;34m\u001b[0m\u001b[0m\n\u001b[1;32m    402\u001b[0m             \u001b[0;31m# don't forget to call the superclass.\u001b[0m\u001b[0;34m\u001b[0m\u001b[0;34m\u001b[0m\u001b[0m\n",
            "\u001b[0;32m/usr/local/lib/python3.10/dist-packages/matplotlib/artist.py\u001b[0m in \u001b[0;36mdraw_wrapper\u001b[0;34m(artist, renderer, *args, **kwargs)\u001b[0m\n\u001b[1;32m     93\u001b[0m     \u001b[0;34m@\u001b[0m\u001b[0mwraps\u001b[0m\u001b[0;34m(\u001b[0m\u001b[0mdraw\u001b[0m\u001b[0;34m)\u001b[0m\u001b[0;34m\u001b[0m\u001b[0;34m\u001b[0m\u001b[0m\n\u001b[1;32m     94\u001b[0m     \u001b[0;32mdef\u001b[0m \u001b[0mdraw_wrapper\u001b[0m\u001b[0;34m(\u001b[0m\u001b[0martist\u001b[0m\u001b[0;34m,\u001b[0m \u001b[0mrenderer\u001b[0m\u001b[0;34m,\u001b[0m \u001b[0;34m*\u001b[0m\u001b[0margs\u001b[0m\u001b[0;34m,\u001b[0m \u001b[0;34m**\u001b[0m\u001b[0mkwargs\u001b[0m\u001b[0;34m)\u001b[0m\u001b[0;34m:\u001b[0m\u001b[0;34m\u001b[0m\u001b[0;34m\u001b[0m\u001b[0m\n\u001b[0;32m---> 95\u001b[0;31m         \u001b[0mresult\u001b[0m \u001b[0;34m=\u001b[0m \u001b[0mdraw\u001b[0m\u001b[0;34m(\u001b[0m\u001b[0martist\u001b[0m\u001b[0;34m,\u001b[0m \u001b[0mrenderer\u001b[0m\u001b[0;34m,\u001b[0m \u001b[0;34m*\u001b[0m\u001b[0margs\u001b[0m\u001b[0;34m,\u001b[0m \u001b[0;34m**\u001b[0m\u001b[0mkwargs\u001b[0m\u001b[0;34m)\u001b[0m\u001b[0;34m\u001b[0m\u001b[0;34m\u001b[0m\u001b[0m\n\u001b[0m\u001b[1;32m     96\u001b[0m         \u001b[0;32mif\u001b[0m \u001b[0mrenderer\u001b[0m\u001b[0;34m.\u001b[0m\u001b[0m_rasterizing\u001b[0m\u001b[0;34m:\u001b[0m\u001b[0;34m\u001b[0m\u001b[0;34m\u001b[0m\u001b[0m\n\u001b[1;32m     97\u001b[0m             \u001b[0mrenderer\u001b[0m\u001b[0;34m.\u001b[0m\u001b[0mstop_rasterizing\u001b[0m\u001b[0;34m(\u001b[0m\u001b[0;34m)\u001b[0m\u001b[0;34m\u001b[0m\u001b[0;34m\u001b[0m\u001b[0m\n",
            "\u001b[0;32m/usr/local/lib/python3.10/dist-packages/matplotlib/artist.py\u001b[0m in \u001b[0;36mdraw_wrapper\u001b[0;34m(artist, renderer)\u001b[0m\n\u001b[1;32m     70\u001b[0m                 \u001b[0mrenderer\u001b[0m\u001b[0;34m.\u001b[0m\u001b[0mstart_filter\u001b[0m\u001b[0;34m(\u001b[0m\u001b[0;34m)\u001b[0m\u001b[0;34m\u001b[0m\u001b[0;34m\u001b[0m\u001b[0m\n\u001b[1;32m     71\u001b[0m \u001b[0;34m\u001b[0m\u001b[0m\n\u001b[0;32m---> 72\u001b[0;31m             \u001b[0;32mreturn\u001b[0m \u001b[0mdraw\u001b[0m\u001b[0;34m(\u001b[0m\u001b[0martist\u001b[0m\u001b[0;34m,\u001b[0m \u001b[0mrenderer\u001b[0m\u001b[0;34m)\u001b[0m\u001b[0;34m\u001b[0m\u001b[0;34m\u001b[0m\u001b[0m\n\u001b[0m\u001b[1;32m     73\u001b[0m         \u001b[0;32mfinally\u001b[0m\u001b[0;34m:\u001b[0m\u001b[0;34m\u001b[0m\u001b[0;34m\u001b[0m\u001b[0m\n\u001b[1;32m     74\u001b[0m             \u001b[0;32mif\u001b[0m \u001b[0martist\u001b[0m\u001b[0;34m.\u001b[0m\u001b[0mget_agg_filter\u001b[0m\u001b[0;34m(\u001b[0m\u001b[0;34m)\u001b[0m \u001b[0;32mis\u001b[0m \u001b[0;32mnot\u001b[0m \u001b[0;32mNone\u001b[0m\u001b[0;34m:\u001b[0m\u001b[0;34m\u001b[0m\u001b[0;34m\u001b[0m\u001b[0m\n",
            "\u001b[0;32m/usr/local/lib/python3.10/dist-packages/matplotlib/figure.py\u001b[0m in \u001b[0;36mdraw\u001b[0;34m(self, renderer)\u001b[0m\n\u001b[1;32m   3138\u001b[0m \u001b[0;34m\u001b[0m\u001b[0m\n\u001b[1;32m   3139\u001b[0m             \u001b[0mself\u001b[0m\u001b[0;34m.\u001b[0m\u001b[0mpatch\u001b[0m\u001b[0;34m.\u001b[0m\u001b[0mdraw\u001b[0m\u001b[0;34m(\u001b[0m\u001b[0mrenderer\u001b[0m\u001b[0;34m)\u001b[0m\u001b[0;34m\u001b[0m\u001b[0;34m\u001b[0m\u001b[0m\n\u001b[0;32m-> 3140\u001b[0;31m             mimage._draw_list_compositing_images(\n\u001b[0m\u001b[1;32m   3141\u001b[0m                 renderer, self, artists, self.suppressComposite)\n\u001b[1;32m   3142\u001b[0m \u001b[0;34m\u001b[0m\u001b[0m\n",
            "\u001b[0;32m/usr/local/lib/python3.10/dist-packages/matplotlib/image.py\u001b[0m in \u001b[0;36m_draw_list_compositing_images\u001b[0;34m(renderer, parent, artists, suppress_composite)\u001b[0m\n\u001b[1;32m    129\u001b[0m     \u001b[0;32mif\u001b[0m \u001b[0mnot_composite\u001b[0m \u001b[0;32mor\u001b[0m \u001b[0;32mnot\u001b[0m \u001b[0mhas_images\u001b[0m\u001b[0;34m:\u001b[0m\u001b[0;34m\u001b[0m\u001b[0;34m\u001b[0m\u001b[0m\n\u001b[1;32m    130\u001b[0m         \u001b[0;32mfor\u001b[0m \u001b[0ma\u001b[0m \u001b[0;32min\u001b[0m \u001b[0martists\u001b[0m\u001b[0;34m:\u001b[0m\u001b[0;34m\u001b[0m\u001b[0;34m\u001b[0m\u001b[0m\n\u001b[0;32m--> 131\u001b[0;31m             \u001b[0ma\u001b[0m\u001b[0;34m.\u001b[0m\u001b[0mdraw\u001b[0m\u001b[0;34m(\u001b[0m\u001b[0mrenderer\u001b[0m\u001b[0;34m)\u001b[0m\u001b[0;34m\u001b[0m\u001b[0;34m\u001b[0m\u001b[0m\n\u001b[0m\u001b[1;32m    132\u001b[0m     \u001b[0;32melse\u001b[0m\u001b[0;34m:\u001b[0m\u001b[0;34m\u001b[0m\u001b[0;34m\u001b[0m\u001b[0m\n\u001b[1;32m    133\u001b[0m         \u001b[0;31m# Composite any adjacent images together\u001b[0m\u001b[0;34m\u001b[0m\u001b[0;34m\u001b[0m\u001b[0m\n",
            "\u001b[0;32m/usr/local/lib/python3.10/dist-packages/matplotlib/artist.py\u001b[0m in \u001b[0;36mdraw_wrapper\u001b[0;34m(artist, renderer)\u001b[0m\n\u001b[1;32m     70\u001b[0m                 \u001b[0mrenderer\u001b[0m\u001b[0;34m.\u001b[0m\u001b[0mstart_filter\u001b[0m\u001b[0;34m(\u001b[0m\u001b[0;34m)\u001b[0m\u001b[0;34m\u001b[0m\u001b[0;34m\u001b[0m\u001b[0m\n\u001b[1;32m     71\u001b[0m \u001b[0;34m\u001b[0m\u001b[0m\n\u001b[0;32m---> 72\u001b[0;31m             \u001b[0;32mreturn\u001b[0m \u001b[0mdraw\u001b[0m\u001b[0;34m(\u001b[0m\u001b[0martist\u001b[0m\u001b[0;34m,\u001b[0m \u001b[0mrenderer\u001b[0m\u001b[0;34m)\u001b[0m\u001b[0;34m\u001b[0m\u001b[0;34m\u001b[0m\u001b[0m\n\u001b[0m\u001b[1;32m     73\u001b[0m         \u001b[0;32mfinally\u001b[0m\u001b[0;34m:\u001b[0m\u001b[0;34m\u001b[0m\u001b[0;34m\u001b[0m\u001b[0m\n\u001b[1;32m     74\u001b[0m             \u001b[0;32mif\u001b[0m \u001b[0martist\u001b[0m\u001b[0;34m.\u001b[0m\u001b[0mget_agg_filter\u001b[0m\u001b[0;34m(\u001b[0m\u001b[0;34m)\u001b[0m \u001b[0;32mis\u001b[0m \u001b[0;32mnot\u001b[0m \u001b[0;32mNone\u001b[0m\u001b[0;34m:\u001b[0m\u001b[0;34m\u001b[0m\u001b[0;34m\u001b[0m\u001b[0m\n",
            "\u001b[0;32m/usr/local/lib/python3.10/dist-packages/matplotlib/axes/_base.py\u001b[0m in \u001b[0;36mdraw\u001b[0;34m(self, renderer)\u001b[0m\n\u001b[1;32m   3026\u001b[0m                 \u001b[0martists\u001b[0m\u001b[0;34m.\u001b[0m\u001b[0mremove\u001b[0m\u001b[0;34m(\u001b[0m\u001b[0mspine\u001b[0m\u001b[0;34m)\u001b[0m\u001b[0;34m\u001b[0m\u001b[0;34m\u001b[0m\u001b[0m\n\u001b[1;32m   3027\u001b[0m \u001b[0;34m\u001b[0m\u001b[0m\n\u001b[0;32m-> 3028\u001b[0;31m         \u001b[0mself\u001b[0m\u001b[0;34m.\u001b[0m\u001b[0m_update_title_position\u001b[0m\u001b[0;34m(\u001b[0m\u001b[0mrenderer\u001b[0m\u001b[0;34m)\u001b[0m\u001b[0;34m\u001b[0m\u001b[0;34m\u001b[0m\u001b[0m\n\u001b[0m\u001b[1;32m   3029\u001b[0m \u001b[0;34m\u001b[0m\u001b[0m\n\u001b[1;32m   3030\u001b[0m         \u001b[0;32mif\u001b[0m \u001b[0;32mnot\u001b[0m \u001b[0mself\u001b[0m\u001b[0;34m.\u001b[0m\u001b[0maxison\u001b[0m\u001b[0;34m:\u001b[0m\u001b[0;34m\u001b[0m\u001b[0;34m\u001b[0m\u001b[0m\n",
            "\u001b[0;32m/usr/local/lib/python3.10/dist-packages/matplotlib/axes/_base.py\u001b[0m in \u001b[0;36m_update_title_position\u001b[0;34m(self, renderer)\u001b[0m\n\u001b[1;32m   2961\u001b[0m                 if (ax.xaxis.get_ticks_position() in ['top', 'unknown']\n\u001b[1;32m   2962\u001b[0m                         or ax.xaxis.get_label_position() == 'top'):\n\u001b[0;32m-> 2963\u001b[0;31m                     \u001b[0mbb\u001b[0m \u001b[0;34m=\u001b[0m \u001b[0max\u001b[0m\u001b[0;34m.\u001b[0m\u001b[0mxaxis\u001b[0m\u001b[0;34m.\u001b[0m\u001b[0mget_tightbbox\u001b[0m\u001b[0;34m(\u001b[0m\u001b[0mrenderer\u001b[0m\u001b[0;34m)\u001b[0m\u001b[0;34m\u001b[0m\u001b[0;34m\u001b[0m\u001b[0m\n\u001b[0m\u001b[1;32m   2964\u001b[0m                 \u001b[0;32mif\u001b[0m \u001b[0mbb\u001b[0m \u001b[0;32mis\u001b[0m \u001b[0;32mNone\u001b[0m\u001b[0;34m:\u001b[0m\u001b[0;34m\u001b[0m\u001b[0;34m\u001b[0m\u001b[0m\n\u001b[1;32m   2965\u001b[0m                     \u001b[0;32mif\u001b[0m \u001b[0;34m'outline'\u001b[0m \u001b[0;32min\u001b[0m \u001b[0max\u001b[0m\u001b[0;34m.\u001b[0m\u001b[0mspines\u001b[0m\u001b[0;34m:\u001b[0m\u001b[0;34m\u001b[0m\u001b[0;34m\u001b[0m\u001b[0m\n",
            "\u001b[0;32m/usr/local/lib/python3.10/dist-packages/matplotlib/axis.py\u001b[0m in \u001b[0;36mget_tightbbox\u001b[0;34m(self, renderer, for_layout_only)\u001b[0m\n\u001b[1;32m   1326\u001b[0m \u001b[0;34m\u001b[0m\u001b[0m\n\u001b[1;32m   1327\u001b[0m         \u001b[0;31m# go back to just this axis's tick labels\u001b[0m\u001b[0;34m\u001b[0m\u001b[0;34m\u001b[0m\u001b[0m\n\u001b[0;32m-> 1328\u001b[0;31m         \u001b[0mtlb1\u001b[0m\u001b[0;34m,\u001b[0m \u001b[0mtlb2\u001b[0m \u001b[0;34m=\u001b[0m \u001b[0mself\u001b[0m\u001b[0;34m.\u001b[0m\u001b[0m_get_ticklabel_bboxes\u001b[0m\u001b[0;34m(\u001b[0m\u001b[0mticks_to_draw\u001b[0m\u001b[0;34m,\u001b[0m \u001b[0mrenderer\u001b[0m\u001b[0;34m)\u001b[0m\u001b[0;34m\u001b[0m\u001b[0;34m\u001b[0m\u001b[0m\n\u001b[0m\u001b[1;32m   1329\u001b[0m \u001b[0;34m\u001b[0m\u001b[0m\n\u001b[1;32m   1330\u001b[0m         \u001b[0mself\u001b[0m\u001b[0;34m.\u001b[0m\u001b[0m_update_offset_text_position\u001b[0m\u001b[0;34m(\u001b[0m\u001b[0mtlb1\u001b[0m\u001b[0;34m,\u001b[0m \u001b[0mtlb2\u001b[0m\u001b[0;34m)\u001b[0m\u001b[0;34m\u001b[0m\u001b[0;34m\u001b[0m\u001b[0m\n",
            "\u001b[0;32m/usr/local/lib/python3.10/dist-packages/matplotlib/axis.py\u001b[0m in \u001b[0;36m_get_ticklabel_bboxes\u001b[0;34m(self, ticks, renderer)\u001b[0m\n\u001b[1;32m   1302\u001b[0m         \u001b[0;32mif\u001b[0m \u001b[0mrenderer\u001b[0m \u001b[0;32mis\u001b[0m \u001b[0;32mNone\u001b[0m\u001b[0;34m:\u001b[0m\u001b[0;34m\u001b[0m\u001b[0;34m\u001b[0m\u001b[0m\n\u001b[1;32m   1303\u001b[0m             \u001b[0mrenderer\u001b[0m \u001b[0;34m=\u001b[0m \u001b[0mself\u001b[0m\u001b[0;34m.\u001b[0m\u001b[0mfigure\u001b[0m\u001b[0;34m.\u001b[0m\u001b[0m_get_renderer\u001b[0m\u001b[0;34m(\u001b[0m\u001b[0;34m)\u001b[0m\u001b[0;34m\u001b[0m\u001b[0;34m\u001b[0m\u001b[0m\n\u001b[0;32m-> 1304\u001b[0;31m         return ([tick.label1.get_window_extent(renderer)\n\u001b[0m\u001b[1;32m   1305\u001b[0m                  for tick in ticks if tick.label1.get_visible()],\n\u001b[1;32m   1306\u001b[0m                 [tick.label2.get_window_extent(renderer)\n",
            "\u001b[0;32m/usr/local/lib/python3.10/dist-packages/matplotlib/axis.py\u001b[0m in \u001b[0;36m<listcomp>\u001b[0;34m(.0)\u001b[0m\n\u001b[1;32m   1302\u001b[0m         \u001b[0;32mif\u001b[0m \u001b[0mrenderer\u001b[0m \u001b[0;32mis\u001b[0m \u001b[0;32mNone\u001b[0m\u001b[0;34m:\u001b[0m\u001b[0;34m\u001b[0m\u001b[0;34m\u001b[0m\u001b[0m\n\u001b[1;32m   1303\u001b[0m             \u001b[0mrenderer\u001b[0m \u001b[0;34m=\u001b[0m \u001b[0mself\u001b[0m\u001b[0;34m.\u001b[0m\u001b[0mfigure\u001b[0m\u001b[0;34m.\u001b[0m\u001b[0m_get_renderer\u001b[0m\u001b[0;34m(\u001b[0m\u001b[0;34m)\u001b[0m\u001b[0;34m\u001b[0m\u001b[0;34m\u001b[0m\u001b[0m\n\u001b[0;32m-> 1304\u001b[0;31m         return ([tick.label1.get_window_extent(renderer)\n\u001b[0m\u001b[1;32m   1305\u001b[0m                  for tick in ticks if tick.label1.get_visible()],\n\u001b[1;32m   1306\u001b[0m                 [tick.label2.get_window_extent(renderer)\n",
            "\u001b[0;32m/usr/local/lib/python3.10/dist-packages/matplotlib/text.py\u001b[0m in \u001b[0;36mget_window_extent\u001b[0;34m(self, renderer, dpi)\u001b[0m\n\u001b[1;32m    957\u001b[0m \u001b[0;34m\u001b[0m\u001b[0m\n\u001b[1;32m    958\u001b[0m         \u001b[0;32mwith\u001b[0m \u001b[0mcbook\u001b[0m\u001b[0;34m.\u001b[0m\u001b[0m_setattr_cm\u001b[0m\u001b[0;34m(\u001b[0m\u001b[0mself\u001b[0m\u001b[0;34m.\u001b[0m\u001b[0mfigure\u001b[0m\u001b[0;34m,\u001b[0m \u001b[0mdpi\u001b[0m\u001b[0;34m=\u001b[0m\u001b[0mdpi\u001b[0m\u001b[0;34m)\u001b[0m\u001b[0;34m:\u001b[0m\u001b[0;34m\u001b[0m\u001b[0;34m\u001b[0m\u001b[0m\n\u001b[0;32m--> 959\u001b[0;31m             \u001b[0mbbox\u001b[0m\u001b[0;34m,\u001b[0m \u001b[0minfo\u001b[0m\u001b[0;34m,\u001b[0m \u001b[0mdescent\u001b[0m \u001b[0;34m=\u001b[0m \u001b[0mself\u001b[0m\u001b[0;34m.\u001b[0m\u001b[0m_get_layout\u001b[0m\u001b[0;34m(\u001b[0m\u001b[0mself\u001b[0m\u001b[0;34m.\u001b[0m\u001b[0m_renderer\u001b[0m\u001b[0;34m)\u001b[0m\u001b[0;34m\u001b[0m\u001b[0;34m\u001b[0m\u001b[0m\n\u001b[0m\u001b[1;32m    960\u001b[0m             \u001b[0mx\u001b[0m\u001b[0;34m,\u001b[0m \u001b[0my\u001b[0m \u001b[0;34m=\u001b[0m \u001b[0mself\u001b[0m\u001b[0;34m.\u001b[0m\u001b[0mget_unitless_position\u001b[0m\u001b[0;34m(\u001b[0m\u001b[0;34m)\u001b[0m\u001b[0;34m\u001b[0m\u001b[0;34m\u001b[0m\u001b[0m\n\u001b[1;32m    961\u001b[0m             \u001b[0mx\u001b[0m\u001b[0;34m,\u001b[0m \u001b[0my\u001b[0m \u001b[0;34m=\u001b[0m \u001b[0mself\u001b[0m\u001b[0;34m.\u001b[0m\u001b[0mget_transform\u001b[0m\u001b[0;34m(\u001b[0m\u001b[0;34m)\u001b[0m\u001b[0;34m.\u001b[0m\u001b[0mtransform\u001b[0m\u001b[0;34m(\u001b[0m\u001b[0;34m(\u001b[0m\u001b[0mx\u001b[0m\u001b[0;34m,\u001b[0m \u001b[0my\u001b[0m\u001b[0;34m)\u001b[0m\u001b[0;34m)\u001b[0m\u001b[0;34m\u001b[0m\u001b[0;34m\u001b[0m\u001b[0m\n",
            "\u001b[0;32m/usr/local/lib/python3.10/dist-packages/matplotlib/text.py\u001b[0m in \u001b[0;36m_get_layout\u001b[0;34m(self, renderer)\u001b[0m\n\u001b[1;32m    448\u001b[0m         \u001b[0mxmax\u001b[0m \u001b[0;34m=\u001b[0m \u001b[0mcorners_rotated\u001b[0m\u001b[0;34m[\u001b[0m\u001b[0;34m:\u001b[0m\u001b[0;34m,\u001b[0m \u001b[0;36m0\u001b[0m\u001b[0;34m]\u001b[0m\u001b[0;34m.\u001b[0m\u001b[0mmax\u001b[0m\u001b[0;34m(\u001b[0m\u001b[0;34m)\u001b[0m\u001b[0;34m\u001b[0m\u001b[0;34m\u001b[0m\u001b[0m\n\u001b[1;32m    449\u001b[0m         \u001b[0mymin\u001b[0m \u001b[0;34m=\u001b[0m \u001b[0mcorners_rotated\u001b[0m\u001b[0;34m[\u001b[0m\u001b[0;34m:\u001b[0m\u001b[0;34m,\u001b[0m \u001b[0;36m1\u001b[0m\u001b[0;34m]\u001b[0m\u001b[0;34m.\u001b[0m\u001b[0mmin\u001b[0m\u001b[0;34m(\u001b[0m\u001b[0;34m)\u001b[0m\u001b[0;34m\u001b[0m\u001b[0;34m\u001b[0m\u001b[0m\n\u001b[0;32m--> 450\u001b[0;31m         \u001b[0mymax\u001b[0m \u001b[0;34m=\u001b[0m \u001b[0mcorners_rotated\u001b[0m\u001b[0;34m[\u001b[0m\u001b[0;34m:\u001b[0m\u001b[0;34m,\u001b[0m \u001b[0;36m1\u001b[0m\u001b[0;34m]\u001b[0m\u001b[0;34m.\u001b[0m\u001b[0mmax\u001b[0m\u001b[0;34m(\u001b[0m\u001b[0;34m)\u001b[0m\u001b[0;34m\u001b[0m\u001b[0;34m\u001b[0m\u001b[0m\n\u001b[0m\u001b[1;32m    451\u001b[0m         \u001b[0mwidth\u001b[0m \u001b[0;34m=\u001b[0m \u001b[0mxmax\u001b[0m \u001b[0;34m-\u001b[0m \u001b[0mxmin\u001b[0m\u001b[0;34m\u001b[0m\u001b[0;34m\u001b[0m\u001b[0m\n\u001b[1;32m    452\u001b[0m         \u001b[0mheight\u001b[0m \u001b[0;34m=\u001b[0m \u001b[0mymax\u001b[0m \u001b[0;34m-\u001b[0m \u001b[0mymin\u001b[0m\u001b[0;34m\u001b[0m\u001b[0;34m\u001b[0m\u001b[0m\n",
            "\u001b[0;32m/usr/local/lib/python3.10/dist-packages/numpy/core/_methods.py\u001b[0m in \u001b[0;36m_amax\u001b[0;34m(a, axis, out, keepdims, initial, where)\u001b[0m\n\u001b[1;32m     38\u001b[0m def _amax(a, axis=None, out=None, keepdims=False,\n\u001b[1;32m     39\u001b[0m           initial=_NoValue, where=True):\n\u001b[0;32m---> 40\u001b[0;31m     \u001b[0;32mreturn\u001b[0m \u001b[0mumr_maximum\u001b[0m\u001b[0;34m(\u001b[0m\u001b[0ma\u001b[0m\u001b[0;34m,\u001b[0m \u001b[0maxis\u001b[0m\u001b[0;34m,\u001b[0m \u001b[0;32mNone\u001b[0m\u001b[0;34m,\u001b[0m \u001b[0mout\u001b[0m\u001b[0;34m,\u001b[0m \u001b[0mkeepdims\u001b[0m\u001b[0;34m,\u001b[0m \u001b[0minitial\u001b[0m\u001b[0;34m,\u001b[0m \u001b[0mwhere\u001b[0m\u001b[0;34m)\u001b[0m\u001b[0;34m\u001b[0m\u001b[0;34m\u001b[0m\u001b[0m\n\u001b[0m\u001b[1;32m     41\u001b[0m \u001b[0;34m\u001b[0m\u001b[0m\n\u001b[1;32m     42\u001b[0m def _amin(a, axis=None, out=None, keepdims=False,\n",
            "\u001b[0;31mKeyboardInterrupt\u001b[0m: "
          ]
        },
        {
          "output_type": "display_data",
          "data": {
            "text/plain": [
              "<Figure size 800x550 with 1 Axes>"
            ],
            "image/png": "[encoded data removed]"
          },
          "metadata": {}
        }
      ]
    },
    {
      "cell_type": "markdown",
      "source": [
        "###Dropping columns that wil not be useful\n",
        "\n"
      ],
      "metadata": {
        "id": "CXmcr3GmPPCZ"
      }
    },
    {
      "cell_type": "code",
      "source": [
        "#Accounts delinquent only has 1 value of 0 and thus may not be useful for our model\n",
        "#There is also only 1 unique values for payment plan \n",
        "\n",
        "df = df.drop(['ID', 'Accounts Delinquent','Payment Plan'], axis =1)"
      ],
      "metadata": {
        "id": "eX85HlcPQex3"
      },
      "execution_count": 24,
      "outputs": []
    },
    {
      "cell_type": "markdown",
      "source": [
        "##Is the Data Distribution Normal?"
      ],
      "metadata": {
        "id": "tbLtpMeql7K_"
      }
    },
    {
      "cell_type": "markdown",
      "source": [
        "###Skewness\n",
        "\n",
        "We can see some columns need to have their skewness removed"
      ],
      "metadata": {
        "id": "GB14hFkAmAGx"
      }
    },
    {
      "cell_type": "code",
      "source": [
        "df.skew().plot(kind='bar')"
      ],
      "metadata": {
        "id": "MoMYenEzhOY_",
        "colab": {
          "base_uri": "https://localhost:8080/",
          "height": 678
        },
        "outputId": "afdd1476-690b-46fa-a80b-1aa8ab2d2a20"
      },
      "execution_count": 25,
      "outputs": [
        {
          "output_type": "stream",
          "name": "stderr",
          "text": [
            "<ipython-input-25-6ce6f21d3aab>:1: FutureWarning: The default value of numeric_only in DataFrame.skew is deprecated. In a future version, it will default to False. In addition, specifying 'numeric_only=None' is deprecated. Select only valid columns or specify the value of numeric_only to silence this warning.\n",
            "  df.skew().plot(kind='bar')\n"
          ]
        },
        {
          "output_type": "execute_result",
          "data": {
            "text/plain": [
              "<Axes: >"
            ]
          },
          "metadata": {},
          "execution_count": 25
        },
        {
          "output_type": "display_data",
          "data": {
            "text/plain": [
              "<Figure size 640x480 with 1 Axes>"
            ],
            "image/png": "[encoded data removed]"
          },
          "metadata": {}
        }
      ]
    },
    {
      "cell_type": "code",
      "source": [
        "df.skew() > .5 \n",
        "\n",
        "\n"
      ],
      "metadata": {
        "id": "6byQVyWhmCIu",
        "colab": {
          "base_uri": "https://localhost:8080/"
        },
        "outputId": "0448decc-b515-4fc0-d6d1-4d256c72b63e"
      },
      "execution_count": 26,
      "outputs": [
        {
          "output_type": "stream",
          "name": "stderr",
          "text": [
            "<ipython-input-26-0f09135844a0>:1: FutureWarning: The default value of numeric_only in DataFrame.skew is deprecated. In a future version, it will default to False. In addition, specifying 'numeric_only=None' is deprecated. Select only valid columns or specify the value of numeric_only to silence this warning.\n",
            "  df.skew() > .5\n"
          ]
        },
        {
          "output_type": "execute_result",
          "data": {
            "text/plain": [
              "Loan Amount                     False\n",
              "Funded Amount                    True\n",
              "Funded Amount Investor           True\n",
              "Interest Rate                    True\n",
              "Home Ownership                   True\n",
              "Debit to Income                 False\n",
              "Delinquency - two years          True\n",
              "Open Account                     True\n",
              "Revolving Balance                True\n",
              "Revolving Utilities             False\n",
              "Total Accounts                   True\n",
              "Total Received Interest          True\n",
              "Total Received Late Fee          True\n",
              "Recoveries                       True\n",
              "Collection Recovery Fee          True\n",
              "Last week Pay                   False\n",
              "Total Collection Amount          True\n",
              "Total Current Balance            True\n",
              "Total Revolving Credit Limit     True\n",
              "Loan Status                      True\n",
              "dtype: bool"
            ]
          },
          "metadata": {},
          "execution_count": 26
        }
      ]
    },
    {
      "cell_type": "markdown",
      "source": [
        "###Scaling\n",
        "\n",
        "It is obvious form the data dispalyed below that features are on totally different scales. We will have to use scaling to prepare our data for the model."
      ],
      "metadata": {
        "id": "4x3ztx4jmy3d"
      }
    },
    {
      "cell_type": "code",
      "source": [
        "numeric_data = pd.DataFrame(df._get_numeric_data())\n",
        "\n",
        "numeric_data.describe(include='all').T\n"
      ],
      "metadata": {
        "id": "nbN-by_FnY66",
        "colab": {
          "base_uri": "https://localhost:8080/",
          "height": 676
        },
        "outputId": "2a8b68fa-9577-4e7f-8aca-8cfc1b8acd50"
      },
      "execution_count": 27,
      "outputs": [
        {
          "output_type": "execute_result",
          "data": {
            "text/plain": [
              "                                count           mean            std  \\\n",
              "Loan Amount                   67463.0   16848.902776    8367.865726   \n",
              "Funded Amount                 67463.0   15770.599114    8150.992662   \n",
              "Funded Amount Investor        67463.0   14621.799323    6785.345170   \n",
              "Interest Rate                 67463.0      11.846258       3.718629   \n",
              "Home Ownership                67463.0   80541.502522   45029.120366   \n",
              "Debit to Income               67463.0      23.299241       8.451824   \n",
              "Delinquency - two years       67463.0       0.327127       0.800888   \n",
              "Open Account                  67463.0      14.266561       6.225060   \n",
              "Revolving Balance             67463.0    7699.342425    7836.148190   \n",
              "Revolving Utilities           67463.0      52.889443      22.539450   \n",
              "Total Accounts                67463.0      18.627929       8.319246   \n",
              "Total Received Interest       67463.0    2068.992542    2221.918745   \n",
              "Total Received Late Fee       67463.0       1.143969       5.244365   \n",
              "Recoveries                    67463.0      59.691578     357.026346   \n",
              "Collection Recovery Fee       67463.0       1.125141       3.489885   \n",
              "Last week Pay                 67463.0      71.163260      43.315845   \n",
              "Total Collection Amount       67463.0     146.467990     744.382233   \n",
              "Total Current Balance         67463.0  159573.933638  139033.245565   \n",
              "Total Revolving Credit Limit  67463.0   23123.005544   20916.699999   \n",
              "Loan Status                   67463.0       0.092510       0.289747   \n",
              "\n",
              "                                       min           25%            50%  \\\n",
              "Loan Amount                    1014.000000  10012.000000   16073.000000   \n",
              "Funded Amount                  1014.000000   9266.500000   13042.000000   \n",
              "Funded Amount Investor         1114.590204   9831.684984   12793.682170   \n",
              "Interest Rate                     5.320006      9.297147      11.377696   \n",
              "Home Ownership                14573.537170  51689.843335   69335.832680   \n",
              "Debit to Income                   0.675299     16.756416      22.656658   \n",
              "Delinquency - two years           0.000000      0.000000       0.000000   \n",
              "Open Account                      2.000000     10.000000      13.000000   \n",
              "Revolving Balance                 0.000000   2557.000000    5516.000000   \n",
              "Revolving Utilities               0.005172     38.658825      54.082334   \n",
              "Total Accounts                    4.000000     13.000000      18.000000   \n",
              "Total Received Interest           4.736746    570.903814    1330.842771   \n",
              "Total Received Late Fee           0.000003      0.021114       0.043398   \n",
              "Recoveries                        0.000036      1.629818       3.344524   \n",
              "Collection Recovery Fee           0.000036      0.476259       0.780141   \n",
              "Last week Pay                     0.000000     35.000000      68.000000   \n",
              "Total Collection Amount           1.000000     24.000000      36.000000   \n",
              "Total Current Balance           617.000000  50379.000000  118369.000000   \n",
              "Total Revolving Credit Limit   1000.000000   8155.500000   16733.000000   \n",
              "Loan Status                       0.000000      0.000000       0.000000   \n",
              "\n",
              "                                        75%           max  \n",
              "Loan Amount                    22106.000000  3.500000e+04  \n",
              "Funded Amount                  21793.000000  3.499900e+04  \n",
              "Funded Amount Investor         17807.594120  3.499975e+04  \n",
              "Interest Rate                     14.193533  2.718235e+01  \n",
              "Home Ownership                 94623.322785  4.065615e+05  \n",
              "Debit to Income                   30.048400  3.962986e+01  \n",
              "Delinquency - two years            0.000000  8.000000e+00  \n",
              "Open Account                      16.000000  3.700000e+01  \n",
              "Revolving Balance              10184.500000  1.169330e+05  \n",
              "Revolving Utilities               69.177117  1.008800e+02  \n",
              "Total Accounts                    23.000000  7.200000e+01  \n",
              "Total Received Interest         2656.956837  1.430137e+04  \n",
              "Total Received Late Fee            0.071884  4.261888e+01  \n",
              "Recoveries                         5.453727  4.354467e+03  \n",
              "Collection Recovery Fee            1.070566  1.668330e+02  \n",
              "Last week Pay                    105.000000  1.610000e+02  \n",
              "Total Collection Amount           46.000000  1.642100e+04  \n",
              "Total Current Balance         228375.000000  1.177412e+06  \n",
              "Total Revolving Credit Limit   32146.500000  2.011690e+05  \n",
              "Loan Status                        0.000000  1.000000e+00  "
            ],
            "text/html": [
              "\n",
              "  <div id=\"df-bf26085a-e3b5-4915-af50-82890485ff2b\">\n",
              "    <div class=\"colab-df-container\">\n",
              "      <div>\n",
              "<style scoped>\n",
              "    .dataframe tbody tr th:only-of-type {\n",
              "        vertical-align: middle;\n",
              "    }\n",
              "\n",
              "    .dataframe tbody tr th {\n",
              "        vertical-align: top;\n",
              "    }\n",
              "\n",
              "    .dataframe thead th {\n",
              "        text-align: right;\n",
              "    }\n",
              "</style>\n",
              "<table border=\"1\" class=\"dataframe\">\n",
              "  <thead>\n",
              "    <tr style=\"text-align: right;\">\n",
              "      <th></th>\n",
              "      <th>count</th>\n",
              "      <th>mean</th>\n",
              "      <th>std</th>\n",
              "      <th>min</th>\n",
              "      <th>25%</th>\n",
              "      <th>50%</th>\n",
              "      <th>75%</th>\n",
              "      <th>max</th>\n",
              "    </tr>\n",
              "  </thead>\n",
              "  <tbody>\n",
              "    <tr>\n",
              "      <th>Loan Amount</th>\n",
              "      <td>67463.0</td>\n",
              "      <td>16848.902776</td>\n",
              "      <td>8367.865726</td>\n",
              "      <td>1014.000000</td>\n",
              "      <td>10012.000000</td>\n",
              "      <td>16073.000000</td>\n",
              "      <td>22106.000000</td>\n",
              "      <td>3.500000e+04</td>\n",
              "    </tr>\n",
              "    <tr>\n",
              "      <th>Funded Amount</th>\n",
              "      <td>67463.0</td>\n",
              "      <td>15770.599114</td>\n",
              "      <td>8150.992662</td>\n",
              "      <td>1014.000000</td>\n",
              "      <td>9266.500000</td>\n",
              "      <td>13042.000000</td>\n",
              "      <td>21793.000000</td>\n",
              "      <td>3.499900e+04</td>\n",
              "    </tr>\n",
              "    <tr>\n",
              "      <th>Funded Amount Investor</th>\n",
              "      <td>67463.0</td>\n",
              "      <td>14621.799323</td>\n",
              "      <td>6785.345170</td>\n",
              "      <td>1114.590204</td>\n",
              "      <td>9831.684984</td>\n",
              "      <td>12793.682170</td>\n",
              "      <td>17807.594120</td>\n",
              "      <td>3.499975e+04</td>\n",
              "    </tr>\n",
              "    <tr>\n",
              "      <th>Interest Rate</th>\n",
              "      <td>67463.0</td>\n",
              "      <td>11.846258</td>\n",
              "      <td>3.718629</td>\n",
              "      <td>5.320006</td>\n",
              "      <td>9.297147</td>\n",
              "      <td>11.377696</td>\n",
              "      <td>14.193533</td>\n",
              "      <td>2.718235e+01</td>\n",
              "    </tr>\n",
              "    <tr>\n",
              "      <th>Home Ownership</th>\n",
              "      <td>67463.0</td>\n",
              "      <td>80541.502522</td>\n",
              "      <td>45029.120366</td>\n",
              "      <td>14573.537170</td>\n",
              "      <td>51689.843335</td>\n",
              "      <td>69335.832680</td>\n",
              "      <td>94623.322785</td>\n",
              "      <td>4.065615e+05</td>\n",
              "    </tr>\n",
              "    <tr>\n",
              "      <th>Debit to Income</th>\n",
              "      <td>67463.0</td>\n",
              "      <td>23.299241</td>\n",
              "      <td>8.451824</td>\n",
              "      <td>0.675299</td>\n",
              "      <td>16.756416</td>\n",
              "      <td>22.656658</td>\n",
              "      <td>30.048400</td>\n",
              "      <td>3.962986e+01</td>\n",
              "    </tr>\n",
              "    <tr>\n",
              "      <th>Delinquency - two years</th>\n",
              "      <td>67463.0</td>\n",
              "      <td>0.327127</td>\n",
              "      <td>0.800888</td>\n",
              "      <td>0.000000</td>\n",
              "      <td>0.000000</td>\n",
              "      <td>0.000000</td>\n",
              "      <td>0.000000</td>\n",
              "      <td>8.000000e+00</td>\n",
              "    </tr>\n",
              "    <tr>\n",
              "      <th>Open Account</th>\n",
              "      <td>67463.0</td>\n",
              "      <td>14.266561</td>\n",
              "      <td>6.225060</td>\n",
              "      <td>2.000000</td>\n",
              "      <td>10.000000</td>\n",
              "      <td>13.000000</td>\n",
              "      <td>16.000000</td>\n",
              "      <td>3.700000e+01</td>\n",
              "    </tr>\n",
              "    <tr>\n",
              "      <th>Revolving Balance</th>\n",
              "      <td>67463.0</td>\n",
              "      <td>7699.342425</td>\n",
              "      <td>7836.148190</td>\n",
              "      <td>0.000000</td>\n",
              "      <td>2557.000000</td>\n",
              "      <td>5516.000000</td>\n",
              "      <td>10184.500000</td>\n",
              "      <td>1.169330e+05</td>\n",
              "    </tr>\n",
              "    <tr>\n",
              "      <th>Revolving Utilities</th>\n",
              "      <td>67463.0</td>\n",
              "      <td>52.889443</td>\n",
              "      <td>22.539450</td>\n",
              "      <td>0.005172</td>\n",
              "      <td>38.658825</td>\n",
              "      <td>54.082334</td>\n",
              "      <td>69.177117</td>\n",
              "      <td>1.008800e+02</td>\n",
              "    </tr>\n",
              "    <tr>\n",
              "      <th>Total Accounts</th>\n",
              "      <td>67463.0</td>\n",
              "      <td>18.627929</td>\n",
              "      <td>8.319246</td>\n",
              "      <td>4.000000</td>\n",
              "      <td>13.000000</td>\n",
              "      <td>18.000000</td>\n",
              "      <td>23.000000</td>\n",
              "      <td>7.200000e+01</td>\n",
              "    </tr>\n",
              "    <tr>\n",
              "      <th>Total Received Interest</th>\n",
              "      <td>67463.0</td>\n",
              "      <td>2068.992542</td>\n",
              "      <td>2221.918745</td>\n",
              "      <td>4.736746</td>\n",
              "      <td>570.903814</td>\n",
              "      <td>1330.842771</td>\n",
              "      <td>2656.956837</td>\n",
              "      <td>1.430137e+04</td>\n",
              "    </tr>\n",
              "    <tr>\n",
              "      <th>Total Received Late Fee</th>\n",
              "      <td>67463.0</td>\n",
              "      <td>1.143969</td>\n",
              "      <td>5.244365</td>\n",
              "      <td>0.000003</td>\n",
              "      <td>0.021114</td>\n",
              "      <td>0.043398</td>\n",
              "      <td>0.071884</td>\n",
              "      <td>4.261888e+01</td>\n",
              "    </tr>\n",
              "    <tr>\n",
              "      <th>Recoveries</th>\n",
              "      <td>67463.0</td>\n",
              "      <td>59.691578</td>\n",
              "      <td>357.026346</td>\n",
              "      <td>0.000036</td>\n",
              "      <td>1.629818</td>\n",
              "      <td>3.344524</td>\n",
              "      <td>5.453727</td>\n",
              "      <td>4.354467e+03</td>\n",
              "    </tr>\n",
              "    <tr>\n",
              "      <th>Collection Recovery Fee</th>\n",
              "      <td>67463.0</td>\n",
              "      <td>1.125141</td>\n",
              "      <td>3.489885</td>\n",
              "      <td>0.000036</td>\n",
              "      <td>0.476259</td>\n",
              "      <td>0.780141</td>\n",
              "      <td>1.070566</td>\n",
              "      <td>1.668330e+02</td>\n",
              "    </tr>\n",
              "    <tr>\n",
              "      <th>Last week Pay</th>\n",
              "      <td>67463.0</td>\n",
              "      <td>71.163260</td>\n",
              "      <td>43.315845</td>\n",
              "      <td>0.000000</td>\n",
              "      <td>35.000000</td>\n",
              "      <td>68.000000</td>\n",
              "      <td>105.000000</td>\n",
              "      <td>1.610000e+02</td>\n",
              "    </tr>\n",
              "    <tr>\n",
              "      <th>Total Collection Amount</th>\n",
              "      <td>67463.0</td>\n",
              "      <td>146.467990</td>\n",
              "      <td>744.382233</td>\n",
              "      <td>1.000000</td>\n",
              "      <td>24.000000</td>\n",
              "      <td>36.000000</td>\n",
              "      <td>46.000000</td>\n",
              "      <td>1.642100e+04</td>\n",
              "    </tr>\n",
              "    <tr>\n",
              "      <th>Total Current Balance</th>\n",
              "      <td>67463.0</td>\n",
              "      <td>159573.933638</td>\n",
              "      <td>139033.245565</td>\n",
              "      <td>617.000000</td>\n",
              "      <td>50379.000000</td>\n",
              "      <td>118369.000000</td>\n",
              "      <td>228375.000000</td>\n",
              "      <td>1.177412e+06</td>\n",
              "    </tr>\n",
              "    <tr>\n",
              "      <th>Total Revolving Credit Limit</th>\n",
              "      <td>67463.0</td>\n",
              "      <td>23123.005544</td>\n",
              "      <td>20916.699999</td>\n",
              "      <td>1000.000000</td>\n",
              "      <td>8155.500000</td>\n",
              "      <td>16733.000000</td>\n",
              "      <td>32146.500000</td>\n",
              "      <td>2.011690e+05</td>\n",
              "    </tr>\n",
              "    <tr>\n",
              "      <th>Loan Status</th>\n",
              "      <td>67463.0</td>\n",
              "      <td>0.092510</td>\n",
              "      <td>0.289747</td>\n",
              "      <td>0.000000</td>\n",
              "      <td>0.000000</td>\n",
              "      <td>0.000000</td>\n",
              "      <td>0.000000</td>\n",
              "      <td>1.000000e+00</td>\n",
              "    </tr>\n",
              "  </tbody>\n",
              "</table>\n",
              "</div>\n",
              "      <button class=\"colab-df-convert\" onclick=\"convertToInteractive('df-bf26085a-e3b5-4915-af50-82890485ff2b')\"\n",
              "              title=\"Convert this dataframe to an interactive table.\"\n",
              "              style=\"display:none;\">\n",
              "        \n",
              "  <svg xmlns=\"http://www.w3.org/2000/svg\" height=\"24px\"viewBox=\"0 0 24 24\"\n",
              "       width=\"24px\">\n",
              "    <path d=\"M0 0h24v24H0V0z\" fill=\"none\"/>\n",
              "    <path d=\"M18.56 5.44l.94 2.06.94-2.06 2.06-.94-2.06-.94-.94-2.06-.94 2.06-2.06.94zm-11 1L8.5 8.5l.94-2.06 2.06-.94-2.06-.94L8.5 2.5l-.94 2.06-2.06.94zm10 10l.94 2.06.94-2.06 2.06-.94-2.06-.94-.94-2.06-.94 2.06-2.06.94z\"/><path d=\"M17.41 7.96l-1.37-1.37c-.4-.4-.92-.59-1.43-.59-.52 0-1.04.2-1.43.59L10.3 9.45l-7.72 7.72c-.78.78-.78 2.05 0 2.83L4 21.41c.39.39.9.59 1.41.59.51 0 1.02-.2 1.41-.59l7.78-7.78 2.81-2.81c.8-.78.8-2.07 0-2.86zM5.41 20L4 18.59l7.72-7.72 1.47 1.35L5.41 20z\"/>\n",
              "  </svg>\n",
              "      </button>\n",
              "      \n",
              "  <style>\n",
              "    .colab-df-container {\n",
              "      display:flex;\n",
              "      flex-wrap:wrap;\n",
              "      gap: 12px;\n",
              "    }\n",
              "\n",
              "    .colab-df-convert {\n",
              "      background-color: #E8F0FE;\n",
              "      border: none;\n",
              "      border-radius: 50%;\n",
              "      cursor: pointer;\n",
              "      display: none;\n",
              "      fill: #1967D2;\n",
              "      height: 32px;\n",
              "      padding: 0 0 0 0;\n",
              "      width: 32px;\n",
              "    }\n",
              "\n",
              "    .colab-df-convert:hover {\n",
              "      background-color: #E2EBFA;\n",
              "      box-shadow: 0px 1px 2px rgba(60, 64, 67, 0.3), 0px 1px 3px 1px rgba(60, 64, 67, 0.15);\n",
              "      fill: #174EA6;\n",
              "    }\n",
              "\n",
              "    [theme=dark] .colab-df-convert {\n",
              "      background-color: #3B4455;\n",
              "      fill: #D2E3FC;\n",
              "    }\n",
              "\n",
              "    [theme=dark] .colab-df-convert:hover {\n",
              "      background-color: #434B5C;\n",
              "      box-shadow: 0px 1px 3px 1px rgba(0, 0, 0, 0.15);\n",
              "      filter: drop-shadow(0px 1px 2px rgba(0, 0, 0, 0.3));\n",
              "      fill: #FFFFFF;\n",
              "    }\n",
              "  </style>\n",
              "\n",
              "      <script>\n",
              "        const buttonEl =\n",
              "          document.querySelector('#df-bf26085a-e3b5-4915-af50-82890485ff2b button.colab-df-convert');\n",
              "        buttonEl.style.display =\n",
              "          google.colab.kernel.accessAllowed ? 'block' : 'none';\n",
              "\n",
              "        async function convertToInteractive(key) {\n",
              "          const element = document.querySelector('#df-bf26085a-e3b5-4915-af50-82890485ff2b');\n",
              "          const dataTable =\n",
              "            await google.colab.kernel.invokeFunction('convertToInteractive',\n",
              "                                                     [key], {});\n",
              "          if (!dataTable) return;\n",
              "\n",
              "          const docLinkHtml = 'Like what you see? Visit the ' +\n",
              "            '<a target=\"_blank\" href=https://colab.research.google.com/notebooks/data_table.ipynb>data table notebook</a>'\n",
              "            + ' to learn more about interactive tables.';\n",
              "          element.innerHTML = '';\n",
              "          dataTable['output_type'] = 'display_data';\n",
              "          await google.colab.output.renderOutput(dataTable, element);\n",
              "          const docLink = document.createElement('div');\n",
              "          docLink.innerHTML = docLinkHtml;\n",
              "          element.appendChild(docLink);\n",
              "        }\n",
              "      </script>\n",
              "    </div>\n",
              "  </div>\n",
              "  "
            ]
          },
          "metadata": {},
          "execution_count": 27
        }
      ]
    },
    {
      "cell_type": "markdown",
      "source": [
        "###Outliers"
      ],
      "metadata": {
        "id": "2ZadsdNARLrr"
      }
    },
    {
      "cell_type": "code",
      "source": [
        "#The numeric data\n",
        "\n",
        "#From the boxplots we see the presence of outliers. This can skew the data. \n",
        "#I am aiming for a normal distribution for my models.\n",
        "\n",
        "numeric_data = pd.DataFrame(df._get_numeric_data())\n",
        "\n",
        "fig, ax = plt.subplots(figsize = (25, 25)) #change size\n",
        "for n, col in enumerate(numeric_data.columns):\n",
        "    plt.subplot(7, 4, n+1) #Adjust rows, columns of subplots\n",
        "    numeric_data[col].plot(ax = plt.gca(), kind='box')\n",
        "    plt.title(col)\n",
        "    \n",
        "plt.show()"
      ],
      "metadata": {
        "id": "C4byUeEDROI7",
        "colab": {
          "base_uri": "https://localhost:8080/",
          "height": 1000
        },
        "outputId": "9d5b8521-958a-4247-e6e7-2d8fdcd7d2d3"
      },
      "execution_count": 28,
      "outputs": [
        {
          "output_type": "stream",
          "name": "stderr",
          "text": [
            "<ipython-input-28-95c75d6cf2c6>:10: MatplotlibDeprecationWarning: Auto-removal of overlapping axes is deprecated since 3.6 and will be removed two minor releases later; explicitly call ax.remove() as needed.\n",
            "  plt.subplot(7, 4, n+1) #Adjust rows, columns of subplots\n"
          ]
        },
        {
          "output_type": "display_data",
          "data": {
            "text/plain": [
              "<Figure size 2500x2500 with 20 Axes>"
            ],
            "image/png": "[encoded data removed]"
          },
          "metadata": {}
        }
      ]
    },
    {
      "cell_type": "markdown",
      "source": [
        "##Summary of EDA\n",
        "\n",
        "- `ID` holds no values for our models as they are all unique and serve only as an ID of each index so I have dropped it.\n",
        "\n",
        "- No missing values and I was able to drop columns with only 1 unique value.They were: `Payment Plan` and `Accounts Delinquent`\n",
        "\n",
        "- Reduced Unique Categories of `Loan Title `to top 3 which held 90% of values previously.\n",
        "\n",
        "\n",
        "\n",
        "- No Duplicates\n",
        "\n",
        "- There are some imblanced columns which we may be able to use for some additional predictions such as:\n",
        "\n",
        "1. `Predicting Public Record` - Do they or should they?\n",
        "\n",
        "2. `Predicting Collections` - Collection 12 months Medical: total collections in last 12 months - excluding medical collections\n",
        "\n",
        "3. Predicting `Loan Status` - Default or not\n",
        "\n",
        "- None of the features appear to be highly correlated to each other\n",
        "\n",
        "- We have skewed data that we can reduce to make more normalized\n",
        "\n",
        "- Data is on different scale so as a standard we must scale it.\n",
        "\n",
        "- There are outliers in the numeric data which will need to be handled.\n"
      ],
      "metadata": {
        "id": "ozzMz6fIQ9ba"
      }
    },
    {
      "cell_type": "code",
      "source": [
        "#Too many classes with 41. No way of interpreting or binning\n",
        "df = df.drop('Batch Enrolled',axis=1)"
      ],
      "metadata": {
        "id": "WvLB4Yv5InP6"
      },
      "execution_count": 29,
      "outputs": []
    },
    {
      "cell_type": "markdown",
      "source": [
        "##Preprocessing Pipelines\n",
        "\n",
        "I will use 3 different pipelines for preprocessing the data before moving onto Feature Selection"
      ],
      "metadata": {
        "id": "cKw358BmqXsB"
      }
    },
    {
      "cell_type": "code",
      "source": [
        "X = df.drop('Loan Status', axis=1)\n",
        "y = df['Loan Status'] \n",
        "\n",
        "\n",
        "X_train, X_test, y_train, y_test = train_test_split(X, y, test_size =.33, random_state=2023, shuffle=True)\n",
        "\n",
        "\n",
        "\n",
        "\n"
      ],
      "metadata": {
        "id": "zZ6B-0C_lhLf"
      },
      "execution_count": 110,
      "outputs": []
    },
    {
      "cell_type": "code",
      "source": [
        "## outlier handling function - IQR\n",
        "def my_iqr(col):\n",
        "  \"\"\"outlier handling via the IQR method\"\"\"\n",
        "  ### use np functions to better fit in pipeline\n",
        "  iqr = 1.5 * (np.quantile(col,.75) - np.quantile(col,.25))\n",
        "  u_bound = np.quantile(col,.75) + iqr\n",
        "  l_bound = np.quantile(col,.25) - iqr\n",
        "  col[col > u_bound], col[col < l_bound] = u_bound, l_bound\n",
        "  return col\n",
        "\n",
        "iqr_handler = FunctionTransformer(my_iqr)"
      ],
      "metadata": {
        "id": "k2aKB8IAIUTj"
      },
      "execution_count": 31,
      "outputs": []
    },
    {
      "cell_type": "code",
      "source": [
        "## Handling outliers with x_bar +/- 3*StD\n",
        "def my_std(col):\n",
        "    mean = col.mean()\n",
        "    std = col.std()\n",
        "    lower_bound = mean - 3 * std\n",
        "    upper_bound = mean + 3 * std\n",
        "    col = np.where(col > upper_bound, upper_bound, col)\n",
        "    col = np.where(col < lower_bound, lower_bound, col)\n",
        "    return col\n",
        "\n",
        "std_handler = FunctionTransformer(my_std)"
      ],
      "metadata": {
        "id": "FaIAwLFhH1Uz"
      },
      "execution_count": 32,
      "outputs": []
    },
    {
      "cell_type": "code",
      "source": [
        "# Define transformers for numerical and categorical columns\n",
        "\n",
        "#Process 1\n",
        "# numerical_transformer = Pipeline(steps=[\n",
        "#     ('imputer', SimpleImputer(strategy='mean')),\n",
        "#     ('iqr', iqr_handler),\n",
        "#     ('scaler', StandardScaler()),\n",
        "#     ('normalizer', Normalizer())\n",
        "# ])\n",
        "\n",
        "#-----\n",
        "\n",
        "# #Process 2| better than process 1 ans 2\n",
        "# numerical_transformer = Pipeline([\n",
        "#     ('cat_imputer', SimpleImputer(strategy='most_frequent')),## imputer - no need here but as placeholder\n",
        "#     (\"skewness\", PowerTransformer()), ## skewness removal \n",
        "#     ('outlier', std_handler), ## outlier handling \n",
        "#     (\"scaler\", StandardScaler()) ## z-score scaler \n",
        "# ])\n",
        "\n",
        "#----\n",
        "\n",
        "#Process 3\n",
        "# cont_preproc = Pipeline([\n",
        "#     ('cat_imputer', SimpleImputer(strategy='most_frequent')),## imputer - no need here but as placeholder\n",
        "#     ('outlier', iqr_handler), ## outlier handling \n",
        "#     (\"scaler\", MinMaxScaler()), ## minmax scaler \n",
        "#     (\"skewness\", PowerTransformer()) ## skewness removal \n",
        "# ])\n",
        "\n",
        "#-----\n",
        "\n",
        "#Process 2 but with RobustScaler()\n",
        "# numerical_transformer = Pipeline(steps=[\n",
        "#     (\"skewness\", PowerTransformer()), ## skewness removal \n",
        "#     # ('outlier', std_handler), ## outlier handling \n",
        "#     (\"scaler\", RobustScaler())\n",
        "# ])\n",
        "\n",
        "# Process4\n",
        "numerical_transformer = Pipeline([\n",
        "    ('cat_imputer', SimpleImputer(strategy='most_frequent')),## imputer - no need here but as placeholder\n",
        "    (\"skewness\", PowerTransformer()), ## skewness removal \n",
        "    ('outlier', std_handler), ## outlier handling \n",
        "    (\"scaler\", StandardScaler()) ## z-score scaler \n",
        "])\n",
        "\n",
        "\n",
        "\n",
        "#---------\n",
        "\n",
        "#Categorical\n",
        "categorical_transformer = Pipeline(steps=[\n",
        "    ('imputer', SimpleImputer(strategy='constant', fill_value='missing')),\n",
        "    ('onehot', OneHotEncoder(handle_unknown='ignore', sparse = False))\n",
        "])"
      ],
      "metadata": {
        "id": "fQutJ7LtWwhk"
      },
      "execution_count": 33,
      "outputs": []
    },
    {
      "cell_type": "code",
      "source": [
        "#Categorical and numeric columns\n",
        "\n",
        "categorical_columns = df.select_dtypes(include=['object', 'category']).columns\n",
        "\n",
        "#Sliced to exclude our target variable Loan Status\n",
        "numerical_columns = df.select_dtypes(include=['int64', 'float64']).columns[:-1]\n",
        "\n",
        "# Combine transformers using ColumnTransformer\n",
        "preprocessor = ColumnTransformer(\n",
        "    transformers=[\n",
        "        ('num', numerical_transformer, numerical_columns),\n",
        "        ('cat', categorical_transformer, categorical_columns)\n",
        "    ],remainder = 'passthrough')\n",
        "\n",
        "\n",
        "pipeline = Pipeline(steps=[\n",
        "    ('preprocessor', preprocessor)\n",
        "])"
      ],
      "metadata": {
        "id": "uIutS2daQN-a"
      },
      "execution_count": 34,
      "outputs": []
    },
    {
      "cell_type": "code",
      "source": [
        "# Apply the pipeline to your dataset\n",
        "X = df.drop('Loan Status', axis=1)\n",
        "y = df['Loan Status'] \n",
        "\n",
        "\n",
        "\n",
        "#Preprocessed Feature Data\n",
        "Xp = pipeline.fit_transform(X)\n",
        "\n"
      ],
      "metadata": {
        "id": "oB98Bb6cWLGX",
        "colab": {
          "base_uri": "https://localhost:8080/"
        },
        "outputId": "cb02a532-78a4-4548-b06d-56e05c048570"
      },
      "execution_count": 35,
      "outputs": [
        {
          "output_type": "stream",
          "name": "stderr",
          "text": [
            "/usr/local/lib/python3.10/dist-packages/sklearn/preprocessing/_encoders.py:868: FutureWarning: `sparse` was renamed to `sparse_output` in version 1.2 and will be removed in 1.4. `sparse_output` is ignored unless you leave `sparse` to its default value.\n",
            "  warnings.warn(\n"
          ]
        }
      ]
    },
    {
      "cell_type": "code",
      "source": [
        "#column names will have to be re-added so we can dinetify our features for feature selection\n",
        "Xp\n"
      ],
      "metadata": {
        "id": "v-91a3vpZs4Q",
        "colab": {
          "base_uri": "https://localhost:8080/"
        },
        "outputId": "05c62699-56a7-40f3-c5f8-1a402f69a3ce"
      },
      "execution_count": 36,
      "outputs": [
        {
          "output_type": "execute_result",
          "data": {
            "text/plain": [
              "array([[-0.76525925,  1.65587879, -0.16968932, ...,  0.        ,\n",
              "         1.        ,  0.        ],\n",
              "       [-1.84020072, -0.29798961, -0.19408226, ...,  0.        ,\n",
              "         1.        ,  0.        ],\n",
              "       [ 1.28844748, -0.74577519,  1.08424034, ...,  0.        ,\n",
              "         1.        ,  0.        ],\n",
              "       ...,\n",
              "       [-0.00691227,  1.70028232, -0.16967255, ...,  0.        ,\n",
              "         1.        ,  0.        ],\n",
              "       [ 0.07159136, -1.806831  ,  1.05760062, ...,  0.        ,\n",
              "         1.        ,  0.        ],\n",
              "       [-0.07160833,  1.49635317,  0.14118932, ...,  0.        ,\n",
              "         1.        ,  0.        ]])"
            ]
          },
          "metadata": {},
          "execution_count": 36
        }
      ]
    },
    {
      "cell_type": "code",
      "source": [
        "transformed_cols = np.concatenate((X[numerical_columns].columns.values, OneHotEncoder().fit(X[categorical_columns]).get_feature_names_out(categorical_columns)))\n",
        "transformed_cols"
      ],
      "metadata": {
        "id": "l4Cmj6pkveN-",
        "colab": {
          "base_uri": "https://localhost:8080/"
        },
        "outputId": "3c09a595-7a64-4ef0-a69e-48ab6fddbe68"
      },
      "execution_count": 37,
      "outputs": [
        {
          "output_type": "execute_result",
          "data": {
            "text/plain": [
              "array(['Loan Amount', 'Funded Amount', 'Funded Amount Investor',\n",
              "       'Interest Rate', 'Home Ownership', 'Debit to Income',\n",
              "       'Delinquency - two years', 'Open Account', 'Revolving Balance',\n",
              "       'Revolving Utilities', 'Total Accounts', 'Total Received Interest',\n",
              "       'Total Received Late Fee', 'Recoveries', 'Collection Recovery Fee',\n",
              "       'Last week Pay', 'Total Collection Amount',\n",
              "       'Total Current Balance', 'Total Revolving Credit Limit', 'Term_36',\n",
              "       'Term_58', 'Term_59', 'Grade_A', 'Grade_B', 'Grade_C', 'Grade_D',\n",
              "       'Grade_E', 'Grade_F', 'Grade_G', 'Sub Grade_A1', 'Sub Grade_A2',\n",
              "       'Sub Grade_A3', 'Sub Grade_A4', 'Sub Grade_A5', 'Sub Grade_B1',\n",
              "       'Sub Grade_B2', 'Sub Grade_B3', 'Sub Grade_B4', 'Sub Grade_B5',\n",
              "       'Sub Grade_C1', 'Sub Grade_C2', 'Sub Grade_C3', 'Sub Grade_C4',\n",
              "       'Sub Grade_C5', 'Sub Grade_D1', 'Sub Grade_D2', 'Sub Grade_D3',\n",
              "       'Sub Grade_D4', 'Sub Grade_D5', 'Sub Grade_E1', 'Sub Grade_E2',\n",
              "       'Sub Grade_E3', 'Sub Grade_E4', 'Sub Grade_E5', 'Sub Grade_F1',\n",
              "       'Sub Grade_F2', 'Sub Grade_F3', 'Sub Grade_F4', 'Sub Grade_F5',\n",
              "       'Sub Grade_G1', 'Sub Grade_G2', 'Sub Grade_G3', 'Sub Grade_G4',\n",
              "       'Sub Grade_G5', 'Employment Duration_MORTGAGE',\n",
              "       'Employment Duration_OWN', 'Employment Duration_RENT',\n",
              "       'Verification Status_Not Verified',\n",
              "       'Verification Status_Source Verified',\n",
              "       'Verification Status_Verified',\n",
              "       'Loan Title_Credit card refinancing',\n",
              "       'Loan Title_Debt Consolidation', 'Loan Title_Other',\n",
              "       'Inquires - six months_0', 'Inquires - six months_1',\n",
              "       'Inquires - six months_2', 'Inquires - six months_3',\n",
              "       'Inquires - six months_4', 'Inquires - six months_5',\n",
              "       'Public Record_0', 'Public Record_1', 'Public Record_2',\n",
              "       'Public Record_3', 'Public Record_4', 'Initial List Status_f',\n",
              "       'Initial List Status_w', 'Collection 12 months Medical_0',\n",
              "       'Collection 12 months Medical_1', 'Application Type_INDIVIDUAL',\n",
              "       'Application Type_JOINT'], dtype=object)"
            ]
          },
          "metadata": {},
          "execution_count": 37
        }
      ]
    },
    {
      "cell_type": "code",
      "source": [
        "Xp_df = pd.DataFrame(Xp, columns=transformed_cols)\n",
        "\n",
        "Xp_df"
      ],
      "metadata": {
        "id": "xyAa5WBpxzY1",
        "colab": {
          "base_uri": "https://localhost:8080/",
          "height": 522
        },
        "outputId": "94cd3149-f241-425d-d3a7-ca7ee9f7afa3"
      },
      "execution_count": 38,
      "outputs": [
        {
          "output_type": "execute_result",
          "data": {
            "text/plain": [
              "       Loan Amount  Funded Amount  Funded Amount Investor  Interest Rate  \\\n",
              "0        -0.765259       1.655879               -0.169689      -0.082146   \n",
              "1        -1.840201      -0.297990               -0.194082       0.217592   \n",
              "2         1.288447      -0.745775                1.084240       0.297883   \n",
              "3        -0.603201      -1.251610                0.653691       1.266635   \n",
              "4         0.108993      -0.109194                0.035215       0.892288   \n",
              "...            ...            ...                     ...            ...   \n",
              "67458    -0.286341      -1.277656               -0.024694      -0.597637   \n",
              "67459    -1.011149      -0.439813                0.353791      -0.422486   \n",
              "67460    -0.006912       1.700282               -0.169673       1.840255   \n",
              "67461     0.071591      -1.806831                1.057601       0.455883   \n",
              "67462    -0.071608       1.496353                0.141189       1.118890   \n",
              "\n",
              "       Home Ownership  Debit to Income  Delinquency - two years  Open Account  \\\n",
              "0            1.783116        -0.809044                 1.818119      0.021621   \n",
              "1           -1.227532        -0.920228                -0.544000     -0.192084   \n",
              "2            0.553892         0.596216                -0.544000      0.215120   \n",
              "3            0.883294        -0.588780                 1.818119     -1.755206   \n",
              "4           -0.988170        -0.692570                 1.818119      0.021621   \n",
              "...               ...              ...                      ...           ...   \n",
              "67458        0.381645         0.592576                 1.818119      0.021621   \n",
              "67459       -0.130796        -0.632143                -0.544000     -0.192084   \n",
              "67460       -1.541888        -1.604280                -0.544000     -1.755206   \n",
              "67461        0.667838        -1.991474                -0.544000      0.215120   \n",
              "67462        0.826008        -0.838564                -0.544000      1.965482   \n",
              "\n",
              "       Revolving Balance  Revolving Utilities  ...  Public Record_1  \\\n",
              "0               1.757209             0.981326  ...              0.0   \n",
              "1              -1.443207             1.133680  ...              0.0   \n",
              "2              -0.905813            -2.204863  ...              0.0   \n",
              "3               1.016785             0.644297  ...              0.0   \n",
              "4              -1.031701             1.449349  ...              1.0   \n",
              "...                  ...                  ...  ...              ...   \n",
              "67458          -0.257036             2.020621  ...              0.0   \n",
              "67459           0.607105            -1.638808  ...              0.0   \n",
              "67460          -0.775733            -2.227589  ...              1.0   \n",
              "67461          -1.216626             0.689994  ...              0.0   \n",
              "67462           0.490728             1.287676  ...              0.0   \n",
              "\n",
              "       Public Record_2  Public Record_3  Public Record_4  \\\n",
              "0                  0.0              0.0              0.0   \n",
              "1                  0.0              0.0              0.0   \n",
              "2                  0.0              0.0              0.0   \n",
              "3                  0.0              0.0              0.0   \n",
              "4                  0.0              0.0              0.0   \n",
              "...                ...              ...              ...   \n",
              "67458              0.0              0.0              0.0   \n",
              "67459              0.0              0.0              0.0   \n",
              "67460              0.0              0.0              0.0   \n",
              "67461              0.0              0.0              0.0   \n",
              "67462              0.0              0.0              0.0   \n",
              "\n",
              "       Initial List Status_f  Initial List Status_w  \\\n",
              "0                        0.0                    1.0   \n",
              "1                        1.0                    0.0   \n",
              "2                        0.0                    1.0   \n",
              "3                        0.0                    1.0   \n",
              "4                        0.0                    1.0   \n",
              "...                      ...                    ...   \n",
              "67458                    0.0                    1.0   \n",
              "67459                    0.0                    1.0   \n",
              "67460                    0.0                    1.0   \n",
              "67461                    1.0                    0.0   \n",
              "67462                    1.0                    0.0   \n",
              "\n",
              "       Collection 12 months Medical_0  Collection 12 months Medical_1  \\\n",
              "0                                 1.0                             0.0   \n",
              "1                                 1.0                             0.0   \n",
              "2                                 1.0                             0.0   \n",
              "3                                 1.0                             0.0   \n",
              "4                                 1.0                             0.0   \n",
              "...                               ...                             ...   \n",
              "67458                             1.0                             0.0   \n",
              "67459                             1.0                             0.0   \n",
              "67460                             1.0                             0.0   \n",
              "67461                             1.0                             0.0   \n",
              "67462                             1.0                             0.0   \n",
              "\n",
              "       Application Type_INDIVIDUAL  Application Type_JOINT  \n",
              "0                              1.0                     0.0  \n",
              "1                              1.0                     0.0  \n",
              "2                              1.0                     0.0  \n",
              "3                              1.0                     0.0  \n",
              "4                              1.0                     0.0  \n",
              "...                            ...                     ...  \n",
              "67458                          1.0                     0.0  \n",
              "67459                          1.0                     0.0  \n",
              "67460                          1.0                     0.0  \n",
              "67461                          1.0                     0.0  \n",
              "67462                          1.0                     0.0  \n",
              "\n",
              "[67463 rows x 90 columns]"
            ],
            "text/html": [
              "\n",
              "  <div id=\"df-7740141b-4df1-4cfb-ad3c-8e598f3ae34c\">\n",
              "    <div class=\"colab-df-container\">\n",
              "      <div>\n",
              "<style scoped>\n",
              "    .dataframe tbody tr th:only-of-type {\n",
              "        vertical-align: middle;\n",
              "    }\n",
              "\n",
              "    .dataframe tbody tr th {\n",
              "        vertical-align: top;\n",
              "    }\n",
              "\n",
              "    .dataframe thead th {\n",
              "        text-align: right;\n",
              "    }\n",
              "</style>\n",
              "<table border=\"1\" class=\"dataframe\">\n",
              "  <thead>\n",
              "    <tr style=\"text-align: right;\">\n",
              "      <th></th>\n",
              "      <th>Loan Amount</th>\n",
              "      <th>Funded Amount</th>\n",
              "      <th>Funded Amount Investor</th>\n",
              "      <th>Interest Rate</th>\n",
              "      <th>Home Ownership</th>\n",
              "      <th>Debit to Income</th>\n",
              "      <th>Delinquency - two years</th>\n",
              "      <th>Open Account</th>\n",
              "      <th>Revolving Balance</th>\n",
              "      <th>Revolving Utilities</th>\n",
              "      <th>...</th>\n",
              "      <th>Public Record_1</th>\n",
              "      <th>Public Record_2</th>\n",
              "      <th>Public Record_3</th>\n",
              "      <th>Public Record_4</th>\n",
              "      <th>Initial List Status_f</th>\n",
              "      <th>Initial List Status_w</th>\n",
              "      <th>Collection 12 months Medical_0</th>\n",
              "      <th>Collection 12 months Medical_1</th>\n",
              "      <th>Application Type_INDIVIDUAL</th>\n",
              "      <th>Application Type_JOINT</th>\n",
              "    </tr>\n",
              "  </thead>\n",
              "  <tbody>\n",
              "    <tr>\n",
              "      <th>0</th>\n",
              "      <td>-0.765259</td>\n",
              "      <td>1.655879</td>\n",
              "      <td>-0.169689</td>\n",
              "      <td>-0.082146</td>\n",
              "      <td>1.783116</td>\n",
              "      <td>-0.809044</td>\n",
              "      <td>1.818119</td>\n",
              "      <td>0.021621</td>\n",
              "      <td>1.757209</td>\n",
              "      <td>0.981326</td>\n",
              "      <td>...</td>\n",
              "      <td>0.0</td>\n",
              "      <td>0.0</td>\n",
              "      <td>0.0</td>\n",
              "      <td>0.0</td>\n",
              "      <td>0.0</td>\n",
              "      <td>1.0</td>\n",
              "      <td>1.0</td>\n",
              "      <td>0.0</td>\n",
              "      <td>1.0</td>\n",
              "      <td>0.0</td>\n",
              "    </tr>\n",
              "    <tr>\n",
              "      <th>1</th>\n",
              "      <td>-1.840201</td>\n",
              "      <td>-0.297990</td>\n",
              "      <td>-0.194082</td>\n",
              "      <td>0.217592</td>\n",
              "      <td>-1.227532</td>\n",
              "      <td>-0.920228</td>\n",
              "      <td>-0.544000</td>\n",
              "      <td>-0.192084</td>\n",
              "      <td>-1.443207</td>\n",
              "      <td>1.133680</td>\n",
              "      <td>...</td>\n",
              "      <td>0.0</td>\n",
              "      <td>0.0</td>\n",
              "      <td>0.0</td>\n",
              "      <td>0.0</td>\n",
              "      <td>1.0</td>\n",
              "      <td>0.0</td>\n",
              "      <td>1.0</td>\n",
              "      <td>0.0</td>\n",
              "      <td>1.0</td>\n",
              "      <td>0.0</td>\n",
              "    </tr>\n",
              "    <tr>\n",
              "      <th>2</th>\n",
              "      <td>1.288447</td>\n",
              "      <td>-0.745775</td>\n",
              "      <td>1.084240</td>\n",
              "      <td>0.297883</td>\n",
              "      <td>0.553892</td>\n",
              "      <td>0.596216</td>\n",
              "      <td>-0.544000</td>\n",
              "      <td>0.215120</td>\n",
              "      <td>-0.905813</td>\n",
              "      <td>-2.204863</td>\n",
              "      <td>...</td>\n",
              "      <td>0.0</td>\n",
              "      <td>0.0</td>\n",
              "      <td>0.0</td>\n",
              "      <td>0.0</td>\n",
              "      <td>0.0</td>\n",
              "      <td>1.0</td>\n",
              "      <td>1.0</td>\n",
              "      <td>0.0</td>\n",
              "      <td>1.0</td>\n",
              "      <td>0.0</td>\n",
              "    </tr>\n",
              "    <tr>\n",
              "      <th>3</th>\n",
              "      <td>-0.603201</td>\n",
              "      <td>-1.251610</td>\n",
              "      <td>0.653691</td>\n",
              "      <td>1.266635</td>\n",
              "      <td>0.883294</td>\n",
              "      <td>-0.588780</td>\n",
              "      <td>1.818119</td>\n",
              "      <td>-1.755206</td>\n",
              "      <td>1.016785</td>\n",
              "      <td>0.644297</td>\n",
              "      <td>...</td>\n",
              "      <td>0.0</td>\n",
              "      <td>0.0</td>\n",
              "      <td>0.0</td>\n",
              "      <td>0.0</td>\n",
              "      <td>0.0</td>\n",
              "      <td>1.0</td>\n",
              "      <td>1.0</td>\n",
              "      <td>0.0</td>\n",
              "      <td>1.0</td>\n",
              "      <td>0.0</td>\n",
              "    </tr>\n",
              "    <tr>\n",
              "      <th>4</th>\n",
              "      <td>0.108993</td>\n",
              "      <td>-0.109194</td>\n",
              "      <td>0.035215</td>\n",
              "      <td>0.892288</td>\n",
              "      <td>-0.988170</td>\n",
              "      <td>-0.692570</td>\n",
              "      <td>1.818119</td>\n",
              "      <td>0.021621</td>\n",
              "      <td>-1.031701</td>\n",
              "      <td>1.449349</td>\n",
              "      <td>...</td>\n",
              "      <td>1.0</td>\n",
              "      <td>0.0</td>\n",
              "      <td>0.0</td>\n",
              "      <td>0.0</td>\n",
              "      <td>0.0</td>\n",
              "      <td>1.0</td>\n",
              "      <td>1.0</td>\n",
              "      <td>0.0</td>\n",
              "      <td>1.0</td>\n",
              "      <td>0.0</td>\n",
              "    </tr>\n",
              "    <tr>\n",
              "      <th>...</th>\n",
              "      <td>...</td>\n",
              "      <td>...</td>\n",
              "      <td>...</td>\n",
              "      <td>...</td>\n",
              "      <td>...</td>\n",
              "      <td>...</td>\n",
              "      <td>...</td>\n",
              "      <td>...</td>\n",
              "      <td>...</td>\n",
              "      <td>...</td>\n",
              "      <td>...</td>\n",
              "      <td>...</td>\n",
              "      <td>...</td>\n",
              "      <td>...</td>\n",
              "      <td>...</td>\n",
              "      <td>...</td>\n",
              "      <td>...</td>\n",
              "      <td>...</td>\n",
              "      <td>...</td>\n",
              "      <td>...</td>\n",
              "      <td>...</td>\n",
              "    </tr>\n",
              "    <tr>\n",
              "      <th>67458</th>\n",
              "      <td>-0.286341</td>\n",
              "      <td>-1.277656</td>\n",
              "      <td>-0.024694</td>\n",
              "      <td>-0.597637</td>\n",
              "      <td>0.381645</td>\n",
              "      <td>0.592576</td>\n",
              "      <td>1.818119</td>\n",
              "      <td>0.021621</td>\n",
              "      <td>-0.257036</td>\n",
              "      <td>2.020621</td>\n",
              "      <td>...</td>\n",
              "      <td>0.0</td>\n",
              "      <td>0.0</td>\n",
              "      <td>0.0</td>\n",
              "      <td>0.0</td>\n",
              "      <td>0.0</td>\n",
              "      <td>1.0</td>\n",
              "      <td>1.0</td>\n",
              "      <td>0.0</td>\n",
              "      <td>1.0</td>\n",
              "      <td>0.0</td>\n",
              "    </tr>\n",
              "    <tr>\n",
              "      <th>67459</th>\n",
              "      <td>-1.011149</td>\n",
              "      <td>-0.439813</td>\n",
              "      <td>0.353791</td>\n",
              "      <td>-0.422486</td>\n",
              "      <td>-0.130796</td>\n",
              "      <td>-0.632143</td>\n",
              "      <td>-0.544000</td>\n",
              "      <td>-0.192084</td>\n",
              "      <td>0.607105</td>\n",
              "      <td>-1.638808</td>\n",
              "      <td>...</td>\n",
              "      <td>0.0</td>\n",
              "      <td>0.0</td>\n",
              "      <td>0.0</td>\n",
              "      <td>0.0</td>\n",
              "      <td>0.0</td>\n",
              "      <td>1.0</td>\n",
              "      <td>1.0</td>\n",
              "      <td>0.0</td>\n",
              "      <td>1.0</td>\n",
              "      <td>0.0</td>\n",
              "    </tr>\n",
              "    <tr>\n",
              "      <th>67460</th>\n",
              "      <td>-0.006912</td>\n",
              "      <td>1.700282</td>\n",
              "      <td>-0.169673</td>\n",
              "      <td>1.840255</td>\n",
              "      <td>-1.541888</td>\n",
              "      <td>-1.604280</td>\n",
              "      <td>-0.544000</td>\n",
              "      <td>-1.755206</td>\n",
              "      <td>-0.775733</td>\n",
              "      <td>-2.227589</td>\n",
              "      <td>...</td>\n",
              "      <td>1.0</td>\n",
              "      <td>0.0</td>\n",
              "      <td>0.0</td>\n",
              "      <td>0.0</td>\n",
              "      <td>0.0</td>\n",
              "      <td>1.0</td>\n",
              "      <td>1.0</td>\n",
              "      <td>0.0</td>\n",
              "      <td>1.0</td>\n",
              "      <td>0.0</td>\n",
              "    </tr>\n",
              "    <tr>\n",
              "      <th>67461</th>\n",
              "      <td>0.071591</td>\n",
              "      <td>-1.806831</td>\n",
              "      <td>1.057601</td>\n",
              "      <td>0.455883</td>\n",
              "      <td>0.667838</td>\n",
              "      <td>-1.991474</td>\n",
              "      <td>-0.544000</td>\n",
              "      <td>0.215120</td>\n",
              "      <td>-1.216626</td>\n",
              "      <td>0.689994</td>\n",
              "      <td>...</td>\n",
              "      <td>0.0</td>\n",
              "      <td>0.0</td>\n",
              "      <td>0.0</td>\n",
              "      <td>0.0</td>\n",
              "      <td>1.0</td>\n",
              "      <td>0.0</td>\n",
              "      <td>1.0</td>\n",
              "      <td>0.0</td>\n",
              "      <td>1.0</td>\n",
              "      <td>0.0</td>\n",
              "    </tr>\n",
              "    <tr>\n",
              "      <th>67462</th>\n",
              "      <td>-0.071608</td>\n",
              "      <td>1.496353</td>\n",
              "      <td>0.141189</td>\n",
              "      <td>1.118890</td>\n",
              "      <td>0.826008</td>\n",
              "      <td>-0.838564</td>\n",
              "      <td>-0.544000</td>\n",
              "      <td>1.965482</td>\n",
              "      <td>0.490728</td>\n",
              "      <td>1.287676</td>\n",
              "      <td>...</td>\n",
              "      <td>0.0</td>\n",
              "      <td>0.0</td>\n",
              "      <td>0.0</td>\n",
              "      <td>0.0</td>\n",
              "      <td>1.0</td>\n",
              "      <td>0.0</td>\n",
              "      <td>1.0</td>\n",
              "      <td>0.0</td>\n",
              "      <td>1.0</td>\n",
              "      <td>0.0</td>\n",
              "    </tr>\n",
              "  </tbody>\n",
              "</table>\n",
              "<p>67463 rows × 90 columns</p>\n",
              "</div>\n",
              "      <button class=\"colab-df-convert\" onclick=\"convertToInteractive('df-7740141b-4df1-4cfb-ad3c-8e598f3ae34c')\"\n",
              "              title=\"Convert this dataframe to an interactive table.\"\n",
              "              style=\"display:none;\">\n",
              "        \n",
              "  <svg xmlns=\"http://www.w3.org/2000/svg\" height=\"24px\"viewBox=\"0 0 24 24\"\n",
              "       width=\"24px\">\n",
              "    <path d=\"M0 0h24v24H0V0z\" fill=\"none\"/>\n",
              "    <path d=\"M18.56 5.44l.94 2.06.94-2.06 2.06-.94-2.06-.94-.94-2.06-.94 2.06-2.06.94zm-11 1L8.5 8.5l.94-2.06 2.06-.94-2.06-.94L8.5 2.5l-.94 2.06-2.06.94zm10 10l.94 2.06.94-2.06 2.06-.94-2.06-.94-.94-2.06-.94 2.06-2.06.94z\"/><path d=\"M17.41 7.96l-1.37-1.37c-.4-.4-.92-.59-1.43-.59-.52 0-1.04.2-1.43.59L10.3 9.45l-7.72 7.72c-.78.78-.78 2.05 0 2.83L4 21.41c.39.39.9.59 1.41.59.51 0 1.02-.2 1.41-.59l7.78-7.78 2.81-2.81c.8-.78.8-2.07 0-2.86zM5.41 20L4 18.59l7.72-7.72 1.47 1.35L5.41 20z\"/>\n",
              "  </svg>\n",
              "      </button>\n",
              "      \n",
              "  <style>\n",
              "    .colab-df-container {\n",
              "      display:flex;\n",
              "      flex-wrap:wrap;\n",
              "      gap: 12px;\n",
              "    }\n",
              "\n",
              "    .colab-df-convert {\n",
              "      background-color: #E8F0FE;\n",
              "      border: none;\n",
              "      border-radius: 50%;\n",
              "      cursor: pointer;\n",
              "      display: none;\n",
              "      fill: #1967D2;\n",
              "      height: 32px;\n",
              "      padding: 0 0 0 0;\n",
              "      width: 32px;\n",
              "    }\n",
              "\n",
              "    .colab-df-convert:hover {\n",
              "      background-color: #E2EBFA;\n",
              "      box-shadow: 0px 1px 2px rgba(60, 64, 67, 0.3), 0px 1px 3px 1px rgba(60, 64, 67, 0.15);\n",
              "      fill: #174EA6;\n",
              "    }\n",
              "\n",
              "    [theme=dark] .colab-df-convert {\n",
              "      background-color: #3B4455;\n",
              "      fill: #D2E3FC;\n",
              "    }\n",
              "\n",
              "    [theme=dark] .colab-df-convert:hover {\n",
              "      background-color: #434B5C;\n",
              "      box-shadow: 0px 1px 3px 1px rgba(0, 0, 0, 0.15);\n",
              "      filter: drop-shadow(0px 1px 2px rgba(0, 0, 0, 0.3));\n",
              "      fill: #FFFFFF;\n",
              "    }\n",
              "  </style>\n",
              "\n",
              "      <script>\n",
              "        const buttonEl =\n",
              "          document.querySelector('#df-7740141b-4df1-4cfb-ad3c-8e598f3ae34c button.colab-df-convert');\n",
              "        buttonEl.style.display =\n",
              "          google.colab.kernel.accessAllowed ? 'block' : 'none';\n",
              "\n",
              "        async function convertToInteractive(key) {\n",
              "          const element = document.querySelector('#df-7740141b-4df1-4cfb-ad3c-8e598f3ae34c');\n",
              "          const dataTable =\n",
              "            await google.colab.kernel.invokeFunction('convertToInteractive',\n",
              "                                                     [key], {});\n",
              "          if (!dataTable) return;\n",
              "\n",
              "          const docLinkHtml = 'Like what you see? Visit the ' +\n",
              "            '<a target=\"_blank\" href=https://colab.research.google.com/notebooks/data_table.ipynb>data table notebook</a>'\n",
              "            + ' to learn more about interactive tables.';\n",
              "          element.innerHTML = '';\n",
              "          dataTable['output_type'] = 'display_data';\n",
              "          await google.colab.output.renderOutput(dataTable, element);\n",
              "          const docLink = document.createElement('div');\n",
              "          docLink.innerHTML = docLinkHtml;\n",
              "          element.appendChild(docLink);\n",
              "        }\n",
              "      </script>\n",
              "    </div>\n",
              "  </div>\n",
              "  "
            ]
          },
          "metadata": {},
          "execution_count": 38
        }
      ]
    },
    {
      "cell_type": "markdown",
      "source": [
        "###Splitting Data"
      ],
      "metadata": {
        "id": "Xcrn3ubFGsdw"
      }
    },
    {
      "cell_type": "code",
      "source": [
        "X_train, X_test, y_train, y_test = train_test_split(Xp_df, y, test_size=.20,  random_state=2023, stratify=y)"
      ],
      "metadata": {
        "id": "fCqEss6wE_Dm"
      },
      "execution_count": 118,
      "outputs": []
    },
    {
      "cell_type": "markdown",
      "source": [
        "##Feature Selection"
      ],
      "metadata": {
        "id": "6eLzC282gUK9"
      }
    },
    {
      "cell_type": "code",
      "source": [
        "feature_df = pd.concat([X_train, y_train], axis=1)\n",
        "\n",
        "feature_df"
      ],
      "metadata": {
        "id": "LDVlNmimzHoQ",
        "colab": {
          "base_uri": "https://localhost:8080/",
          "height": 522
        },
        "outputId": "05b076cd-f105-454c-aea8-88bb80cd5de3"
      },
      "execution_count": 119,
      "outputs": [
        {
          "output_type": "execute_result",
          "data": {
            "text/plain": [
              "       Loan Amount  Funded Amount  Funded Amount Investor  Interest Rate  \\\n",
              "36439    -0.167913       1.195566                0.085160      -0.759131   \n",
              "2635     -0.049985       1.258352               -0.591992      -0.631212   \n",
              "24355    -0.137814      -1.239442                0.437162      -1.648383   \n",
              "21501     1.439390       0.239779                1.023357       0.108163   \n",
              "51979     0.441357      -1.113485                1.896221      -1.557232   \n",
              "...            ...            ...                     ...            ...   \n",
              "31910     0.130059      -1.583876               -0.041460      -0.115116   \n",
              "16881     1.110691       1.449753                0.808099      -0.067290   \n",
              "22235    -0.079038      -0.835681               -1.174819       0.594129   \n",
              "20646     0.642655      -1.057791               -0.649113      -0.115371   \n",
              "24756    -0.217948      -0.607085               -0.770779      -0.961113   \n",
              "\n",
              "       Home Ownership  Debit to Income  Delinquency - two years  Open Account  \\\n",
              "36439       -0.197271         0.689548                 1.897015      0.021621   \n",
              "2635        -0.153277         0.632970                -0.544000      1.403865   \n",
              "24355       -1.262813         1.238628                -0.544000      0.553184   \n",
              "21501        0.074670        -1.392906                -0.544000     -0.192084   \n",
              "51979        0.644534        -1.467964                 1.897015      0.215120   \n",
              "...               ...              ...                      ...           ...   \n",
              "31910        0.934773        -0.152628                -0.544000     -1.348482   \n",
              "16881        0.467217         0.765295                -0.544000     -0.696997   \n",
              "22235        0.845766        -0.170190                -0.544000      0.021621   \n",
              "20646        0.254046         0.902325                -0.544000      1.585548   \n",
              "24756        0.070135         1.624176                -0.544000      0.215120   \n",
              "\n",
              "       Revolving Balance  Revolving Utilities  ...  Public Record_2  \\\n",
              "36439           1.197093             1.388804  ...              0.0   \n",
              "2635           -0.927770            -0.249804  ...              0.0   \n",
              "24355           2.426684            -0.955831  ...              0.0   \n",
              "21501           0.259387             0.666039  ...              0.0   \n",
              "51979          -0.228852            -0.862366  ...              0.0   \n",
              "...                  ...                  ...  ...              ...   \n",
              "31910           0.590246            -0.317944  ...              0.0   \n",
              "16881           0.374435            -0.147438  ...              0.0   \n",
              "22235          -0.096501            -0.049064  ...              0.0   \n",
              "20646           0.900263             0.525996  ...              0.0   \n",
              "24756          -0.674075             0.342619  ...              0.0   \n",
              "\n",
              "       Public Record_3  Public Record_4  Initial List Status_f  \\\n",
              "36439              0.0              0.0                    0.0   \n",
              "2635               0.0              0.0                    0.0   \n",
              "24355              0.0              0.0                    1.0   \n",
              "21501              0.0              0.0                    1.0   \n",
              "51979              0.0              0.0                    0.0   \n",
              "...                ...              ...                    ...   \n",
              "31910              0.0              0.0                    1.0   \n",
              "16881              0.0              0.0                    0.0   \n",
              "22235              0.0              0.0                    0.0   \n",
              "20646              0.0              0.0                    1.0   \n",
              "24756              0.0              0.0                    0.0   \n",
              "\n",
              "       Initial List Status_w  Collection 12 months Medical_0  \\\n",
              "36439                    1.0                             1.0   \n",
              "2635                     1.0                             1.0   \n",
              "24355                    0.0                             1.0   \n",
              "21501                    0.0                             1.0   \n",
              "51979                    1.0                             1.0   \n",
              "...                      ...                             ...   \n",
              "31910                    0.0                             1.0   \n",
              "16881                    1.0                             1.0   \n",
              "22235                    1.0                             1.0   \n",
              "20646                    0.0                             1.0   \n",
              "24756                    1.0                             1.0   \n",
              "\n",
              "       Collection 12 months Medical_1  Application Type_INDIVIDUAL  \\\n",
              "36439                             0.0                          1.0   \n",
              "2635                              0.0                          1.0   \n",
              "24355                             0.0                          1.0   \n",
              "21501                             0.0                          1.0   \n",
              "51979                             0.0                          1.0   \n",
              "...                               ...                          ...   \n",
              "31910                             0.0                          1.0   \n",
              "16881                             0.0                          1.0   \n",
              "22235                             0.0                          1.0   \n",
              "20646                             0.0                          1.0   \n",
              "24756                             0.0                          1.0   \n",
              "\n",
              "       Application Type_JOINT  Loan Status  \n",
              "36439                     0.0            0  \n",
              "2635                      0.0            1  \n",
              "24355                     0.0            0  \n",
              "21501                     0.0            0  \n",
              "51979                     0.0            1  \n",
              "...                       ...          ...  \n",
              "31910                     0.0            0  \n",
              "16881                     0.0            0  \n",
              "22235                     0.0            0  \n",
              "20646                     0.0            0  \n",
              "24756                     0.0            0  \n",
              "\n",
              "[53970 rows x 91 columns]"
            ],
            "text/html": [
              "\n",
              "  <div id=\"df-8757ac17-3ffe-4b39-8dfc-fdc57bfb9752\">\n",
              "    <div class=\"colab-df-container\">\n",
              "      <div>\n",
              "<style scoped>\n",
              "    .dataframe tbody tr th:only-of-type {\n",
              "        vertical-align: middle;\n",
              "    }\n",
              "\n",
              "    .dataframe tbody tr th {\n",
              "        vertical-align: top;\n",
              "    }\n",
              "\n",
              "    .dataframe thead th {\n",
              "        text-align: right;\n",
              "    }\n",
              "</style>\n",
              "<table border=\"1\" class=\"dataframe\">\n",
              "  <thead>\n",
              "    <tr style=\"text-align: right;\">\n",
              "      <th></th>\n",
              "      <th>Loan Amount</th>\n",
              "      <th>Funded Amount</th>\n",
              "      <th>Funded Amount Investor</th>\n",
              "      <th>Interest Rate</th>\n",
              "      <th>Home Ownership</th>\n",
              "      <th>Debit to Income</th>\n",
              "      <th>Delinquency - two years</th>\n",
              "      <th>Open Account</th>\n",
              "      <th>Revolving Balance</th>\n",
              "      <th>Revolving Utilities</th>\n",
              "      <th>...</th>\n",
              "      <th>Public Record_2</th>\n",
              "      <th>Public Record_3</th>\n",
              "      <th>Public Record_4</th>\n",
              "      <th>Initial List Status_f</th>\n",
              "      <th>Initial List Status_w</th>\n",
              "      <th>Collection 12 months Medical_0</th>\n",
              "      <th>Collection 12 months Medical_1</th>\n",
              "      <th>Application Type_INDIVIDUAL</th>\n",
              "      <th>Application Type_JOINT</th>\n",
              "      <th>Loan Status</th>\n",
              "    </tr>\n",
              "  </thead>\n",
              "  <tbody>\n",
              "    <tr>\n",
              "      <th>36439</th>\n",
              "      <td>-0.167913</td>\n",
              "      <td>1.195566</td>\n",
              "      <td>0.085160</td>\n",
              "      <td>-0.759131</td>\n",
              "      <td>-0.197271</td>\n",
              "      <td>0.689548</td>\n",
              "      <td>1.897015</td>\n",
              "      <td>0.021621</td>\n",
              "      <td>1.197093</td>\n",
              "      <td>1.388804</td>\n",
              "      <td>...</td>\n",
              "      <td>0.0</td>\n",
              "      <td>0.0</td>\n",
              "      <td>0.0</td>\n",
              "      <td>0.0</td>\n",
              "      <td>1.0</td>\n",
              "      <td>1.0</td>\n",
              "      <td>0.0</td>\n",
              "      <td>1.0</td>\n",
              "      <td>0.0</td>\n",
              "      <td>0</td>\n",
              "    </tr>\n",
              "    <tr>\n",
              "      <th>2635</th>\n",
              "      <td>-0.049985</td>\n",
              "      <td>1.258352</td>\n",
              "      <td>-0.591992</td>\n",
              "      <td>-0.631212</td>\n",
              "      <td>-0.153277</td>\n",
              "      <td>0.632970</td>\n",
              "      <td>-0.544000</td>\n",
              "      <td>1.403865</td>\n",
              "      <td>-0.927770</td>\n",
              "      <td>-0.249804</td>\n",
              "      <td>...</td>\n",
              "      <td>0.0</td>\n",
              "      <td>0.0</td>\n",
              "      <td>0.0</td>\n",
              "      <td>0.0</td>\n",
              "      <td>1.0</td>\n",
              "      <td>1.0</td>\n",
              "      <td>0.0</td>\n",
              "      <td>1.0</td>\n",
              "      <td>0.0</td>\n",
              "      <td>1</td>\n",
              "    </tr>\n",
              "    <tr>\n",
              "      <th>24355</th>\n",
              "      <td>-0.137814</td>\n",
              "      <td>-1.239442</td>\n",
              "      <td>0.437162</td>\n",
              "      <td>-1.648383</td>\n",
              "      <td>-1.262813</td>\n",
              "      <td>1.238628</td>\n",
              "      <td>-0.544000</td>\n",
              "      <td>0.553184</td>\n",
              "      <td>2.426684</td>\n",
              "      <td>-0.955831</td>\n",
              "      <td>...</td>\n",
              "      <td>0.0</td>\n",
              "      <td>0.0</td>\n",
              "      <td>0.0</td>\n",
              "      <td>1.0</td>\n",
              "      <td>0.0</td>\n",
              "      <td>1.0</td>\n",
              "      <td>0.0</td>\n",
              "      <td>1.0</td>\n",
              "      <td>0.0</td>\n",
              "      <td>0</td>\n",
              "    </tr>\n",
              "    <tr>\n",
              "      <th>21501</th>\n",
              "      <td>1.439390</td>\n",
              "      <td>0.239779</td>\n",
              "      <td>1.023357</td>\n",
              "      <td>0.108163</td>\n",
              "      <td>0.074670</td>\n",
              "      <td>-1.392906</td>\n",
              "      <td>-0.544000</td>\n",
              "      <td>-0.192084</td>\n",
              "      <td>0.259387</td>\n",
              "      <td>0.666039</td>\n",
              "      <td>...</td>\n",
              "      <td>0.0</td>\n",
              "      <td>0.0</td>\n",
              "      <td>0.0</td>\n",
              "      <td>1.0</td>\n",
              "      <td>0.0</td>\n",
              "      <td>1.0</td>\n",
              "      <td>0.0</td>\n",
              "      <td>1.0</td>\n",
              "      <td>0.0</td>\n",
              "      <td>0</td>\n",
              "    </tr>\n",
              "    <tr>\n",
              "      <th>51979</th>\n",
              "      <td>0.441357</td>\n",
              "      <td>-1.113485</td>\n",
              "      <td>1.896221</td>\n",
              "      <td>-1.557232</td>\n",
              "      <td>0.644534</td>\n",
              "      <td>-1.467964</td>\n",
              "      <td>1.897015</td>\n",
              "      <td>0.215120</td>\n",
              "      <td>-0.228852</td>\n",
              "      <td>-0.862366</td>\n",
              "      <td>...</td>\n",
              "      <td>0.0</td>\n",
              "      <td>0.0</td>\n",
              "      <td>0.0</td>\n",
              "      <td>0.0</td>\n",
              "      <td>1.0</td>\n",
              "      <td>1.0</td>\n",
              "      <td>0.0</td>\n",
              "      <td>1.0</td>\n",
              "      <td>0.0</td>\n",
              "      <td>1</td>\n",
              "    </tr>\n",
              "    <tr>\n",
              "      <th>...</th>\n",
              "      <td>...</td>\n",
              "      <td>...</td>\n",
              "      <td>...</td>\n",
              "      <td>...</td>\n",
              "      <td>...</td>\n",
              "      <td>...</td>\n",
              "      <td>...</td>\n",
              "      <td>...</td>\n",
              "      <td>...</td>\n",
              "      <td>...</td>\n",
              "      <td>...</td>\n",
              "      <td>...</td>\n",
              "      <td>...</td>\n",
              "      <td>...</td>\n",
              "      <td>...</td>\n",
              "      <td>...</td>\n",
              "      <td>...</td>\n",
              "      <td>...</td>\n",
              "      <td>...</td>\n",
              "      <td>...</td>\n",
              "      <td>...</td>\n",
              "    </tr>\n",
              "    <tr>\n",
              "      <th>31910</th>\n",
              "      <td>0.130059</td>\n",
              "      <td>-1.583876</td>\n",
              "      <td>-0.041460</td>\n",
              "      <td>-0.115116</td>\n",
              "      <td>0.934773</td>\n",
              "      <td>-0.152628</td>\n",
              "      <td>-0.544000</td>\n",
              "      <td>-1.348482</td>\n",
              "      <td>0.590246</td>\n",
              "      <td>-0.317944</td>\n",
              "      <td>...</td>\n",
              "      <td>0.0</td>\n",
              "      <td>0.0</td>\n",
              "      <td>0.0</td>\n",
              "      <td>1.0</td>\n",
              "      <td>0.0</td>\n",
              "      <td>1.0</td>\n",
              "      <td>0.0</td>\n",
              "      <td>1.0</td>\n",
              "      <td>0.0</td>\n",
              "      <td>0</td>\n",
              "    </tr>\n",
              "    <tr>\n",
              "      <th>16881</th>\n",
              "      <td>1.110691</td>\n",
              "      <td>1.449753</td>\n",
              "      <td>0.808099</td>\n",
              "      <td>-0.067290</td>\n",
              "      <td>0.467217</td>\n",
              "      <td>0.765295</td>\n",
              "      <td>-0.544000</td>\n",
              "      <td>-0.696997</td>\n",
              "      <td>0.374435</td>\n",
              "      <td>-0.147438</td>\n",
              "      <td>...</td>\n",
              "      <td>0.0</td>\n",
              "      <td>0.0</td>\n",
              "      <td>0.0</td>\n",
              "      <td>0.0</td>\n",
              "      <td>1.0</td>\n",
              "      <td>1.0</td>\n",
              "      <td>0.0</td>\n",
              "      <td>1.0</td>\n",
              "      <td>0.0</td>\n",
              "      <td>0</td>\n",
              "    </tr>\n",
              "    <tr>\n",
              "      <th>22235</th>\n",
              "      <td>-0.079038</td>\n",
              "      <td>-0.835681</td>\n",
              "      <td>-1.174819</td>\n",
              "      <td>0.594129</td>\n",
              "      <td>0.845766</td>\n",
              "      <td>-0.170190</td>\n",
              "      <td>-0.544000</td>\n",
              "      <td>0.021621</td>\n",
              "      <td>-0.096501</td>\n",
              "      <td>-0.049064</td>\n",
              "      <td>...</td>\n",
              "      <td>0.0</td>\n",
              "      <td>0.0</td>\n",
              "      <td>0.0</td>\n",
              "      <td>0.0</td>\n",
              "      <td>1.0</td>\n",
              "      <td>1.0</td>\n",
              "      <td>0.0</td>\n",
              "      <td>1.0</td>\n",
              "      <td>0.0</td>\n",
              "      <td>0</td>\n",
              "    </tr>\n",
              "    <tr>\n",
              "      <th>20646</th>\n",
              "      <td>0.642655</td>\n",
              "      <td>-1.057791</td>\n",
              "      <td>-0.649113</td>\n",
              "      <td>-0.115371</td>\n",
              "      <td>0.254046</td>\n",
              "      <td>0.902325</td>\n",
              "      <td>-0.544000</td>\n",
              "      <td>1.585548</td>\n",
              "      <td>0.900263</td>\n",
              "      <td>0.525996</td>\n",
              "      <td>...</td>\n",
              "      <td>0.0</td>\n",
              "      <td>0.0</td>\n",
              "      <td>0.0</td>\n",
              "      <td>1.0</td>\n",
              "      <td>0.0</td>\n",
              "      <td>1.0</td>\n",
              "      <td>0.0</td>\n",
              "      <td>1.0</td>\n",
              "      <td>0.0</td>\n",
              "      <td>0</td>\n",
              "    </tr>\n",
              "    <tr>\n",
              "      <th>24756</th>\n",
              "      <td>-0.217948</td>\n",
              "      <td>-0.607085</td>\n",
              "      <td>-0.770779</td>\n",
              "      <td>-0.961113</td>\n",
              "      <td>0.070135</td>\n",
              "      <td>1.624176</td>\n",
              "      <td>-0.544000</td>\n",
              "      <td>0.215120</td>\n",
              "      <td>-0.674075</td>\n",
              "      <td>0.342619</td>\n",
              "      <td>...</td>\n",
              "      <td>0.0</td>\n",
              "      <td>0.0</td>\n",
              "      <td>0.0</td>\n",
              "      <td>0.0</td>\n",
              "      <td>1.0</td>\n",
              "      <td>1.0</td>\n",
              "      <td>0.0</td>\n",
              "      <td>1.0</td>\n",
              "      <td>0.0</td>\n",
              "      <td>0</td>\n",
              "    </tr>\n",
              "  </tbody>\n",
              "</table>\n",
              "<p>53970 rows × 91 columns</p>\n",
              "</div>\n",
              "      <button class=\"colab-df-convert\" onclick=\"convertToInteractive('df-8757ac17-3ffe-4b39-8dfc-fdc57bfb9752')\"\n",
              "              title=\"Convert this dataframe to an interactive table.\"\n",
              "              style=\"display:none;\">\n",
              "        \n",
              "  <svg xmlns=\"http://www.w3.org/2000/svg\" height=\"24px\"viewBox=\"0 0 24 24\"\n",
              "       width=\"24px\">\n",
              "    <path d=\"M0 0h24v24H0V0z\" fill=\"none\"/>\n",
              "    <path d=\"M18.56 5.44l.94 2.06.94-2.06 2.06-.94-2.06-.94-.94-2.06-.94 2.06-2.06.94zm-11 1L8.5 8.5l.94-2.06 2.06-.94-2.06-.94L8.5 2.5l-.94 2.06-2.06.94zm10 10l.94 2.06.94-2.06 2.06-.94-2.06-.94-.94-2.06-.94 2.06-2.06.94z\"/><path d=\"M17.41 7.96l-1.37-1.37c-.4-.4-.92-.59-1.43-.59-.52 0-1.04.2-1.43.59L10.3 9.45l-7.72 7.72c-.78.78-.78 2.05 0 2.83L4 21.41c.39.39.9.59 1.41.59.51 0 1.02-.2 1.41-.59l7.78-7.78 2.81-2.81c.8-.78.8-2.07 0-2.86zM5.41 20L4 18.59l7.72-7.72 1.47 1.35L5.41 20z\"/>\n",
              "  </svg>\n",
              "      </button>\n",
              "      \n",
              "  <style>\n",
              "    .colab-df-container {\n",
              "      display:flex;\n",
              "      flex-wrap:wrap;\n",
              "      gap: 12px;\n",
              "    }\n",
              "\n",
              "    .colab-df-convert {\n",
              "      background-color: #E8F0FE;\n",
              "      border: none;\n",
              "      border-radius: 50%;\n",
              "      cursor: pointer;\n",
              "      display: none;\n",
              "      fill: #1967D2;\n",
              "      height: 32px;\n",
              "      padding: 0 0 0 0;\n",
              "      width: 32px;\n",
              "    }\n",
              "\n",
              "    .colab-df-convert:hover {\n",
              "      background-color: #E2EBFA;\n",
              "      box-shadow: 0px 1px 2px rgba(60, 64, 67, 0.3), 0px 1px 3px 1px rgba(60, 64, 67, 0.15);\n",
              "      fill: #174EA6;\n",
              "    }\n",
              "\n",
              "    [theme=dark] .colab-df-convert {\n",
              "      background-color: #3B4455;\n",
              "      fill: #D2E3FC;\n",
              "    }\n",
              "\n",
              "    [theme=dark] .colab-df-convert:hover {\n",
              "      background-color: #434B5C;\n",
              "      box-shadow: 0px 1px 3px 1px rgba(0, 0, 0, 0.15);\n",
              "      filter: drop-shadow(0px 1px 2px rgba(0, 0, 0, 0.3));\n",
              "      fill: #FFFFFF;\n",
              "    }\n",
              "  </style>\n",
              "\n",
              "      <script>\n",
              "        const buttonEl =\n",
              "          document.querySelector('#df-8757ac17-3ffe-4b39-8dfc-fdc57bfb9752 button.colab-df-convert');\n",
              "        buttonEl.style.display =\n",
              "          google.colab.kernel.accessAllowed ? 'block' : 'none';\n",
              "\n",
              "        async function convertToInteractive(key) {\n",
              "          const element = document.querySelector('#df-8757ac17-3ffe-4b39-8dfc-fdc57bfb9752');\n",
              "          const dataTable =\n",
              "            await google.colab.kernel.invokeFunction('convertToInteractive',\n",
              "                                                     [key], {});\n",
              "          if (!dataTable) return;\n",
              "\n",
              "          const docLinkHtml = 'Like what you see? Visit the ' +\n",
              "            '<a target=\"_blank\" href=https://colab.research.google.com/notebooks/data_table.ipynb>data table notebook</a>'\n",
              "            + ' to learn more about interactive tables.';\n",
              "          element.innerHTML = '';\n",
              "          dataTable['output_type'] = 'display_data';\n",
              "          await google.colab.output.renderOutput(dataTable, element);\n",
              "          const docLink = document.createElement('div');\n",
              "          docLink.innerHTML = docLinkHtml;\n",
              "          element.appendChild(docLink);\n",
              "        }\n",
              "      </script>\n",
              "    </div>\n",
              "  </div>\n",
              "  "
            ]
          },
          "metadata": {},
          "execution_count": 119
        }
      ]
    },
    {
      "cell_type": "code",
      "source": [
        "# define the feature list to select from\n",
        "feature_lst = list(feature_df.iloc[:,:-1].columns)\n",
        "len(feature_lst)"
      ],
      "metadata": {
        "id": "n9y_uu9gz-tA",
        "colab": {
          "base_uri": "https://localhost:8080/"
        },
        "outputId": "f525e311-bf11-4f95-a5ce-ac7c7c345ea9"
      },
      "execution_count": 120,
      "outputs": [
        {
          "output_type": "execute_result",
          "data": {
            "text/plain": [
              "90"
            ]
          },
          "metadata": {},
          "execution_count": 120
        }
      ]
    },
    {
      "cell_type": "code",
      "source": [
        "feature_lst"
      ],
      "metadata": {
        "id": "2al3vworjp75",
        "colab": {
          "base_uri": "https://localhost:8080/"
        },
        "outputId": "13946c49-4de9-4d64-a593-5f41f40d69b9"
      },
      "execution_count": 121,
      "outputs": [
        {
          "output_type": "execute_result",
          "data": {
            "text/plain": [
              "['Loan Amount',\n",
              " 'Funded Amount',\n",
              " 'Funded Amount Investor',\n",
              " 'Interest Rate',\n",
              " 'Home Ownership',\n",
              " 'Debit to Income',\n",
              " 'Delinquency - two years',\n",
              " 'Open Account',\n",
              " 'Revolving Balance',\n",
              " 'Revolving Utilities',\n",
              " 'Total Accounts',\n",
              " 'Total Received Interest',\n",
              " 'Total Received Late Fee',\n",
              " 'Recoveries',\n",
              " 'Collection Recovery Fee',\n",
              " 'Last week Pay',\n",
              " 'Total Collection Amount',\n",
              " 'Total Current Balance',\n",
              " 'Total Revolving Credit Limit',\n",
              " 'Term_36',\n",
              " 'Term_58',\n",
              " 'Term_59',\n",
              " 'Grade_A',\n",
              " 'Grade_B',\n",
              " 'Grade_C',\n",
              " 'Grade_D',\n",
              " 'Grade_E',\n",
              " 'Grade_F',\n",
              " 'Grade_G',\n",
              " 'Sub Grade_A1',\n",
              " 'Sub Grade_A2',\n",
              " 'Sub Grade_A3',\n",
              " 'Sub Grade_A4',\n",
              " 'Sub Grade_A5',\n",
              " 'Sub Grade_B1',\n",
              " 'Sub Grade_B2',\n",
              " 'Sub Grade_B3',\n",
              " 'Sub Grade_B4',\n",
              " 'Sub Grade_B5',\n",
              " 'Sub Grade_C1',\n",
              " 'Sub Grade_C2',\n",
              " 'Sub Grade_C3',\n",
              " 'Sub Grade_C4',\n",
              " 'Sub Grade_C5',\n",
              " 'Sub Grade_D1',\n",
              " 'Sub Grade_D2',\n",
              " 'Sub Grade_D3',\n",
              " 'Sub Grade_D4',\n",
              " 'Sub Grade_D5',\n",
              " 'Sub Grade_E1',\n",
              " 'Sub Grade_E2',\n",
              " 'Sub Grade_E3',\n",
              " 'Sub Grade_E4',\n",
              " 'Sub Grade_E5',\n",
              " 'Sub Grade_F1',\n",
              " 'Sub Grade_F2',\n",
              " 'Sub Grade_F3',\n",
              " 'Sub Grade_F4',\n",
              " 'Sub Grade_F5',\n",
              " 'Sub Grade_G1',\n",
              " 'Sub Grade_G2',\n",
              " 'Sub Grade_G3',\n",
              " 'Sub Grade_G4',\n",
              " 'Sub Grade_G5',\n",
              " 'Employment Duration_MORTGAGE',\n",
              " 'Employment Duration_OWN',\n",
              " 'Employment Duration_RENT',\n",
              " 'Verification Status_Not Verified',\n",
              " 'Verification Status_Source Verified',\n",
              " 'Verification Status_Verified',\n",
              " 'Loan Title_Credit card refinancing',\n",
              " 'Loan Title_Debt Consolidation',\n",
              " 'Loan Title_Other',\n",
              " 'Inquires - six months_0',\n",
              " 'Inquires - six months_1',\n",
              " 'Inquires - six months_2',\n",
              " 'Inquires - six months_3',\n",
              " 'Inquires - six months_4',\n",
              " 'Inquires - six months_5',\n",
              " 'Public Record_0',\n",
              " 'Public Record_1',\n",
              " 'Public Record_2',\n",
              " 'Public Record_3',\n",
              " 'Public Record_4',\n",
              " 'Initial List Status_f',\n",
              " 'Initial List Status_w',\n",
              " 'Collection 12 months Medical_0',\n",
              " 'Collection 12 months Medical_1',\n",
              " 'Application Type_INDIVIDUAL',\n",
              " 'Application Type_JOINT']"
            ]
          },
          "metadata": {},
          "execution_count": 121
        }
      ]
    },
    {
      "cell_type": "code",
      "source": [
        "def feature_selector(X, y, model, names, _method=\"topk\", n=int(X.shape[1]/2), fit_X=False, thres = 0.1):\n",
        "  \"\"\"voting based feature selector\n",
        "  - _method: \"topk\" for top-K method (default), \"cutoff\" for cut-off based method\n",
        "  - n: number of features to be selected. only available for top-K method - default half of the total features\n",
        "  - thres: cut-off threshold (default 0.1), only availabel for cutoff method\n",
        "  - fit_X: fit_transform X or just return indices\n",
        "  TODO: include support for regression problems\n",
        "  \"\"\"\n",
        "  #### Placeholder for tests\n",
        "  # X.shape[0] == y.shape[0]\n",
        "  if names: # if given feature names\n",
        "    feature_names = np.array(names)\n",
        "  else: # otherwise use location\n",
        "    feature_names = np.array([\"X%s\" % x for x in range(len(X.shape[0]))])\n",
        "  if _method == 'topk':\n",
        "    #### np.argpartition gets the indices of the largest n element from the array in ascending order\n",
        "    #### [::-1] reverse the order\n",
        "    ############################################################################\n",
        "    #### IMPORTANT: \n",
        "    #### use `chi2` as the `score_func` when doing categorical features - values has to be non-negative\n",
        "    #### use `f_classif` as the `score_func` when doing categorical and continuous feautures\n",
        "    #### use `f_regression` as the `score_func` when doing continuous feautures\n",
        "    ############################################################################\n",
        "    corr_features = list(np.argpartition(SelectKBest(score_func=f_classif, k=n).fit(X,y).scores_, -n)[-n:][::-1])\n",
        "    #### binary masking on features, use np.where() to get the indices of selected\n",
        "    rfe_features = list(np.where(RFE(model, n_features_to_select=n, step=1).fit(X, y).support_)[0])\n",
        "    #### argsort get sorted indices by values, ::-1] reverse the asceding order\n",
        "    ridge_features = list(np.argsort(Ridge(alpha=1.0).fit(X, y).coef_)[-n:][::-1])\n",
        "    #### using ExtraTree\n",
        "    extratree_features = list(np.argsort(ExtraTreesClassifier().fit(X, y).feature_importances_)[-n:][::-1])\n",
        "    ### using Random Forest:\n",
        "    rf_features = list(np.argsort(RandomForestClassifier().fit(X, y).feature_importances_)[-n:][::-1])\n",
        "    print(\"Using the Top-K method: \")\n",
        "    print(\"Selected features by correlation: \", feature_names[corr_features])\n",
        "    print(\"Selected features by RFE: \", feature_names[rfe_features])\n",
        "    print(\"Selected features by Ridge coefficients: \", feature_names[ridge_features])\n",
        "    print(\"Selected features by Extra Tree feature importance: \", feature_names[extratree_features])\n",
        "    print(\"Selected features by Random Forest feature importance: \", feature_names[rf_features])\n",
        "\n",
        "  elif _method == 'cutoff':\n",
        "    corr_features, rfe_features = list(), list() #### N/A\n",
        "    ridge_features = list(np.where(Ridge(alpha=1.0).fit(X, y).coef_ > thres)[0])\n",
        "    extratree_features = list(np.where(ExtraTreesClassifier().fit(X, y).feature_importances_ > thres)[0])\n",
        "    rf_features = list(np.where(RandomForestClassifier().fit(X, y).feature_importances_ > thres)[0])\n",
        "    print(\"Using the Cutoff method: \")\n",
        "    # print(\"Selected features by correlation: \", feature_names[corr_features])\n",
        "    # print(\"Selected features by RFE: \", feature_names[rfe_features])\n",
        "    print(\"Selected features by Ridge coefficients: \", feature_names[ridge_features])\n",
        "    print(\"Selected features by Extra Tree feature importance: \", feature_names[extratree_features])\n",
        "    print(\"Selected features by Random Forest feature importance: \", feature_names[rf_features])\n",
        "  else:\n",
        "    return(\"Only Top-K and Cutoff methods are currently supported!\")\n",
        "\n",
        "  ######################################\n",
        "  #### combine results using voting ####\n",
        "  ######################################\n",
        "  counted = Counter(np.concatenate((corr_features, rfe_features, ridge_features, extratree_features, rf_features), axis=None)).most_common(n)\n",
        "\n",
        "  #### list of tuples (feature_index, votes)\n",
        "  counted.sort(key = lambda x: x[1], reverse=True)\n",
        "  final_select_series = pd.Series({feature_names[f]:c for f,c in counted}).sort_values(ascending=False)\n",
        "  selected_idx = sorted([f for f,c in counted])\n",
        "  assert len(selected_idx) == n\n",
        "  print(final_select_series)\n",
        "  if fit_X:\n",
        "    return(X[:,selected_idx])\n",
        "  else:\n",
        "    return(feature_names[selected_idx])"
      ],
      "metadata": {
        "id": "gIAaRlPKgWzM"
      },
      "execution_count": 122,
      "outputs": []
    },
    {
      "cell_type": "code",
      "source": [
        "int(round((X_train.shape[1]/2),0))"
      ],
      "metadata": {
        "id": "Jk06OA55bfRc",
        "colab": {
          "base_uri": "https://localhost:8080/"
        },
        "outputId": "988dcc88-7933-455d-ce08-953482b202ed"
      },
      "execution_count": 123,
      "outputs": [
        {
          "output_type": "execute_result",
          "data": {
            "text/plain": [
              "45"
            ]
          },
          "metadata": {},
          "execution_count": 123
        }
      ]
    },
    {
      "cell_type": "markdown",
      "source": [
        "###Feature Selector"
      ],
      "metadata": {
        "id": "kidLKdvvknEE"
      }
    },
    {
      "cell_type": "code",
      "source": [
        "# feature_selector(X_train, y_train, model=RandomForestClassifier(), names=feature_lst, n=39)"
      ],
      "metadata": {
        "id": "EIVKIVR2l9xc",
        "colab": {
          "base_uri": "https://localhost:8080/",
          "height": 311
        },
        "outputId": "c903b214-fdd8-4428-830f-2306a1c0376b"
      },
      "execution_count": 45,
      "outputs": [
        {
          "output_type": "error",
          "ename": "KeyboardInterrupt",
          "evalue": "ignored",
          "traceback": [
            "\u001b[0;31m---------------------------------------------------------------------------\u001b[0m",
            "\u001b[0;31mKeyboardInterrupt\u001b[0m                         Traceback (most recent call last)",
            "\u001b[0;32m<ipython-input-45-aefbaa01e8ea>\u001b[0m in \u001b[0;36m<cell line: 1>\u001b[0;34m()\u001b[0m\n\u001b[0;32m----> 1\u001b[0;31m \u001b[0mfeature_selector\u001b[0m\u001b[0;34m(\u001b[0m\u001b[0mX_train\u001b[0m\u001b[0;34m,\u001b[0m \u001b[0my_train\u001b[0m\u001b[0;34m,\u001b[0m \u001b[0mmodel\u001b[0m\u001b[0;34m=\u001b[0m\u001b[0mRandomForestClassifier\u001b[0m\u001b[0;34m(\u001b[0m\u001b[0;34m)\u001b[0m\u001b[0;34m,\u001b[0m \u001b[0mnames\u001b[0m\u001b[0;34m=\u001b[0m\u001b[0mfeature_lst\u001b[0m\u001b[0;34m,\u001b[0m \u001b[0mn\u001b[0m\u001b[0;34m=\u001b[0m\u001b[0;36m39\u001b[0m\u001b[0;34m)\u001b[0m\u001b[0;34m\u001b[0m\u001b[0;34m\u001b[0m\u001b[0m\n\u001b[0m",
            "\u001b[0;32m<ipython-input-43-d402b9051802>\u001b[0m in \u001b[0;36mfeature_selector\u001b[0;34m(X, y, model, names, _method, n, fit_X, thres)\u001b[0m\n\u001b[1;32m     24\u001b[0m     \u001b[0mcorr_features\u001b[0m \u001b[0;34m=\u001b[0m \u001b[0mlist\u001b[0m\u001b[0;34m(\u001b[0m\u001b[0mnp\u001b[0m\u001b[0;34m.\u001b[0m\u001b[0margpartition\u001b[0m\u001b[0;34m(\u001b[0m\u001b[0mSelectKBest\u001b[0m\u001b[0;34m(\u001b[0m\u001b[0mscore_func\u001b[0m\u001b[0;34m=\u001b[0m\u001b[0mf_classif\u001b[0m\u001b[0;34m,\u001b[0m \u001b[0mk\u001b[0m\u001b[0;34m=\u001b[0m\u001b[0mn\u001b[0m\u001b[0;34m)\u001b[0m\u001b[0;34m.\u001b[0m\u001b[0mfit\u001b[0m\u001b[0;34m(\u001b[0m\u001b[0mX\u001b[0m\u001b[0;34m,\u001b[0m\u001b[0my\u001b[0m\u001b[0;34m)\u001b[0m\u001b[0;34m.\u001b[0m\u001b[0mscores_\u001b[0m\u001b[0;34m,\u001b[0m \u001b[0;34m-\u001b[0m\u001b[0mn\u001b[0m\u001b[0;34m)\u001b[0m\u001b[0;34m[\u001b[0m\u001b[0;34m-\u001b[0m\u001b[0mn\u001b[0m\u001b[0;34m:\u001b[0m\u001b[0;34m]\u001b[0m\u001b[0;34m[\u001b[0m\u001b[0;34m:\u001b[0m\u001b[0;34m:\u001b[0m\u001b[0;34m-\u001b[0m\u001b[0;36m1\u001b[0m\u001b[0;34m]\u001b[0m\u001b[0;34m)\u001b[0m\u001b[0;34m\u001b[0m\u001b[0;34m\u001b[0m\u001b[0m\n\u001b[1;32m     25\u001b[0m     \u001b[0;31m#### binary masking on features, use np.where() to get the indices of selected\u001b[0m\u001b[0;34m\u001b[0m\u001b[0;34m\u001b[0m\u001b[0m\n\u001b[0;32m---> 26\u001b[0;31m     \u001b[0mrfe_features\u001b[0m \u001b[0;34m=\u001b[0m \u001b[0mlist\u001b[0m\u001b[0;34m(\u001b[0m\u001b[0mnp\u001b[0m\u001b[0;34m.\u001b[0m\u001b[0mwhere\u001b[0m\u001b[0;34m(\u001b[0m\u001b[0mRFE\u001b[0m\u001b[0;34m(\u001b[0m\u001b[0mmodel\u001b[0m\u001b[0;34m,\u001b[0m \u001b[0mn_features_to_select\u001b[0m\u001b[0;34m=\u001b[0m\u001b[0mn\u001b[0m\u001b[0;34m,\u001b[0m \u001b[0mstep\u001b[0m\u001b[0;34m=\u001b[0m\u001b[0;36m1\u001b[0m\u001b[0;34m)\u001b[0m\u001b[0;34m.\u001b[0m\u001b[0mfit\u001b[0m\u001b[0;34m(\u001b[0m\u001b[0mX\u001b[0m\u001b[0;34m,\u001b[0m \u001b[0my\u001b[0m\u001b[0;34m)\u001b[0m\u001b[0;34m.\u001b[0m\u001b[0msupport_\u001b[0m\u001b[0;34m)\u001b[0m\u001b[0;34m[\u001b[0m\u001b[0;36m0\u001b[0m\u001b[0;34m]\u001b[0m\u001b[0;34m)\u001b[0m\u001b[0;34m\u001b[0m\u001b[0;34m\u001b[0m\u001b[0m\n\u001b[0m\u001b[1;32m     27\u001b[0m     \u001b[0;31m#### argsort get sorted indices by values, ::-1] reverse the asceding order\u001b[0m\u001b[0;34m\u001b[0m\u001b[0;34m\u001b[0m\u001b[0m\n\u001b[1;32m     28\u001b[0m     \u001b[0mridge_features\u001b[0m \u001b[0;34m=\u001b[0m \u001b[0mlist\u001b[0m\u001b[0;34m(\u001b[0m\u001b[0mnp\u001b[0m\u001b[0;34m.\u001b[0m\u001b[0margsort\u001b[0m\u001b[0;34m(\u001b[0m\u001b[0mRidge\u001b[0m\u001b[0;34m(\u001b[0m\u001b[0malpha\u001b[0m\u001b[0;34m=\u001b[0m\u001b[0;36m1.0\u001b[0m\u001b[0;34m)\u001b[0m\u001b[0;34m.\u001b[0m\u001b[0mfit\u001b[0m\u001b[0;34m(\u001b[0m\u001b[0mX\u001b[0m\u001b[0;34m,\u001b[0m \u001b[0my\u001b[0m\u001b[0;34m)\u001b[0m\u001b[0;34m.\u001b[0m\u001b[0mcoef_\u001b[0m\u001b[0;34m)\u001b[0m\u001b[0;34m[\u001b[0m\u001b[0;34m-\u001b[0m\u001b[0mn\u001b[0m\u001b[0;34m:\u001b[0m\u001b[0;34m]\u001b[0m\u001b[0;34m[\u001b[0m\u001b[0;34m:\u001b[0m\u001b[0;34m:\u001b[0m\u001b[0;34m-\u001b[0m\u001b[0;36m1\u001b[0m\u001b[0;34m]\u001b[0m\u001b[0;34m)\u001b[0m\u001b[0;34m\u001b[0m\u001b[0;34m\u001b[0m\u001b[0m\n",
            "\u001b[0;32m/usr/local/lib/python3.10/dist-packages/sklearn/feature_selection/_rfe.py\u001b[0m in \u001b[0;36mfit\u001b[0;34m(self, X, y, **fit_params)\u001b[0m\n\u001b[1;32m    249\u001b[0m         \"\"\"\n\u001b[1;32m    250\u001b[0m         \u001b[0mself\u001b[0m\u001b[0;34m.\u001b[0m\u001b[0m_validate_params\u001b[0m\u001b[0;34m(\u001b[0m\u001b[0;34m)\u001b[0m\u001b[0;34m\u001b[0m\u001b[0;34m\u001b[0m\u001b[0m\n\u001b[0;32m--> 251\u001b[0;31m         \u001b[0;32mreturn\u001b[0m \u001b[0mself\u001b[0m\u001b[0;34m.\u001b[0m\u001b[0m_fit\u001b[0m\u001b[0;34m(\u001b[0m\u001b[0mX\u001b[0m\u001b[0;34m,\u001b[0m \u001b[0my\u001b[0m\u001b[0;34m,\u001b[0m \u001b[0;34m**\u001b[0m\u001b[0mfit_params\u001b[0m\u001b[0;34m)\u001b[0m\u001b[0;34m\u001b[0m\u001b[0;34m\u001b[0m\u001b[0m\n\u001b[0m\u001b[1;32m    252\u001b[0m \u001b[0;34m\u001b[0m\u001b[0m\n\u001b[1;32m    253\u001b[0m     \u001b[0;32mdef\u001b[0m \u001b[0m_fit\u001b[0m\u001b[0;34m(\u001b[0m\u001b[0mself\u001b[0m\u001b[0;34m,\u001b[0m \u001b[0mX\u001b[0m\u001b[0;34m,\u001b[0m \u001b[0my\u001b[0m\u001b[0;34m,\u001b[0m \u001b[0mstep_score\u001b[0m\u001b[0;34m=\u001b[0m\u001b[0;32mNone\u001b[0m\u001b[0;34m,\u001b[0m \u001b[0;34m**\u001b[0m\u001b[0mfit_params\u001b[0m\u001b[0;34m)\u001b[0m\u001b[0;34m:\u001b[0m\u001b[0;34m\u001b[0m\u001b[0;34m\u001b[0m\u001b[0m\n",
            "\u001b[0;32m/usr/local/lib/python3.10/dist-packages/sklearn/feature_selection/_rfe.py\u001b[0m in \u001b[0;36m_fit\u001b[0;34m(self, X, y, step_score, **fit_params)\u001b[0m\n\u001b[1;32m    297\u001b[0m                 \u001b[0mprint\u001b[0m\u001b[0;34m(\u001b[0m\u001b[0;34m\"Fitting estimator with %d features.\"\u001b[0m \u001b[0;34m%\u001b[0m \u001b[0mnp\u001b[0m\u001b[0;34m.\u001b[0m\u001b[0msum\u001b[0m\u001b[0;34m(\u001b[0m\u001b[0msupport_\u001b[0m\u001b[0;34m)\u001b[0m\u001b[0;34m)\u001b[0m\u001b[0;34m\u001b[0m\u001b[0;34m\u001b[0m\u001b[0m\n\u001b[1;32m    298\u001b[0m \u001b[0;34m\u001b[0m\u001b[0m\n\u001b[0;32m--> 299\u001b[0;31m             \u001b[0mestimator\u001b[0m\u001b[0;34m.\u001b[0m\u001b[0mfit\u001b[0m\u001b[0;34m(\u001b[0m\u001b[0mX\u001b[0m\u001b[0;34m[\u001b[0m\u001b[0;34m:\u001b[0m\u001b[0;34m,\u001b[0m \u001b[0mfeatures\u001b[0m\u001b[0;34m]\u001b[0m\u001b[0;34m,\u001b[0m \u001b[0my\u001b[0m\u001b[0;34m,\u001b[0m \u001b[0;34m**\u001b[0m\u001b[0mfit_params\u001b[0m\u001b[0;34m)\u001b[0m\u001b[0;34m\u001b[0m\u001b[0;34m\u001b[0m\u001b[0m\n\u001b[0m\u001b[1;32m    300\u001b[0m \u001b[0;34m\u001b[0m\u001b[0m\n\u001b[1;32m    301\u001b[0m             \u001b[0;31m# Get importance and rank them\u001b[0m\u001b[0;34m\u001b[0m\u001b[0;34m\u001b[0m\u001b[0m\n",
            "\u001b[0;32m/usr/local/lib/python3.10/dist-packages/sklearn/ensemble/_forest.py\u001b[0m in \u001b[0;36mfit\u001b[0;34m(self, X, y, sample_weight)\u001b[0m\n\u001b[1;32m    471\u001b[0m             \u001b[0;31m# parallel_backend contexts set at a higher level,\u001b[0m\u001b[0;34m\u001b[0m\u001b[0;34m\u001b[0m\u001b[0m\n\u001b[1;32m    472\u001b[0m             \u001b[0;31m# since correctness does not rely on using threads.\u001b[0m\u001b[0;34m\u001b[0m\u001b[0;34m\u001b[0m\u001b[0m\n\u001b[0;32m--> 473\u001b[0;31m             trees = Parallel(\n\u001b[0m\u001b[1;32m    474\u001b[0m                 \u001b[0mn_jobs\u001b[0m\u001b[0;34m=\u001b[0m\u001b[0mself\u001b[0m\u001b[0;34m.\u001b[0m\u001b[0mn_jobs\u001b[0m\u001b[0;34m,\u001b[0m\u001b[0;34m\u001b[0m\u001b[0;34m\u001b[0m\u001b[0m\n\u001b[1;32m    475\u001b[0m                 \u001b[0mverbose\u001b[0m\u001b[0;34m=\u001b[0m\u001b[0mself\u001b[0m\u001b[0;34m.\u001b[0m\u001b[0mverbose\u001b[0m\u001b[0;34m,\u001b[0m\u001b[0;34m\u001b[0m\u001b[0;34m\u001b[0m\u001b[0m\n",
            "\u001b[0;32m/usr/local/lib/python3.10/dist-packages/sklearn/utils/parallel.py\u001b[0m in \u001b[0;36m__call__\u001b[0;34m(self, iterable)\u001b[0m\n\u001b[1;32m     61\u001b[0m             \u001b[0;32mfor\u001b[0m \u001b[0mdelayed_func\u001b[0m\u001b[0;34m,\u001b[0m \u001b[0margs\u001b[0m\u001b[0;34m,\u001b[0m \u001b[0mkwargs\u001b[0m \u001b[0;32min\u001b[0m \u001b[0miterable\u001b[0m\u001b[0;34m\u001b[0m\u001b[0;34m\u001b[0m\u001b[0m\n\u001b[1;32m     62\u001b[0m         )\n\u001b[0;32m---> 63\u001b[0;31m         \u001b[0;32mreturn\u001b[0m \u001b[0msuper\u001b[0m\u001b[0;34m(\u001b[0m\u001b[0;34m)\u001b[0m\u001b[0;34m.\u001b[0m\u001b[0m__call__\u001b[0m\u001b[0;34m(\u001b[0m\u001b[0miterable_with_config\u001b[0m\u001b[0;34m)\u001b[0m\u001b[0;34m\u001b[0m\u001b[0;34m\u001b[0m\u001b[0m\n\u001b[0m\u001b[1;32m     64\u001b[0m \u001b[0;34m\u001b[0m\u001b[0m\n\u001b[1;32m     65\u001b[0m \u001b[0;34m\u001b[0m\u001b[0m\n",
            "\u001b[0;32m/usr/local/lib/python3.10/dist-packages/joblib/parallel.py\u001b[0m in \u001b[0;36m__call__\u001b[0;34m(self, iterable)\u001b[0m\n\u001b[1;32m   1086\u001b[0m                 \u001b[0mself\u001b[0m\u001b[0;34m.\u001b[0m\u001b[0m_iterating\u001b[0m \u001b[0;34m=\u001b[0m \u001b[0mself\u001b[0m\u001b[0;34m.\u001b[0m\u001b[0m_original_iterator\u001b[0m \u001b[0;32mis\u001b[0m \u001b[0;32mnot\u001b[0m \u001b[0;32mNone\u001b[0m\u001b[0;34m\u001b[0m\u001b[0;34m\u001b[0m\u001b[0m\n\u001b[1;32m   1087\u001b[0m \u001b[0;34m\u001b[0m\u001b[0m\n\u001b[0;32m-> 1088\u001b[0;31m             \u001b[0;32mwhile\u001b[0m \u001b[0mself\u001b[0m\u001b[0;34m.\u001b[0m\u001b[0mdispatch_one_batch\u001b[0m\u001b[0;34m(\u001b[0m\u001b[0miterator\u001b[0m\u001b[0;34m)\u001b[0m\u001b[0;34m:\u001b[0m\u001b[0;34m\u001b[0m\u001b[0;34m\u001b[0m\u001b[0m\n\u001b[0m\u001b[1;32m   1089\u001b[0m                 \u001b[0;32mpass\u001b[0m\u001b[0;34m\u001b[0m\u001b[0;34m\u001b[0m\u001b[0m\n\u001b[1;32m   1090\u001b[0m \u001b[0;34m\u001b[0m\u001b[0m\n",
            "\u001b[0;32m/usr/local/lib/python3.10/dist-packages/joblib/parallel.py\u001b[0m in \u001b[0;36mdispatch_one_batch\u001b[0;34m(self, iterator)\u001b[0m\n\u001b[1;32m    899\u001b[0m                 \u001b[0;32mreturn\u001b[0m \u001b[0;32mFalse\u001b[0m\u001b[0;34m\u001b[0m\u001b[0;34m\u001b[0m\u001b[0m\n\u001b[1;32m    900\u001b[0m             \u001b[0;32melse\u001b[0m\u001b[0;34m:\u001b[0m\u001b[0;34m\u001b[0m\u001b[0;34m\u001b[0m\u001b[0m\n\u001b[0;32m--> 901\u001b[0;31m                 \u001b[0mself\u001b[0m\u001b[0;34m.\u001b[0m\u001b[0m_dispatch\u001b[0m\u001b[0;34m(\u001b[0m\u001b[0mtasks\u001b[0m\u001b[0;34m)\u001b[0m\u001b[0;34m\u001b[0m\u001b[0;34m\u001b[0m\u001b[0m\n\u001b[0m\u001b[1;32m    902\u001b[0m                 \u001b[0;32mreturn\u001b[0m \u001b[0;32mTrue\u001b[0m\u001b[0;34m\u001b[0m\u001b[0;34m\u001b[0m\u001b[0m\n\u001b[1;32m    903\u001b[0m \u001b[0;34m\u001b[0m\u001b[0m\n",
            "\u001b[0;32m/usr/local/lib/python3.10/dist-packages/joblib/parallel.py\u001b[0m in \u001b[0;36m_dispatch\u001b[0;34m(self, batch)\u001b[0m\n\u001b[1;32m    817\u001b[0m         \u001b[0;32mwith\u001b[0m \u001b[0mself\u001b[0m\u001b[0;34m.\u001b[0m\u001b[0m_lock\u001b[0m\u001b[0;34m:\u001b[0m\u001b[0;34m\u001b[0m\u001b[0;34m\u001b[0m\u001b[0m\n\u001b[1;32m    818\u001b[0m             \u001b[0mjob_idx\u001b[0m \u001b[0;34m=\u001b[0m \u001b[0mlen\u001b[0m\u001b[0;34m(\u001b[0m\u001b[0mself\u001b[0m\u001b[0;34m.\u001b[0m\u001b[0m_jobs\u001b[0m\u001b[0;34m)\u001b[0m\u001b[0;34m\u001b[0m\u001b[0;34m\u001b[0m\u001b[0m\n\u001b[0;32m--> 819\u001b[0;31m             \u001b[0mjob\u001b[0m \u001b[0;34m=\u001b[0m \u001b[0mself\u001b[0m\u001b[0;34m.\u001b[0m\u001b[0m_backend\u001b[0m\u001b[0;34m.\u001b[0m\u001b[0mapply_async\u001b[0m\u001b[0;34m(\u001b[0m\u001b[0mbatch\u001b[0m\u001b[0;34m,\u001b[0m \u001b[0mcallback\u001b[0m\u001b[0;34m=\u001b[0m\u001b[0mcb\u001b[0m\u001b[0;34m)\u001b[0m\u001b[0;34m\u001b[0m\u001b[0;34m\u001b[0m\u001b[0m\n\u001b[0m\u001b[1;32m    820\u001b[0m             \u001b[0;31m# A job can complete so quickly than its callback is\u001b[0m\u001b[0;34m\u001b[0m\u001b[0;34m\u001b[0m\u001b[0m\n\u001b[1;32m    821\u001b[0m             \u001b[0;31m# called before we get here, causing self._jobs to\u001b[0m\u001b[0;34m\u001b[0m\u001b[0;34m\u001b[0m\u001b[0m\n",
            "\u001b[0;32m/usr/local/lib/python3.10/dist-packages/joblib/_parallel_backends.py\u001b[0m in \u001b[0;36mapply_async\u001b[0;34m(self, func, callback)\u001b[0m\n\u001b[1;32m    206\u001b[0m     \u001b[0;32mdef\u001b[0m \u001b[0mapply_async\u001b[0m\u001b[0;34m(\u001b[0m\u001b[0mself\u001b[0m\u001b[0;34m,\u001b[0m \u001b[0mfunc\u001b[0m\u001b[0;34m,\u001b[0m \u001b[0mcallback\u001b[0m\u001b[0;34m=\u001b[0m\u001b[0;32mNone\u001b[0m\u001b[0;34m)\u001b[0m\u001b[0;34m:\u001b[0m\u001b[0;34m\u001b[0m\u001b[0;34m\u001b[0m\u001b[0m\n\u001b[1;32m    207\u001b[0m         \u001b[0;34m\"\"\"Schedule a func to be run\"\"\"\u001b[0m\u001b[0;34m\u001b[0m\u001b[0;34m\u001b[0m\u001b[0m\n\u001b[0;32m--> 208\u001b[0;31m         \u001b[0mresult\u001b[0m \u001b[0;34m=\u001b[0m \u001b[0mImmediateResult\u001b[0m\u001b[0;34m(\u001b[0m\u001b[0mfunc\u001b[0m\u001b[0;34m)\u001b[0m\u001b[0;34m\u001b[0m\u001b[0;34m\u001b[0m\u001b[0m\n\u001b[0m\u001b[1;32m    209\u001b[0m         \u001b[0;32mif\u001b[0m \u001b[0mcallback\u001b[0m\u001b[0;34m:\u001b[0m\u001b[0;34m\u001b[0m\u001b[0;34m\u001b[0m\u001b[0m\n\u001b[1;32m    210\u001b[0m             \u001b[0mcallback\u001b[0m\u001b[0;34m(\u001b[0m\u001b[0mresult\u001b[0m\u001b[0;34m)\u001b[0m\u001b[0;34m\u001b[0m\u001b[0;34m\u001b[0m\u001b[0m\n",
            "\u001b[0;32m/usr/local/lib/python3.10/dist-packages/joblib/_parallel_backends.py\u001b[0m in \u001b[0;36m__init__\u001b[0;34m(self, batch)\u001b[0m\n\u001b[1;32m    595\u001b[0m         \u001b[0;31m# Don't delay the application, to avoid keeping the input\u001b[0m\u001b[0;34m\u001b[0m\u001b[0;34m\u001b[0m\u001b[0m\n\u001b[1;32m    596\u001b[0m         \u001b[0;31m# arguments in memory\u001b[0m\u001b[0;34m\u001b[0m\u001b[0;34m\u001b[0m\u001b[0m\n\u001b[0;32m--> 597\u001b[0;31m         \u001b[0mself\u001b[0m\u001b[0;34m.\u001b[0m\u001b[0mresults\u001b[0m \u001b[0;34m=\u001b[0m \u001b[0mbatch\u001b[0m\u001b[0;34m(\u001b[0m\u001b[0;34m)\u001b[0m\u001b[0;34m\u001b[0m\u001b[0;34m\u001b[0m\u001b[0m\n\u001b[0m\u001b[1;32m    598\u001b[0m \u001b[0;34m\u001b[0m\u001b[0m\n\u001b[1;32m    599\u001b[0m     \u001b[0;32mdef\u001b[0m \u001b[0mget\u001b[0m\u001b[0;34m(\u001b[0m\u001b[0mself\u001b[0m\u001b[0;34m)\u001b[0m\u001b[0;34m:\u001b[0m\u001b[0;34m\u001b[0m\u001b[0;34m\u001b[0m\u001b[0m\n",
            "\u001b[0;32m/usr/local/lib/python3.10/dist-packages/joblib/parallel.py\u001b[0m in \u001b[0;36m__call__\u001b[0;34m(self)\u001b[0m\n\u001b[1;32m    286\u001b[0m         \u001b[0;31m# change the default number of processes to -1\u001b[0m\u001b[0;34m\u001b[0m\u001b[0;34m\u001b[0m\u001b[0m\n\u001b[1;32m    287\u001b[0m         \u001b[0;32mwith\u001b[0m \u001b[0mparallel_backend\u001b[0m\u001b[0;34m(\u001b[0m\u001b[0mself\u001b[0m\u001b[0;34m.\u001b[0m\u001b[0m_backend\u001b[0m\u001b[0;34m,\u001b[0m \u001b[0mn_jobs\u001b[0m\u001b[0;34m=\u001b[0m\u001b[0mself\u001b[0m\u001b[0;34m.\u001b[0m\u001b[0m_n_jobs\u001b[0m\u001b[0;34m)\u001b[0m\u001b[0;34m:\u001b[0m\u001b[0;34m\u001b[0m\u001b[0;34m\u001b[0m\u001b[0m\n\u001b[0;32m--> 288\u001b[0;31m             return [func(*args, **kwargs)\n\u001b[0m\u001b[1;32m    289\u001b[0m                     for func, args, kwargs in self.items]\n\u001b[1;32m    290\u001b[0m \u001b[0;34m\u001b[0m\u001b[0m\n",
            "\u001b[0;32m/usr/local/lib/python3.10/dist-packages/joblib/parallel.py\u001b[0m in \u001b[0;36m<listcomp>\u001b[0;34m(.0)\u001b[0m\n\u001b[1;32m    286\u001b[0m         \u001b[0;31m# change the default number of processes to -1\u001b[0m\u001b[0;34m\u001b[0m\u001b[0;34m\u001b[0m\u001b[0m\n\u001b[1;32m    287\u001b[0m         \u001b[0;32mwith\u001b[0m \u001b[0mparallel_backend\u001b[0m\u001b[0;34m(\u001b[0m\u001b[0mself\u001b[0m\u001b[0;34m.\u001b[0m\u001b[0m_backend\u001b[0m\u001b[0;34m,\u001b[0m \u001b[0mn_jobs\u001b[0m\u001b[0;34m=\u001b[0m\u001b[0mself\u001b[0m\u001b[0;34m.\u001b[0m\u001b[0m_n_jobs\u001b[0m\u001b[0;34m)\u001b[0m\u001b[0;34m:\u001b[0m\u001b[0;34m\u001b[0m\u001b[0;34m\u001b[0m\u001b[0m\n\u001b[0;32m--> 288\u001b[0;31m             return [func(*args, **kwargs)\n\u001b[0m\u001b[1;32m    289\u001b[0m                     for func, args, kwargs in self.items]\n\u001b[1;32m    290\u001b[0m \u001b[0;34m\u001b[0m\u001b[0m\n",
            "\u001b[0;32m/usr/local/lib/python3.10/dist-packages/sklearn/utils/parallel.py\u001b[0m in \u001b[0;36m__call__\u001b[0;34m(self, *args, **kwargs)\u001b[0m\n\u001b[1;32m    121\u001b[0m             \u001b[0mconfig\u001b[0m \u001b[0;34m=\u001b[0m \u001b[0;34m{\u001b[0m\u001b[0;34m}\u001b[0m\u001b[0;34m\u001b[0m\u001b[0;34m\u001b[0m\u001b[0m\n\u001b[1;32m    122\u001b[0m         \u001b[0;32mwith\u001b[0m \u001b[0mconfig_context\u001b[0m\u001b[0;34m(\u001b[0m\u001b[0;34m**\u001b[0m\u001b[0mconfig\u001b[0m\u001b[0;34m)\u001b[0m\u001b[0;34m:\u001b[0m\u001b[0;34m\u001b[0m\u001b[0;34m\u001b[0m\u001b[0m\n\u001b[0;32m--> 123\u001b[0;31m             \u001b[0;32mreturn\u001b[0m \u001b[0mself\u001b[0m\u001b[0;34m.\u001b[0m\u001b[0mfunction\u001b[0m\u001b[0;34m(\u001b[0m\u001b[0;34m*\u001b[0m\u001b[0margs\u001b[0m\u001b[0;34m,\u001b[0m \u001b[0;34m**\u001b[0m\u001b[0mkwargs\u001b[0m\u001b[0;34m)\u001b[0m\u001b[0;34m\u001b[0m\u001b[0;34m\u001b[0m\u001b[0m\n\u001b[0m",
            "\u001b[0;32m/usr/local/lib/python3.10/dist-packages/sklearn/ensemble/_forest.py\u001b[0m in \u001b[0;36m_parallel_build_trees\u001b[0;34m(tree, bootstrap, X, y, sample_weight, tree_idx, n_trees, verbose, class_weight, n_samples_bootstrap)\u001b[0m\n\u001b[1;32m    182\u001b[0m             \u001b[0mcurr_sample_weight\u001b[0m \u001b[0;34m*=\u001b[0m \u001b[0mcompute_sample_weight\u001b[0m\u001b[0;34m(\u001b[0m\u001b[0;34m\"balanced\"\u001b[0m\u001b[0;34m,\u001b[0m \u001b[0my\u001b[0m\u001b[0;34m,\u001b[0m \u001b[0mindices\u001b[0m\u001b[0;34m=\u001b[0m\u001b[0mindices\u001b[0m\u001b[0;34m)\u001b[0m\u001b[0;34m\u001b[0m\u001b[0;34m\u001b[0m\u001b[0m\n\u001b[1;32m    183\u001b[0m \u001b[0;34m\u001b[0m\u001b[0m\n\u001b[0;32m--> 184\u001b[0;31m         \u001b[0mtree\u001b[0m\u001b[0;34m.\u001b[0m\u001b[0mfit\u001b[0m\u001b[0;34m(\u001b[0m\u001b[0mX\u001b[0m\u001b[0;34m,\u001b[0m \u001b[0my\u001b[0m\u001b[0;34m,\u001b[0m \u001b[0msample_weight\u001b[0m\u001b[0;34m=\u001b[0m\u001b[0mcurr_sample_weight\u001b[0m\u001b[0;34m,\u001b[0m \u001b[0mcheck_input\u001b[0m\u001b[0;34m=\u001b[0m\u001b[0;32mFalse\u001b[0m\u001b[0;34m)\u001b[0m\u001b[0;34m\u001b[0m\u001b[0;34m\u001b[0m\u001b[0m\n\u001b[0m\u001b[1;32m    185\u001b[0m     \u001b[0;32melse\u001b[0m\u001b[0;34m:\u001b[0m\u001b[0;34m\u001b[0m\u001b[0;34m\u001b[0m\u001b[0m\n\u001b[1;32m    186\u001b[0m         \u001b[0mtree\u001b[0m\u001b[0;34m.\u001b[0m\u001b[0mfit\u001b[0m\u001b[0;34m(\u001b[0m\u001b[0mX\u001b[0m\u001b[0;34m,\u001b[0m \u001b[0my\u001b[0m\u001b[0;34m,\u001b[0m \u001b[0msample_weight\u001b[0m\u001b[0;34m=\u001b[0m\u001b[0msample_weight\u001b[0m\u001b[0;34m,\u001b[0m \u001b[0mcheck_input\u001b[0m\u001b[0;34m=\u001b[0m\u001b[0;32mFalse\u001b[0m\u001b[0;34m)\u001b[0m\u001b[0;34m\u001b[0m\u001b[0;34m\u001b[0m\u001b[0m\n",
            "\u001b[0;32m/usr/local/lib/python3.10/dist-packages/sklearn/tree/_classes.py\u001b[0m in \u001b[0;36mfit\u001b[0;34m(self, X, y, sample_weight, check_input)\u001b[0m\n\u001b[1;32m    887\u001b[0m         \"\"\"\n\u001b[1;32m    888\u001b[0m \u001b[0;34m\u001b[0m\u001b[0m\n\u001b[0;32m--> 889\u001b[0;31m         super().fit(\n\u001b[0m\u001b[1;32m    890\u001b[0m             \u001b[0mX\u001b[0m\u001b[0;34m,\u001b[0m\u001b[0;34m\u001b[0m\u001b[0;34m\u001b[0m\u001b[0m\n\u001b[1;32m    891\u001b[0m             \u001b[0my\u001b[0m\u001b[0;34m,\u001b[0m\u001b[0;34m\u001b[0m\u001b[0;34m\u001b[0m\u001b[0m\n",
            "\u001b[0;32m/usr/local/lib/python3.10/dist-packages/sklearn/tree/_classes.py\u001b[0m in \u001b[0;36mfit\u001b[0;34m(self, X, y, sample_weight, check_input)\u001b[0m\n\u001b[1;32m    377\u001b[0m             )\n\u001b[1;32m    378\u001b[0m \u001b[0;34m\u001b[0m\u001b[0m\n\u001b[0;32m--> 379\u001b[0;31m         \u001b[0mbuilder\u001b[0m\u001b[0;34m.\u001b[0m\u001b[0mbuild\u001b[0m\u001b[0;34m(\u001b[0m\u001b[0mself\u001b[0m\u001b[0;34m.\u001b[0m\u001b[0mtree_\u001b[0m\u001b[0;34m,\u001b[0m \u001b[0mX\u001b[0m\u001b[0;34m,\u001b[0m \u001b[0my\u001b[0m\u001b[0;34m,\u001b[0m \u001b[0msample_weight\u001b[0m\u001b[0;34m)\u001b[0m\u001b[0;34m\u001b[0m\u001b[0;34m\u001b[0m\u001b[0m\n\u001b[0m\u001b[1;32m    380\u001b[0m \u001b[0;34m\u001b[0m\u001b[0m\n\u001b[1;32m    381\u001b[0m         \u001b[0;32mif\u001b[0m \u001b[0mself\u001b[0m\u001b[0;34m.\u001b[0m\u001b[0mn_outputs_\u001b[0m \u001b[0;34m==\u001b[0m \u001b[0;36m1\u001b[0m \u001b[0;32mand\u001b[0m \u001b[0mis_classifier\u001b[0m\u001b[0;34m(\u001b[0m\u001b[0mself\u001b[0m\u001b[0;34m)\u001b[0m\u001b[0;34m:\u001b[0m\u001b[0;34m\u001b[0m\u001b[0;34m\u001b[0m\u001b[0m\n",
            "\u001b[0;31mKeyboardInterrupt\u001b[0m: "
          ]
        }
      ]
    },
    {
      "cell_type": "code",
      "source": [
        "#Top 39\n",
        "\n",
        "top39 = ['Loan Amount', 'Funded Amount', 'Funded Amount Investor',\n",
        "       'Interest Rate', 'Home Ownership', 'Debit to Income',\n",
        "       'Delinquency - two years', 'Open Account', 'Revolving Balance',\n",
        "       'Revolving Utilities', 'Total Accounts', 'Total Received Interest',\n",
        "       'Total Received Late Fee', 'Recoveries', 'Collection Recovery Fee',\n",
        "       'Last week Pay', 'Total Collection Amount',\n",
        "       'Total Current Balance', 'Total Revolving Credit Limit', 'Term_59',\n",
        "       'Grade_A', 'Grade_B', 'Grade_C', 'Grade_D', 'Grade_E',\n",
        "       'Sub Grade_B4', 'Sub Grade_B5', 'Employment Duration_MORTGAGE',\n",
        "       'Employment Duration_OWN', 'Employment Duration_RENT',\n",
        "       'Verification Status_Not Verified',\n",
        "       'Verification Status_Source Verified',\n",
        "       'Verification Status_Verified',\n",
        "       'Loan Title_Credit card refinancing',\n",
        "       'Loan Title_Debt Consolidation', 'Loan Title_Other',\n",
        "       'Inquires - six months_0', 'Initial List Status_f',\n",
        "       'Initial List Status_w']"
      ],
      "metadata": {
        "id": "nbRvR7RzZ0zc"
      },
      "execution_count": 124,
      "outputs": []
    },
    {
      "cell_type": "markdown",
      "source": [
        "###Top n Features"
      ],
      "metadata": {
        "id": "nNrdphDdkqy-"
      }
    },
    {
      "cell_type": "markdown",
      "source": [
        "##Balancing the Data with SMOTE"
      ],
      "metadata": {
        "id": "AqQwsFwOgBzr"
      }
    },
    {
      "cell_type": "code",
      "source": [
        "sm = SMOTE(random_state = 2023) \n",
        "\n",
        "# X_train = X_train[top39] reducing the number of features did not provide a better model\n",
        "\n",
        "X_train, y_train = sm.fit_resample(X_train, y_train) \n",
        "\n",
        "# I dont want the model to learn from the order of the data\n",
        "X_train, y_train = shuffle(X_train, y_train)"
      ],
      "metadata": {
        "id": "NP4TM_J2gE08"
      },
      "execution_count": 125,
      "outputs": []
    },
    {
      "cell_type": "markdown",
      "source": [
        "##Model Candidacy"
      ],
      "metadata": {
        "id": "U3XcM1Y3bSfd"
      }
    },
    {
      "cell_type": "code",
      "source": [
        "models = {\n",
        "  \"dt\": DecisionTreeClassifier(random_state=RANDOM_STATE, max_depth=10),\n",
        "  \"lr\": LogisticRegression(max_iter=2000),\n",
        "  \"svc\": LinearSVC(max_iter=5000),\n",
        "  \"gnb\": GaussianNB(),\n",
        "  \"rf\": RandomForestClassifier(max_depth=10),\n",
        "  \"sgd\": SGDClassifier(loss=\"hinge\"),\n",
        "  \"gb\": GradientBoostingClassifier(), ### takes long to train, commented out for demo purpose\n",
        "  \"xgbc\" : XGBClassifier()\n",
        "\n",
        "}\n",
        "\n",
        "\n",
        "## Number of folds in k-old\n",
        "k = 10\n",
        "### f1-macro used since it's a multiclass classification problem\n",
        "### use f1 if binary\n",
        "METRICS = ['f1_macro', 'roc_auc', 'recall_weighted', 'recall'] ### also, AUC is not supported for multi-class problems\n",
        "ROUNDS = 1 ## evaluation rounds\n",
        "\n",
        "\n",
        "# combine this code with eval code from comp 1\n",
        "\n",
        "# 4 scores must be generated --> F1 Bias, Variance, AUC Bias and Variance\n",
        "\n",
        "def model_eval(X_res, y_res, models, metrics=METRICS, k=k, rounds=ROUNDS):\n",
        "  \"\"\"evaluating multiple models\"\"\"\n",
        "  res = {}\n",
        "  \n",
        "  # sm = SMOTE(random_state = RANDOM_STATE)\n",
        "  # X_res, y_res = sm.fit_resample(X1, y)\n",
        "  for model_name, classifier in models.items():\n",
        "    print(\"training {} ...\".format(classifier))\n",
        "    scores = []\n",
        "    for i in tqdm(range(rounds)):\n",
        "      np.random.seed(RANDOM_STATE)\n",
        "      random_int = np.random.randint(0,3000)\n",
        "      kfold = model_selection.KFold(n_splits=k, random_state=random_int, shuffle=True)\n",
        "      scores.append(model_selection.cross_val_score(classifier, X=X_res, y=y_res, cv=kfold, scoring=metrics))\n",
        "    # res['Score'] = np.array(scores).flatten()\n",
        "\n",
        "    # bias[model_name + 'bias'] = 1 - round(np.array(scores).mean(),4)\n",
        "    # variance[model_name + '_variance'] = round(np.array(scores).std(),4)\n",
        "    res[model_name] = np.array(scores).flatten()\n",
        "    # bias[model_name + '_bias'] = 1 - round(np.array(scores).mean(),4)\n",
        "    # variance[model_name + '_variance'] = round(np.array(scores).std(),4)   \n",
        "  return res"
      ],
      "metadata": {
        "id": "-6AXezG-EwoW"
      },
      "execution_count": 126,
      "outputs": []
    },
    {
      "cell_type": "code",
      "source": [
        "#Used after scores are pushed into dataframes in order to create df strcitly \n",
        "#for bias and variance scores\n",
        "\n",
        "def get_bivar(df):\n",
        "  '''\n",
        "  -Takes a dataframe as a parameter.\n",
        "  -Creates 3 list for model name, bias score and variance score.\n",
        "  -Lists are apended into the bivar dictionary to be turned into a DF after the\n",
        "  function is run.\n",
        "\n",
        "  '''\n",
        "\n",
        "  name = []\n",
        "  bias = []\n",
        "  variance = []\n",
        "\n",
        "  bivar = {}\n",
        "\n",
        "  for col in df.columns:\n",
        "    name.append(col)\n",
        "    bias.append(1 - round(np.array(df[col]).mean(),4))\n",
        "    variance.append(round(np.array(df[col]).std(),4))\n",
        "\n",
        "  bivar['model'] = name\n",
        "  bivar['bias'] = bias\n",
        "  bivar['var'] = variance\n",
        "\n",
        "  return bivar"
      ],
      "metadata": {
        "id": "npmKA1IDFDEn"
      },
      "execution_count": 49,
      "outputs": []
    },
    {
      "cell_type": "code",
      "source": [
        "# recall_scores = pd.DataFrame(model_eval(X_train, y_train, models, metrics = \"recall\"))\n",
        "\n",
        "# out_path = '/content/drive/MyDrive/DATA6999:Capstone/recall_scores'\n",
        "# recall_scores.to_csv(out_path)\n",
        "\n",
        "recall_scores = pd.read_csv('/content/drive/MyDrive/DATA6999:Capstone/recall_scores0')"
      ],
      "metadata": {
        "id": "XlVfdc_fFLEx"
      },
      "execution_count": 91,
      "outputs": []
    },
    {
      "cell_type": "code",
      "source": [
        "recall_bivar = pd.DataFrame(get_bivar(recall_scores.drop('Unnamed: 0', axis=1)))"
      ],
      "metadata": {
        "id": "LuQuMGDFFXW0"
      },
      "execution_count": 97,
      "outputs": []
    },
    {
      "cell_type": "code",
      "source": [
        "recall_scores.drop('Unnamed: 0', axis=1), recall_bivar"
      ],
      "metadata": {
        "id": "xbLMIpQABJDp",
        "colab": {
          "base_uri": "https://localhost:8080/"
        },
        "outputId": "925ccfef-b786-4822-ca20-3d0c76a8bbd1"
      },
      "execution_count": 98,
      "outputs": [
        {
          "output_type": "execute_result",
          "data": {
            "text/plain": [
              "(         dt        lr       svc       gnb        rf       sgd        gb  \\\n",
              " 0  0.688244  0.548997  0.563998  0.778412  0.839230  0.636882  0.872493   \n",
              " 1  0.676743  0.560291  0.548563  0.777833  0.830525  0.606871  0.866369   \n",
              " 2  0.686596  0.549310  0.558570  0.780666  0.831682  0.483834  0.865313   \n",
              " 3  0.698343  0.552307  0.550032  0.782976  0.834958  0.628493  0.873457   \n",
              " 4  0.676704  0.539259  0.564999  0.772220  0.836976  0.553505  0.868221   \n",
              " 5  0.691334  0.562079  0.538727  0.788357  0.837362  0.566519  0.869758   \n",
              " 6  0.666013  0.549894  0.526539  0.777723  0.821166  0.547444  0.858403   \n",
              " 7  0.702462  0.562366  0.561209  0.780439  0.836775  0.573930  0.860565   \n",
              " 8  0.682276  0.549268  0.479024  0.782439  0.833496  0.537073  0.866016   \n",
              " 9  0.695765  0.553257  0.504723  0.780782  0.831596  0.485016  0.864658   \n",
              " \n",
              "        xgbc  \n",
              " 0  0.901190  \n",
              " 1  0.896597  \n",
              " 2  0.895857  \n",
              " 3  0.903346  \n",
              " 4  0.899790  \n",
              " 5  0.901003  \n",
              " 6  0.885024  \n",
              " 7  0.892946  \n",
              " 8  0.899350  \n",
              " 9  0.899186  ,\n",
              "   model    bias     var\n",
              " 0    dt  0.3136  0.0107\n",
              " 1    lr  0.4473  0.0068\n",
              " 2   svc  0.4604  0.0270\n",
              " 3   gnb  0.2198  0.0040\n",
              " 4    rf  0.1666  0.0049\n",
              " 5   sgd  0.4380  0.0501\n",
              " 6    gb  0.1335  0.0045\n",
              " 7  xgbc  0.1026  0.0050)"
            ]
          },
          "metadata": {},
          "execution_count": 98
        }
      ]
    },
    {
      "cell_type": "code",
      "source": [
        "barplot = pd.pivot_table(recall_bivar, index=['model'], values = ['bias','var']).sort_values('var').plot(kind = 'bar')\n",
        "plt.title('Recall | Model Biases and Variances')\n",
        "\n",
        "\n",
        "\n",
        "plt.style.use('seaborn')"
      ],
      "metadata": {
        "id": "syjjFhFTHycZ",
        "colab": {
          "base_uri": "https://localhost:8080/",
          "height": 594
        },
        "outputId": "72bc9831-f7b3-4613-da2b-0f6d4680d037"
      },
      "execution_count": 99,
      "outputs": [
        {
          "output_type": "stream",
          "name": "stderr",
          "text": [
            "<ipython-input-99-dbda2be7abf9>:6: MatplotlibDeprecationWarning: The seaborn styles shipped by Matplotlib are deprecated since 3.6, as they no longer correspond to the styles shipped by seaborn. However, they will remain available as 'seaborn-v0_8-<style>'. Alternatively, directly use the seaborn API instead.\n",
            "  plt.style.use('seaborn')\n"
          ]
        },
        {
          "output_type": "display_data",
          "data": {
            "text/plain": [
              "<Figure size 800x550 with 1 Axes>"
            ],
            "image/png": "[encoded data removed]"
          },
          "metadata": {}
        }
      ]
    },
    {
      "cell_type": "markdown",
      "source": [
        "##Hyperparameter Tuning"
      ],
      "metadata": {
        "id": "A2dRJL5LFnwU"
      }
    },
    {
      "cell_type": "code",
      "source": [
        "\n",
        "import xgboost as xgb\n",
        "\n",
        "XGB_params  = {\n",
        "        'final_estimator__n_estimators': [100, 200, 500],\n",
        "        'final_estimator__learning_rate': [0.01, 0.1, 0.3],\n",
        "        'final_estimator__max_depth': [3, 6, 10],\n",
        "    }\n",
        "#Random Search\n",
        "random_XGB = RandomizedSearchCV(estimator=XGBClassifier(), scoring='recall', param_distributions=XGB_params, cv = 3, n_jobs=-1)\n",
        "\n",
        "start_time = time.time()\n",
        "random_xgb_result = random_XGB.fit(X_train, y_train)\n",
        "# Summarize results\n",
        "print(\"Best: %f using %s\" % (random_xgb_result.best_score_, random_xgb_result.best_params_))\n",
        "print(\"Execution time: \" + str((time.time() - start_time)) + ' ms')"
      ],
      "metadata": {
        "id": "mMTA2YMJYR5H",
        "colab": {
          "base_uri": "https://localhost:8080/"
        },
        "outputId": "3b96e631-3dca-48f0-d66f-ce7ac3054b6f"
      },
      "execution_count": 100,
      "outputs": [
        {
          "output_type": "stream",
          "name": "stdout",
          "text": [
            "[13:22:36] WARNING: ../src/learner.cc:767: \n",
            "Parameters: { \"final_estimator__learning_rate\", \"final_estimator__max_depth\", \"final_estimator__n_estimators\" } are not used.\n",
            "\n",
            "Best: 0.895298 using {'final_estimator__n_estimators': 100, 'final_estimator__max_depth': 3, 'final_estimator__learning_rate': 0.1}\n",
            "Execution time: 1692.5491535663605 ms\n"
          ]
        }
      ]
    },
    {
      "cell_type": "code",
      "source": [
        "xgb = XGBClassifier(n_estimators= 500, max_depth= 10, learning_rate= 0.3)\n",
        "\n",
        "xgb.fit(X_train, y_train)"
      ],
      "metadata": {
        "id": "zKbjSJxaQvrD",
        "colab": {
          "base_uri": "https://localhost:8080/",
          "height": 247
        },
        "outputId": "5b6d27ab-9159-4ba0-d9ea-89b9e7069e58"
      },
      "execution_count": 101,
      "outputs": [
        {
          "output_type": "execute_result",
          "data": {
            "text/plain": [
              "XGBClassifier(base_score=None, booster=None, callbacks=None,\n",
              "              colsample_bylevel=None, colsample_bynode=None,\n",
              "              colsample_bytree=None, early_stopping_rounds=None,\n",
              "              enable_categorical=False, eval_metric=None, feature_types=None,\n",
              "              gamma=None, gpu_id=None, grow_policy=None, importance_type=None,\n",
              "              interaction_constraints=None, learning_rate=0.3, max_bin=None,\n",
              "              max_cat_threshold=None, max_cat_to_onehot=None,\n",
              "              max_delta_step=None, max_depth=10, max_leaves=None,\n",
              "              min_child_weight=None, missing=nan, monotone_constraints=None,\n",
              "              n_estimators=500, n_jobs=None, num_parallel_tree=None,\n",
              "              predictor=None, random_state=None, ...)"
            ],
            "text/html": [
              "<style>#sk-container-id-1 {color: black;background-color: white;}#sk-container-id-1 pre{padding: 0;}#sk-container-id-1 div.sk-toggleable {background-color: white;}#sk-container-id-1 label.sk-toggleable__label {cursor: pointer;display: block;width: 100%;margin-bottom: 0;padding: 0.3em;box-sizing: border-box;text-align: center;}#sk-container-id-1 label.sk-toggleable__label-arrow:before {content: \"▸\";float: left;margin-right: 0.25em;color: #696969;}#sk-container-id-1 label.sk-toggleable__label-arrow:hover:before {color: black;}#sk-container-id-1 div.sk-estimator:hover label.sk-toggleable__label-arrow:before {color: black;}#sk-container-id-1 div.sk-toggleable__content {max-height: 0;max-width: 0;overflow: hidden;text-align: left;background-color: #f0f8ff;}#sk-container-id-1 div.sk-toggleable__content pre {margin: 0.2em;color: black;border-radius: 0.25em;background-color: #f0f8ff;}#sk-container-id-1 input.sk-toggleable__control:checked~div.sk-toggleable__content {max-height: 200px;max-width: 100%;overflow: auto;}#sk-container-id-1 input.sk-toggleable__control:checked~label.sk-toggleable__label-arrow:before {content: \"▾\";}#sk-container-id-1 div.sk-estimator input.sk-toggleable__control:checked~label.sk-toggleable__label {background-color: #d4ebff;}#sk-container-id-1 div.sk-label input.sk-toggleable__control:checked~label.sk-toggleable__label {background-color: #d4ebff;}#sk-container-id-1 input.sk-hidden--visually {border: 0;clip: rect(1px 1px 1px 1px);clip: rect(1px, 1px, 1px, 1px);height: 1px;margin: -1px;overflow: hidden;padding: 0;position: absolute;width: 1px;}#sk-container-id-1 div.sk-estimator {font-family: monospace;background-color: #f0f8ff;border: 1px dotted black;border-radius: 0.25em;box-sizing: border-box;margin-bottom: 0.5em;}#sk-container-id-1 div.sk-estimator:hover {background-color: #d4ebff;}#sk-container-id-1 div.sk-parallel-item::after {content: \"\";width: 100%;border-bottom: 1px solid gray;flex-grow: 1;}#sk-container-id-1 div.sk-label:hover label.sk-toggleable__label {background-color: #d4ebff;}#sk-container-id-1 div.sk-serial::before {content: \"\";position: absolute;border-left: 1px solid gray;box-sizing: border-box;top: 0;bottom: 0;left: 50%;z-index: 0;}#sk-container-id-1 div.sk-serial {display: flex;flex-direction: column;align-items: center;background-color: white;padding-right: 0.2em;padding-left: 0.2em;position: relative;}#sk-container-id-1 div.sk-item {position: relative;z-index: 1;}#sk-container-id-1 div.sk-parallel {display: flex;align-items: stretch;justify-content: center;background-color: white;position: relative;}#sk-container-id-1 div.sk-item::before, #sk-container-id-1 div.sk-parallel-item::before {content: \"\";position: absolute;border-left: 1px solid gray;box-sizing: border-box;top: 0;bottom: 0;left: 50%;z-index: -1;}#sk-container-id-1 div.sk-parallel-item {display: flex;flex-direction: column;z-index: 1;position: relative;background-color: white;}#sk-container-id-1 div.sk-parallel-item:first-child::after {align-self: flex-end;width: 50%;}#sk-container-id-1 div.sk-parallel-item:last-child::after {align-self: flex-start;width: 50%;}#sk-container-id-1 div.sk-parallel-item:only-child::after {width: 0;}#sk-container-id-1 div.sk-dashed-wrapped {border: 1px dashed gray;margin: 0 0.4em 0.5em 0.4em;box-sizing: border-box;padding-bottom: 0.4em;background-color: white;}#sk-container-id-1 div.sk-label label {font-family: monospace;font-weight: bold;display: inline-block;line-height: 1.2em;}#sk-container-id-1 div.sk-label-container {text-align: center;}#sk-container-id-1 div.sk-container {/* jupyter's `normalize.less` sets `[hidden] { display: none; }` but bootstrap.min.css set `[hidden] { display: none !important; }` so we also need the `!important` here to be able to override the default hidden behavior on the sphinx rendered scikit-learn.org. See: https://github.com/scikit-learn/scikit-learn/issues/21755 */display: inline-block !important;position: relative;}#sk-container-id-1 div.sk-text-repr-fallback {display: none;}</style><div id=\"sk-container-id-1\" class=\"sk-top-container\"><div class=\"sk-text-repr-fallback\"><pre>XGBClassifier(base_score=None, booster=None, callbacks=None,\n",
              "              colsample_bylevel=None, colsample_bynode=None,\n",
              "              colsample_bytree=None, early_stopping_rounds=None,\n",
              "              enable_categorical=False, eval_metric=None, feature_types=None,\n",
              "              gamma=None, gpu_id=None, grow_policy=None, importance_type=None,\n",
              "              interaction_constraints=None, learning_rate=0.3, max_bin=None,\n",
              "              max_cat_threshold=None, max_cat_to_onehot=None,\n",
              "              max_delta_step=None, max_depth=10, max_leaves=None,\n",
              "              min_child_weight=None, missing=nan, monotone_constraints=None,\n",
              "              n_estimators=500, n_jobs=None, num_parallel_tree=None,\n",
              "              predictor=None, random_state=None, ...)</pre><b>In a Jupyter environment, please rerun this cell to show the HTML representation or trust the notebook. <br />On GitHub, the HTML representation is unable to render, please try loading this page with nbviewer.org.</b></div><div class=\"sk-container\" hidden><div class=\"sk-item\"><div class=\"sk-estimator sk-toggleable\"><input class=\"sk-toggleable__control sk-hidden--visually\" id=\"sk-estimator-id-1\" type=\"checkbox\" checked><label for=\"sk-estimator-id-1\" class=\"sk-toggleable__label sk-toggleable__label-arrow\">XGBClassifier</label><div class=\"sk-toggleable__content\"><pre>XGBClassifier(base_score=None, booster=None, callbacks=None,\n",
              "              colsample_bylevel=None, colsample_bynode=None,\n",
              "              colsample_bytree=None, early_stopping_rounds=None,\n",
              "              enable_categorical=False, eval_metric=None, feature_types=None,\n",
              "              gamma=None, gpu_id=None, grow_policy=None, importance_type=None,\n",
              "              interaction_constraints=None, learning_rate=0.3, max_bin=None,\n",
              "              max_cat_threshold=None, max_cat_to_onehot=None,\n",
              "              max_delta_step=None, max_depth=10, max_leaves=None,\n",
              "              min_child_weight=None, missing=nan, monotone_constraints=None,\n",
              "              n_estimators=500, n_jobs=None, num_parallel_tree=None,\n",
              "              predictor=None, random_state=None, ...)</pre></div></div></div></div></div>"
            ]
          },
          "metadata": {},
          "execution_count": 101
        }
      ]
    },
    {
      "cell_type": "code",
      "source": [
        "feature_imp = pd.Series(xgb.feature_importances_,index=X_train.columns).sort_values(ascending=False)\n",
        "\n",
        "top25 = feature_imp.index[:25]\n",
        "\n",
        "sns.barplot(x=feature_imp[top25], y=top25)\n",
        "# Add labels to your graph\n",
        "plt.xlabel('Feature Importance Score')\n",
        "plt.ylabel('Features')\n",
        "plt.title(\"Visualizing Important Features\")\n",
        "#plt.legend(iris.feature_names)\n",
        "plt.show()"
      ],
      "metadata": {
        "id": "InPCTUvQEdQU",
        "colab": {
          "base_uri": "https://localhost:8080/",
          "height": 524
        },
        "outputId": "e3758c23-3e09-4360-c3e1-e01ca2629e84"
      },
      "execution_count": 162,
      "outputs": [
        {
          "output_type": "display_data",
          "data": {
            "text/plain": [
              "<Figure size 800x550 with 1 Axes>"
            ],
            "image/png": "[encoded data removed]"
          },
          "metadata": {}
        }
      ]
    },
    {
      "cell_type": "code",
      "source": [
        "y_pred = xgb.predict(X_test)\n",
        "\n",
        "y_pred"
      ],
      "metadata": {
        "id": "BczOXSRZRKfU",
        "colab": {
          "base_uri": "https://localhost:8080/"
        },
        "outputId": "14b80da2-f42c-4c01-97cb-e7251790725e"
      },
      "execution_count": 140,
      "outputs": [
        {
          "output_type": "execute_result",
          "data": {
            "text/plain": [
              "array([0, 0, 0, ..., 0, 0, 0])"
            ]
          },
          "metadata": {},
          "execution_count": 140
        }
      ]
    },
    {
      "cell_type": "code",
      "source": [
        "from sklearn.metrics import accuracy_score\n",
        "from sklearn.metrics import recall_score\n",
        "\n",
        " \n",
        "\n",
        "print(recall_score( y_test, y_pred, average='micro'))"
      ],
      "metadata": {
        "colab": {
          "base_uri": "https://localhost:8080/"
        },
        "id": "tAZJEz3202HS",
        "outputId": "6f3bfa5e-3a92-4446-f318-03653de495c7"
      },
      "execution_count": 141,
      "outputs": [
        {
          "output_type": "stream",
          "name": "stdout",
          "text": [
            "0.9073593715259765\n"
          ]
        }
      ]
    },
    {
      "cell_type": "code",
      "source": [
        "import tensorflow as tf\n",
        "from tensorflow import keras\n",
        "\n",
        "from keras.models import Sequential\n",
        "from keras.layers import Activation, Dense, Input, BatchNormalization\n",
        "from keras.optimizers import Adam\n",
        "from keras.metrics import categorical_crossentropy\n",
        "from keras.models import Model\n",
        "from tensorflow.keras.layers import Dropout\n",
        "\n",
        "from keras.callbacks import EarlyStopping, ModelCheckpoint"
      ],
      "metadata": {
        "id": "ep8w4jCGbWdw"
      },
      "execution_count": 105,
      "outputs": []
    },
    {
      "cell_type": "code",
      "source": [
        "X_train.head()"
      ],
      "metadata": {
        "colab": {
          "base_uri": "https://localhost:8080/",
          "height": 334
        },
        "id": "LkPkn4OmxmIl",
        "outputId": "80861041-928c-41f9-8ac5-9dd20c23a5e6"
      },
      "execution_count": 106,
      "outputs": [
        {
          "output_type": "execute_result",
          "data": {
            "text/plain": [
              "       Loan Amount  Funded Amount  Funded Amount Investor  Interest Rate  \\\n",
              "45164     0.159610      -1.112802                0.593521      -0.058053   \n",
              "74111    -1.105420       0.939740               -0.688035      -0.896664   \n",
              "85689     0.133613       0.362792               -1.033844       0.672701   \n",
              "23591     1.590426       0.456149               -0.572667      -0.566099   \n",
              "21093    -0.033683       0.808619                1.068764      -0.277594   \n",
              "\n",
              "       Home Ownership  Debit to Income  Delinquency - two years  Open Account  \\\n",
              "45164        0.020996        -1.553796                 1.818119      1.199848   \n",
              "74111       -0.450474         1.302325                -0.544000      0.384550   \n",
              "85689        1.619448         0.203644                 1.818119      0.694181   \n",
              "23591        0.946524         0.162386                -0.544000      1.304937   \n",
              "21093       -1.325822         0.877375                -0.544000      0.215120   \n",
              "\n",
              "       Revolving Balance  Revolving Utilities  ...  Public Record_1  \\\n",
              "45164           0.214861             0.145457  ...              0.0   \n",
              "74111          -0.110720             0.876065  ...              0.0   \n",
              "85689           1.509762            -0.854014  ...              0.0   \n",
              "23591          -2.817039             1.431779  ...              0.0   \n",
              "21093           1.205347            -1.075505  ...              0.0   \n",
              "\n",
              "       Public Record_2  Public Record_3  Public Record_4  \\\n",
              "45164              0.0              0.0              0.0   \n",
              "74111              0.0              0.0              0.0   \n",
              "85689              0.0              0.0              0.0   \n",
              "23591              0.0              0.0              0.0   \n",
              "21093              0.0              0.0              0.0   \n",
              "\n",
              "       Initial List Status_f  Initial List Status_w  \\\n",
              "45164               0.000000               1.000000   \n",
              "74111               0.039354               0.960646   \n",
              "85689               0.000000               1.000000   \n",
              "23591               0.000000               1.000000   \n",
              "21093               0.000000               1.000000   \n",
              "\n",
              "       Collection 12 months Medical_0  Collection 12 months Medical_1  \\\n",
              "45164                             1.0                             0.0   \n",
              "74111                             1.0                             0.0   \n",
              "85689                             1.0                             0.0   \n",
              "23591                             1.0                             0.0   \n",
              "21093                             1.0                             0.0   \n",
              "\n",
              "       Application Type_INDIVIDUAL  Application Type_JOINT  \n",
              "45164                          1.0                     0.0  \n",
              "74111                          1.0                     0.0  \n",
              "85689                          1.0                     0.0  \n",
              "23591                          1.0                     0.0  \n",
              "21093                          1.0                     0.0  \n",
              "\n",
              "[5 rows x 90 columns]"
            ],
            "text/html": [
              "\n",
              "  <div id=\"df-9cc7f74a-780a-4e6a-9930-3bcca6f24e02\">\n",
              "    <div class=\"colab-df-container\">\n",
              "      <div>\n",
              "<style scoped>\n",
              "    .dataframe tbody tr th:only-of-type {\n",
              "        vertical-align: middle;\n",
              "    }\n",
              "\n",
              "    .dataframe tbody tr th {\n",
              "        vertical-align: top;\n",
              "    }\n",
              "\n",
              "    .dataframe thead th {\n",
              "        text-align: right;\n",
              "    }\n",
              "</style>\n",
              "<table border=\"1\" class=\"dataframe\">\n",
              "  <thead>\n",
              "    <tr style=\"text-align: right;\">\n",
              "      <th></th>\n",
              "      <th>Loan Amount</th>\n",
              "      <th>Funded Amount</th>\n",
              "      <th>Funded Amount Investor</th>\n",
              "      <th>Interest Rate</th>\n",
              "      <th>Home Ownership</th>\n",
              "      <th>Debit to Income</th>\n",
              "      <th>Delinquency - two years</th>\n",
              "      <th>Open Account</th>\n",
              "      <th>Revolving Balance</th>\n",
              "      <th>Revolving Utilities</th>\n",
              "      <th>...</th>\n",
              "      <th>Public Record_1</th>\n",
              "      <th>Public Record_2</th>\n",
              "      <th>Public Record_3</th>\n",
              "      <th>Public Record_4</th>\n",
              "      <th>Initial List Status_f</th>\n",
              "      <th>Initial List Status_w</th>\n",
              "      <th>Collection 12 months Medical_0</th>\n",
              "      <th>Collection 12 months Medical_1</th>\n",
              "      <th>Application Type_INDIVIDUAL</th>\n",
              "      <th>Application Type_JOINT</th>\n",
              "    </tr>\n",
              "  </thead>\n",
              "  <tbody>\n",
              "    <tr>\n",
              "      <th>45164</th>\n",
              "      <td>0.159610</td>\n",
              "      <td>-1.112802</td>\n",
              "      <td>0.593521</td>\n",
              "      <td>-0.058053</td>\n",
              "      <td>0.020996</td>\n",
              "      <td>-1.553796</td>\n",
              "      <td>1.818119</td>\n",
              "      <td>1.199848</td>\n",
              "      <td>0.214861</td>\n",
              "      <td>0.145457</td>\n",
              "      <td>...</td>\n",
              "      <td>0.0</td>\n",
              "      <td>0.0</td>\n",
              "      <td>0.0</td>\n",
              "      <td>0.0</td>\n",
              "      <td>0.000000</td>\n",
              "      <td>1.000000</td>\n",
              "      <td>1.0</td>\n",
              "      <td>0.0</td>\n",
              "      <td>1.0</td>\n",
              "      <td>0.0</td>\n",
              "    </tr>\n",
              "    <tr>\n",
              "      <th>74111</th>\n",
              "      <td>-1.105420</td>\n",
              "      <td>0.939740</td>\n",
              "      <td>-0.688035</td>\n",
              "      <td>-0.896664</td>\n",
              "      <td>-0.450474</td>\n",
              "      <td>1.302325</td>\n",
              "      <td>-0.544000</td>\n",
              "      <td>0.384550</td>\n",
              "      <td>-0.110720</td>\n",
              "      <td>0.876065</td>\n",
              "      <td>...</td>\n",
              "      <td>0.0</td>\n",
              "      <td>0.0</td>\n",
              "      <td>0.0</td>\n",
              "      <td>0.0</td>\n",
              "      <td>0.039354</td>\n",
              "      <td>0.960646</td>\n",
              "      <td>1.0</td>\n",
              "      <td>0.0</td>\n",
              "      <td>1.0</td>\n",
              "      <td>0.0</td>\n",
              "    </tr>\n",
              "    <tr>\n",
              "      <th>85689</th>\n",
              "      <td>0.133613</td>\n",
              "      <td>0.362792</td>\n",
              "      <td>-1.033844</td>\n",
              "      <td>0.672701</td>\n",
              "      <td>1.619448</td>\n",
              "      <td>0.203644</td>\n",
              "      <td>1.818119</td>\n",
              "      <td>0.694181</td>\n",
              "      <td>1.509762</td>\n",
              "      <td>-0.854014</td>\n",
              "      <td>...</td>\n",
              "      <td>0.0</td>\n",
              "      <td>0.0</td>\n",
              "      <td>0.0</td>\n",
              "      <td>0.0</td>\n",
              "      <td>0.000000</td>\n",
              "      <td>1.000000</td>\n",
              "      <td>1.0</td>\n",
              "      <td>0.0</td>\n",
              "      <td>1.0</td>\n",
              "      <td>0.0</td>\n",
              "    </tr>\n",
              "    <tr>\n",
              "      <th>23591</th>\n",
              "      <td>1.590426</td>\n",
              "      <td>0.456149</td>\n",
              "      <td>-0.572667</td>\n",
              "      <td>-0.566099</td>\n",
              "      <td>0.946524</td>\n",
              "      <td>0.162386</td>\n",
              "      <td>-0.544000</td>\n",
              "      <td>1.304937</td>\n",
              "      <td>-2.817039</td>\n",
              "      <td>1.431779</td>\n",
              "      <td>...</td>\n",
              "      <td>0.0</td>\n",
              "      <td>0.0</td>\n",
              "      <td>0.0</td>\n",
              "      <td>0.0</td>\n",
              "      <td>0.000000</td>\n",
              "      <td>1.000000</td>\n",
              "      <td>1.0</td>\n",
              "      <td>0.0</td>\n",
              "      <td>1.0</td>\n",
              "      <td>0.0</td>\n",
              "    </tr>\n",
              "    <tr>\n",
              "      <th>21093</th>\n",
              "      <td>-0.033683</td>\n",
              "      <td>0.808619</td>\n",
              "      <td>1.068764</td>\n",
              "      <td>-0.277594</td>\n",
              "      <td>-1.325822</td>\n",
              "      <td>0.877375</td>\n",
              "      <td>-0.544000</td>\n",
              "      <td>0.215120</td>\n",
              "      <td>1.205347</td>\n",
              "      <td>-1.075505</td>\n",
              "      <td>...</td>\n",
              "      <td>0.0</td>\n",
              "      <td>0.0</td>\n",
              "      <td>0.0</td>\n",
              "      <td>0.0</td>\n",
              "      <td>0.000000</td>\n",
              "      <td>1.000000</td>\n",
              "      <td>1.0</td>\n",
              "      <td>0.0</td>\n",
              "      <td>1.0</td>\n",
              "      <td>0.0</td>\n",
              "    </tr>\n",
              "  </tbody>\n",
              "</table>\n",
              "<p>5 rows × 90 columns</p>\n",
              "</div>\n",
              "      <button class=\"colab-df-convert\" onclick=\"convertToInteractive('df-9cc7f74a-780a-4e6a-9930-3bcca6f24e02')\"\n",
              "              title=\"Convert this dataframe to an interactive table.\"\n",
              "              style=\"display:none;\">\n",
              "        \n",
              "  <svg xmlns=\"http://www.w3.org/2000/svg\" height=\"24px\"viewBox=\"0 0 24 24\"\n",
              "       width=\"24px\">\n",
              "    <path d=\"M0 0h24v24H0V0z\" fill=\"none\"/>\n",
              "    <path d=\"M18.56 5.44l.94 2.06.94-2.06 2.06-.94-2.06-.94-.94-2.06-.94 2.06-2.06.94zm-11 1L8.5 8.5l.94-2.06 2.06-.94-2.06-.94L8.5 2.5l-.94 2.06-2.06.94zm10 10l.94 2.06.94-2.06 2.06-.94-2.06-.94-.94-2.06-.94 2.06-2.06.94z\"/><path d=\"M17.41 7.96l-1.37-1.37c-.4-.4-.92-.59-1.43-.59-.52 0-1.04.2-1.43.59L10.3 9.45l-7.72 7.72c-.78.78-.78 2.05 0 2.83L4 21.41c.39.39.9.59 1.41.59.51 0 1.02-.2 1.41-.59l7.78-7.78 2.81-2.81c.8-.78.8-2.07 0-2.86zM5.41 20L4 18.59l7.72-7.72 1.47 1.35L5.41 20z\"/>\n",
              "  </svg>\n",
              "      </button>\n",
              "      \n",
              "  <style>\n",
              "    .colab-df-container {\n",
              "      display:flex;\n",
              "      flex-wrap:wrap;\n",
              "      gap: 12px;\n",
              "    }\n",
              "\n",
              "    .colab-df-convert {\n",
              "      background-color: #E8F0FE;\n",
              "      border: none;\n",
              "      border-radius: 50%;\n",
              "      cursor: pointer;\n",
              "      display: none;\n",
              "      fill: #1967D2;\n",
              "      height: 32px;\n",
              "      padding: 0 0 0 0;\n",
              "      width: 32px;\n",
              "    }\n",
              "\n",
              "    .colab-df-convert:hover {\n",
              "      background-color: #E2EBFA;\n",
              "      box-shadow: 0px 1px 2px rgba(60, 64, 67, 0.3), 0px 1px 3px 1px rgba(60, 64, 67, 0.15);\n",
              "      fill: #174EA6;\n",
              "    }\n",
              "\n",
              "    [theme=dark] .colab-df-convert {\n",
              "      background-color: #3B4455;\n",
              "      fill: #D2E3FC;\n",
              "    }\n",
              "\n",
              "    [theme=dark] .colab-df-convert:hover {\n",
              "      background-color: #434B5C;\n",
              "      box-shadow: 0px 1px 3px 1px rgba(0, 0, 0, 0.15);\n",
              "      filter: drop-shadow(0px 1px 2px rgba(0, 0, 0, 0.3));\n",
              "      fill: #FFFFFF;\n",
              "    }\n",
              "  </style>\n",
              "\n",
              "      <script>\n",
              "        const buttonEl =\n",
              "          document.querySelector('#df-9cc7f74a-780a-4e6a-9930-3bcca6f24e02 button.colab-df-convert');\n",
              "        buttonEl.style.display =\n",
              "          google.colab.kernel.accessAllowed ? 'block' : 'none';\n",
              "\n",
              "        async function convertToInteractive(key) {\n",
              "          const element = document.querySelector('#df-9cc7f74a-780a-4e6a-9930-3bcca6f24e02');\n",
              "          const dataTable =\n",
              "            await google.colab.kernel.invokeFunction('convertToInteractive',\n",
              "                                                     [key], {});\n",
              "          if (!dataTable) return;\n",
              "\n",
              "          const docLinkHtml = 'Like what you see? Visit the ' +\n",
              "            '<a target=\"_blank\" href=https://colab.research.google.com/notebooks/data_table.ipynb>data table notebook</a>'\n",
              "            + ' to learn more about interactive tables.';\n",
              "          element.innerHTML = '';\n",
              "          dataTable['output_type'] = 'display_data';\n",
              "          await google.colab.output.renderOutput(dataTable, element);\n",
              "          const docLink = document.createElement('div');\n",
              "          docLink.innerHTML = docLinkHtml;\n",
              "          element.appendChild(docLink);\n",
              "        }\n",
              "      </script>\n",
              "    </div>\n",
              "  </div>\n",
              "  "
            ]
          },
          "metadata": {},
          "execution_count": 106
        }
      ]
    },
    {
      "cell_type": "code",
      "source": [
        "#create the input layer\n",
        "input_layer = Input(shape=(90, ))\n",
        "\n",
        "h1 = Dense(256, activation='relu')(input_layer)\n",
        "# norm1 = BatchNormalization()(hidden_1)\n",
        "d1 = Dropout(0.2)(h1)\n",
        "h2 = Dense(256, activation='relu')(d1)\n",
        "# norm2 = BatchNormalization()(hidden_2)\n",
        "d2 = Dropout(0.2)(h2)\n",
        "h3 = Dense(256, activation='relu')(d2)\n",
        "output = Dense(1, activation='sigmoid')(h3)\n",
        "\n",
        "\n",
        "\n",
        "\n"
      ],
      "metadata": {
        "id": "-QWtbnu3e1Aa"
      },
      "execution_count": 83,
      "outputs": []
    },
    {
      "cell_type": "code",
      "source": [
        "model = Model(inputs=input_layer, outputs=output)"
      ],
      "metadata": {
        "id": "LFSKJgvnFWGs"
      },
      "execution_count": 84,
      "outputs": []
    },
    {
      "cell_type": "code",
      "source": [
        "monitor_val_acc = EarlyStopping(monitor='val_accuracy', patience = 2)\n",
        "\n",
        "model_checkpoint = ModelCheckpoint('best_loan_pred_model.hdf5', save_best_only = True)"
      ],
      "metadata": {
        "id": "0NYL57VUhWT6"
      },
      "execution_count": 85,
      "outputs": []
    },
    {
      "cell_type": "code",
      "source": [
        "model.compile(optimizer='adam', loss='binary_crossentropy', metrics=['accuracy'])"
      ],
      "metadata": {
        "id": "m11p7BdShDX8"
      },
      "execution_count": 86,
      "outputs": []
    },
    {
      "cell_type": "code",
      "source": [
        "\n",
        "history = model.fit(X_train, y_train ,validation_split=.2, epochs=20, batch_size=512, verbose=2, callbacks =[monitor_val_acc, model_checkpoint])"
      ],
      "metadata": {
        "id": "XnFC_lLjhE3O",
        "colab": {
          "base_uri": "https://localhost:8080/"
        },
        "outputId": "42e0faa4-c383-48d4-fc7d-ff8421d8692c"
      },
      "execution_count": 87,
      "outputs": [
        {
          "output_type": "stream",
          "name": "stdout",
          "text": [
            "Epoch 1/20\n",
            "154/154 - 6s - loss: 0.6305 - accuracy: 0.6413 - val_loss: 0.5646 - val_accuracy: 0.7147 - 6s/epoch - 40ms/step\n",
            "Epoch 2/20\n",
            "154/154 - 3s - loss: 0.5502 - accuracy: 0.7220 - val_loss: 0.4932 - val_accuracy: 0.7590 - 3s/epoch - 18ms/step\n",
            "Epoch 3/20\n",
            "154/154 - 3s - loss: 0.4647 - accuracy: 0.7826 - val_loss: 0.4158 - val_accuracy: 0.8077 - 3s/epoch - 19ms/step\n",
            "Epoch 4/20\n",
            "154/154 - 3s - loss: 0.4043 - accuracy: 0.8186 - val_loss: 0.3433 - val_accuracy: 0.8529 - 3s/epoch - 19ms/step\n",
            "Epoch 5/20\n",
            "154/154 - 4s - loss: 0.3588 - accuracy: 0.8420 - val_loss: 0.3203 - val_accuracy: 0.8652 - 4s/epoch - 27ms/step\n",
            "Epoch 6/20\n",
            "154/154 - 4s - loss: 0.3278 - accuracy: 0.8599 - val_loss: 0.2894 - val_accuracy: 0.8820 - 4s/epoch - 24ms/step\n",
            "Epoch 7/20\n",
            "154/154 - 3s - loss: 0.2984 - accuracy: 0.8744 - val_loss: 0.2716 - val_accuracy: 0.8902 - 3s/epoch - 19ms/step\n",
            "Epoch 8/20\n",
            "154/154 - 3s - loss: 0.2807 - accuracy: 0.8823 - val_loss: 0.2684 - val_accuracy: 0.8894 - 3s/epoch - 19ms/step\n",
            "Epoch 9/20\n",
            "154/154 - 3s - loss: 0.2643 - accuracy: 0.8913 - val_loss: 0.2437 - val_accuracy: 0.9003 - 3s/epoch - 22ms/step\n",
            "Epoch 10/20\n",
            "154/154 - 4s - loss: 0.2495 - accuracy: 0.8973 - val_loss: 0.2264 - val_accuracy: 0.9115 - 4s/epoch - 29ms/step\n",
            "Epoch 11/20\n",
            "154/154 - 3s - loss: 0.2323 - accuracy: 0.9047 - val_loss: 0.2193 - val_accuracy: 0.9120 - 3s/epoch - 18ms/step\n",
            "Epoch 12/20\n",
            "154/154 - 3s - loss: 0.2253 - accuracy: 0.9083 - val_loss: 0.2179 - val_accuracy: 0.9142 - 3s/epoch - 19ms/step\n",
            "Epoch 13/20\n",
            "154/154 - 3s - loss: 0.2094 - accuracy: 0.9147 - val_loss: 0.2097 - val_accuracy: 0.9159 - 3s/epoch - 19ms/step\n",
            "Epoch 14/20\n",
            "154/154 - 4s - loss: 0.2038 - accuracy: 0.9183 - val_loss: 0.1938 - val_accuracy: 0.9212 - 4s/epoch - 27ms/step\n",
            "Epoch 15/20\n",
            "154/154 - 3s - loss: 0.1958 - accuracy: 0.9209 - val_loss: 0.2060 - val_accuracy: 0.9158 - 3s/epoch - 23ms/step\n",
            "Epoch 16/20\n",
            "154/154 - 3s - loss: 0.1905 - accuracy: 0.9237 - val_loss: 0.1929 - val_accuracy: 0.9240 - 3s/epoch - 19ms/step\n",
            "Epoch 17/20\n",
            "154/154 - 3s - loss: 0.1814 - accuracy: 0.9277 - val_loss: 0.1873 - val_accuracy: 0.9254 - 3s/epoch - 19ms/step\n",
            "Epoch 18/20\n",
            "154/154 - 3s - loss: 0.1740 - accuracy: 0.9309 - val_loss: 0.1817 - val_accuracy: 0.9264 - 3s/epoch - 19ms/step\n",
            "Epoch 19/20\n",
            "154/154 - 5s - loss: 0.1643 - accuracy: 0.9348 - val_loss: 0.1714 - val_accuracy: 0.9338 - 5s/epoch - 30ms/step\n",
            "Epoch 20/20\n",
            "154/154 - 3s - loss: 0.1636 - accuracy: 0.9352 - val_loss: 0.1706 - val_accuracy: 0.9335 - 3s/epoch - 19ms/step\n"
          ]
        }
      ]
    },
    {
      "cell_type": "markdown",
      "source": [
        "The XGboostclassifier performed much better than the Sequential model "
      ],
      "metadata": {
        "id": "Djz0oTCVFtNJ"
      }
    },
    {
      "cell_type": "code",
      "source": [
        "#### plot the training history again\n",
        "loss = history.history['loss']\n",
        "val_loss = history.history['val_loss']\n",
        "epochs = range(1, len(loss) + 1)\n",
        "plt.plot(epochs, loss, 'y', label='Training loss')\n",
        "plt.plot(epochs, val_loss, 'r', label='Validation loss')\n",
        "plt.title('Training and validation loss')\n",
        "plt.xlabel('Epochs')\n",
        "plt.ylabel('Loss')\n",
        "plt.legend()\n",
        "plt.show()"
      ],
      "metadata": {
        "colab": {
          "base_uri": "https://localhost:8080/",
          "height": 472
        },
        "id": "c-RJns0-1Jqz",
        "outputId": "0482f6ac-137a-439b-abc7-2aa9400cfe5b"
      },
      "execution_count": 88,
      "outputs": [
        {
          "output_type": "display_data",
          "data": {
            "text/plain": [
              "<Figure size 640x480 with 1 Axes>"
            ],
            "image/png": "[encoded data removed]"
          },
          "metadata": {}
        }
      ]
    },
    {
      "cell_type": "code",
      "source": [
        "nn_y_pred = model.predict(X_test, batch_size=512, verbose=1)\n",
        "nn_y_pred_bool = np.argmax(nn_y_pred, axis=1)"
      ],
      "metadata": {
        "colab": {
          "base_uri": "https://localhost:8080/"
        },
        "id": "H8dstODt1ge3",
        "outputId": "9a5dd038-d769-4581-ca89-2087568d5375"
      },
      "execution_count": 163,
      "outputs": [
        {
          "output_type": "stream",
          "name": "stdout",
          "text": [
            "27/27 [==============================] - 0s 6ms/step\n"
          ]
        }
      ]
    },
    {
      "cell_type": "markdown",
      "source": [
        "## Conclusion:\n",
        "\n",
        "It appears the NN needs some more optimization as it has predicted that all labels ar enot fraud. There is room for future improvements for the XGBoost model however as more feature engineering can be applied to some of the variables which I belive can help XGBoost performance.  "
      ],
      "metadata": {
        "id": "vQAhHg5NzOZ0"
      }
    },
    {
      "cell_type": "code",
      "source": [],
      "metadata": {
        "id": "am9IGBxa39Lm"
      },
      "execution_count": null,
      "outputs": []
    }
  ]
}